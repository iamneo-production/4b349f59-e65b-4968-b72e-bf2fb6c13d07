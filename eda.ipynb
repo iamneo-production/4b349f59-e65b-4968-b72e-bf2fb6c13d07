{
 "cells": [
  {
   "cell_type": "code",
   "execution_count": 4,
   "metadata": {},
   "outputs": [],
   "source": [
    "import pandas as pd\n",
    "import numpy as np\n",
    "import seaborn as sns\n",
    "import matplotlib.pyplot as plt"
   ]
  },
  {
   "attachments": {},
   "cell_type": "markdown",
   "metadata": {},
   "source": [
    "#### EDA for Weather Data"
   ]
  },
  {
   "cell_type": "code",
   "execution_count": 5,
   "metadata": {},
   "outputs": [
    {
     "data": {
      "text/html": [
       "<div>\n",
       "<style scoped>\n",
       "    .dataframe tbody tr th:only-of-type {\n",
       "        vertical-align: middle;\n",
       "    }\n",
       "\n",
       "    .dataframe tbody tr th {\n",
       "        vertical-align: top;\n",
       "    }\n",
       "\n",
       "    .dataframe thead th {\n",
       "        text-align: right;\n",
       "    }\n",
       "</style>\n",
       "<table border=\"1\" class=\"dataframe\">\n",
       "  <thead>\n",
       "    <tr style=\"text-align: right;\">\n",
       "      <th></th>\n",
       "      <th>district</th>\n",
       "      <th>month</th>\n",
       "      <th>cumm_rainfall</th>\n",
       "      <th>temp_min</th>\n",
       "      <th>temp_max</th>\n",
       "      <th>humidity_min</th>\n",
       "      <th>humidity_max</th>\n",
       "      <th>wind_speed_min</th>\n",
       "      <th>wind_speed_max</th>\n",
       "      <th>year</th>\n",
       "    </tr>\n",
       "  </thead>\n",
       "  <tbody>\n",
       "    <tr>\n",
       "      <th>0</th>\n",
       "      <td>Adilabad</td>\n",
       "      <td>Apr</td>\n",
       "      <td>0.421579</td>\n",
       "      <td>25.683860</td>\n",
       "      <td>39.596491</td>\n",
       "      <td>19.607018</td>\n",
       "      <td>55.286842</td>\n",
       "      <td>0.171190</td>\n",
       "      <td>16.647212</td>\n",
       "      <td>2018</td>\n",
       "    </tr>\n",
       "    <tr>\n",
       "      <th>1</th>\n",
       "      <td>Adilabad</td>\n",
       "      <td>Aug</td>\n",
       "      <td>15.750764</td>\n",
       "      <td>23.729881</td>\n",
       "      <td>29.817487</td>\n",
       "      <td>72.372835</td>\n",
       "      <td>92.240577</td>\n",
       "      <td>0.711311</td>\n",
       "      <td>15.942190</td>\n",
       "      <td>2018</td>\n",
       "    </tr>\n",
       "    <tr>\n",
       "      <th>2</th>\n",
       "      <td>Adilabad</td>\n",
       "      <td>Dec</td>\n",
       "      <td>0.314921</td>\n",
       "      <td>14.151937</td>\n",
       "      <td>28.375753</td>\n",
       "      <td>43.218221</td>\n",
       "      <td>88.748637</td>\n",
       "      <td>0.102105</td>\n",
       "      <td>7.016992</td>\n",
       "      <td>2018</td>\n",
       "    </tr>\n",
       "    <tr>\n",
       "      <th>3</th>\n",
       "      <td>Adilabad</td>\n",
       "      <td>Feb</td>\n",
       "      <td>0.608083</td>\n",
       "      <td>17.213722</td>\n",
       "      <td>33.474436</td>\n",
       "      <td>25.258835</td>\n",
       "      <td>66.959774</td>\n",
       "      <td>0.147619</td>\n",
       "      <td>11.622817</td>\n",
       "      <td>2018</td>\n",
       "    </tr>\n",
       "    <tr>\n",
       "      <th>4</th>\n",
       "      <td>Adilabad</td>\n",
       "      <td>Jan</td>\n",
       "      <td>0.000000</td>\n",
       "      <td>12.460951</td>\n",
       "      <td>31.436757</td>\n",
       "      <td>23.637521</td>\n",
       "      <td>69.652971</td>\n",
       "      <td>0.073835</td>\n",
       "      <td>9.502509</td>\n",
       "      <td>2018</td>\n",
       "    </tr>\n",
       "  </tbody>\n",
       "</table>\n",
       "</div>"
      ],
      "text/plain": [
       "   district month  cumm_rainfall   temp_min   temp_max  humidity_min  \\\n",
       "0  Adilabad   Apr       0.421579  25.683860  39.596491     19.607018   \n",
       "1  Adilabad   Aug      15.750764  23.729881  29.817487     72.372835   \n",
       "2  Adilabad   Dec       0.314921  14.151937  28.375753     43.218221   \n",
       "3  Adilabad   Feb       0.608083  17.213722  33.474436     25.258835   \n",
       "4  Adilabad   Jan       0.000000  12.460951  31.436757     23.637521   \n",
       "\n",
       "   humidity_max  wind_speed_min  wind_speed_max  year  \n",
       "0     55.286842        0.171190       16.647212  2018  \n",
       "1     92.240577        0.711311       15.942190  2018  \n",
       "2     88.748637        0.102105        7.016992  2018  \n",
       "3     66.959774        0.147619       11.622817  2018  \n",
       "4     69.652971        0.073835        9.502509  2018  "
      ]
     },
     "execution_count": 5,
     "metadata": {},
     "output_type": "execute_result"
    }
   ],
   "source": [
    "weather_df = pd.read_csv('monthly_weather_data.csv')\n",
    "weather_df.head()"
   ]
  },
  {
   "cell_type": "code",
   "execution_count": 6,
   "metadata": {},
   "outputs": [
    {
     "name": "stdout",
     "output_type": "stream",
     "text": [
      "<class 'pandas.core.frame.DataFrame'>\n",
      "RangeIndex: 285 entries, 0 to 284\n",
      "Data columns (total 10 columns):\n",
      " #   Column          Non-Null Count  Dtype  \n",
      "---  ------          --------------  -----  \n",
      " 0   district        285 non-null    object \n",
      " 1   month           285 non-null    object \n",
      " 2   cumm_rainfall   285 non-null    float64\n",
      " 3   temp_min        285 non-null    float64\n",
      " 4   temp_max        285 non-null    float64\n",
      " 5   humidity_min    285 non-null    float64\n",
      " 6   humidity_max    285 non-null    float64\n",
      " 7   wind_speed_min  263 non-null    float64\n",
      " 8   wind_speed_max  273 non-null    float64\n",
      " 9   year            285 non-null    int64  \n",
      "dtypes: float64(7), int64(1), object(2)\n",
      "memory usage: 22.4+ KB\n"
     ]
    }
   ],
   "source": [
    "weather_df.info()"
   ]
  },
  {
   "cell_type": "code",
   "execution_count": 7,
   "metadata": {},
   "outputs": [
    {
     "data": {
      "text/plain": [
       "district           0\n",
       "month              0\n",
       "cumm_rainfall      0\n",
       "temp_min           0\n",
       "temp_max           0\n",
       "humidity_min       0\n",
       "humidity_max       0\n",
       "wind_speed_min    22\n",
       "wind_speed_max    12\n",
       "year               0\n",
       "dtype: int64"
      ]
     },
     "execution_count": 7,
     "metadata": {},
     "output_type": "execute_result"
    }
   ],
   "source": [
    "weather_df.isna().sum()"
   ]
  },
  {
   "cell_type": "code",
   "execution_count": 8,
   "metadata": {},
   "outputs": [
    {
     "data": {
      "text/plain": [
       "district          0\n",
       "month             0\n",
       "cumm_rainfall     0\n",
       "temp_min          0\n",
       "temp_max          0\n",
       "humidity_min      0\n",
       "humidity_max      0\n",
       "wind_speed_min    0\n",
       "wind_speed_max    0\n",
       "year              0\n",
       "dtype: int64"
      ]
     },
     "execution_count": 8,
     "metadata": {},
     "output_type": "execute_result"
    }
   ],
   "source": [
    "# filling NA values with avg of the same month\n",
    "weather_df['wind_speed_min'].fillna(weather_df.groupby(by=[\"district\", \"month\"])['wind_speed_min'].transform(\n",
    "    'mean').fillna(weather_df.wind_speed_min.mean()), inplace=True)\n",
    "weather_df['wind_speed_max'].fillna(weather_df.groupby(by=[\"district\", \"month\"])['wind_speed_max'].transform(\n",
    "    'mean').fillna(weather_df.wind_speed_max.mean()), inplace=True)\n",
    "    \n",
    "weather_df.isna().sum()"
   ]
  },
  {
   "attachments": {},
   "cell_type": "markdown",
   "metadata": {},
   "source": [
    "#### AQI EDA"
   ]
  },
  {
   "cell_type": "code",
   "execution_count": 9,
   "metadata": {},
   "outputs": [
    {
     "data": {
      "text/html": [
       "<div>\n",
       "<style scoped>\n",
       "    .dataframe tbody tr th:only-of-type {\n",
       "        vertical-align: middle;\n",
       "    }\n",
       "\n",
       "    .dataframe tbody tr th {\n",
       "        vertical-align: top;\n",
       "    }\n",
       "\n",
       "    .dataframe thead th {\n",
       "        text-align: right;\n",
       "    }\n",
       "</style>\n",
       "<table border=\"1\" class=\"dataframe\">\n",
       "  <thead>\n",
       "    <tr style=\"text-align: right;\">\n",
       "      <th></th>\n",
       "      <th>district</th>\n",
       "      <th>month</th>\n",
       "      <th>aqi</th>\n",
       "      <th>year</th>\n",
       "    </tr>\n",
       "  </thead>\n",
       "  <tbody>\n",
       "    <tr>\n",
       "      <th>0</th>\n",
       "      <td>Nizamabad</td>\n",
       "      <td>Jan</td>\n",
       "      <td>61.333333333333336</td>\n",
       "      <td>2017</td>\n",
       "    </tr>\n",
       "    <tr>\n",
       "      <th>1</th>\n",
       "      <td>Nizamabad</td>\n",
       "      <td>Feb</td>\n",
       "      <td>61.55555555555556</td>\n",
       "      <td>2017</td>\n",
       "    </tr>\n",
       "    <tr>\n",
       "      <th>2</th>\n",
       "      <td>Nizamabad</td>\n",
       "      <td>Mar</td>\n",
       "      <td>63.22222222222222</td>\n",
       "      <td>2017</td>\n",
       "    </tr>\n",
       "    <tr>\n",
       "      <th>3</th>\n",
       "      <td>Nizamabad</td>\n",
       "      <td>Apr</td>\n",
       "      <td>67.37037037037038</td>\n",
       "      <td>2017</td>\n",
       "    </tr>\n",
       "    <tr>\n",
       "      <th>4</th>\n",
       "      <td>Nizamabad</td>\n",
       "      <td>May</td>\n",
       "      <td>68.40740740740742</td>\n",
       "      <td>2017</td>\n",
       "    </tr>\n",
       "  </tbody>\n",
       "</table>\n",
       "</div>"
      ],
      "text/plain": [
       "    district month                 aqi  year\n",
       "0  Nizamabad   Jan  61.333333333333336  2017\n",
       "1  Nizamabad   Feb   61.55555555555556  2017\n",
       "2  Nizamabad   Mar   63.22222222222222  2017\n",
       "3  Nizamabad   Apr   67.37037037037038  2017\n",
       "4  Nizamabad   May   68.40740740740742  2017"
      ]
     },
     "execution_count": 9,
     "metadata": {},
     "output_type": "execute_result"
    }
   ],
   "source": [
    "aqi_df = pd.read_csv(\"monthly_aqi_data.csv\")\n",
    "aqi_df.head()"
   ]
  },
  {
   "cell_type": "code",
   "execution_count": 10,
   "metadata": {},
   "outputs": [
    {
     "name": "stdout",
     "output_type": "stream",
     "text": [
      "<class 'pandas.core.frame.DataFrame'>\n",
      "RangeIndex: 360 entries, 0 to 359\n",
      "Data columns (total 4 columns):\n",
      " #   Column    Non-Null Count  Dtype \n",
      "---  ------    --------------  ----- \n",
      " 0   district  360 non-null    object\n",
      " 1   month     360 non-null    object\n",
      " 2   aqi       360 non-null    object\n",
      " 3   year      360 non-null    int64 \n",
      "dtypes: int64(1), object(3)\n",
      "memory usage: 11.4+ KB\n"
     ]
    }
   ],
   "source": [
    "aqi_df.info()"
   ]
  },
  {
   "cell_type": "code",
   "execution_count": 11,
   "metadata": {},
   "outputs": [
    {
     "name": "stdout",
     "output_type": "stream",
     "text": [
      "<class 'pandas.core.frame.DataFrame'>\n",
      "RangeIndex: 360 entries, 0 to 359\n",
      "Data columns (total 4 columns):\n",
      " #   Column    Non-Null Count  Dtype  \n",
      "---  ------    --------------  -----  \n",
      " 0   district  360 non-null    object \n",
      " 1   month     360 non-null    object \n",
      " 2   aqi       345 non-null    float64\n",
      " 3   year      360 non-null    int64  \n",
      "dtypes: float64(1), int64(1), object(2)\n",
      "memory usage: 11.4+ KB\n"
     ]
    }
   ],
   "source": [
    "aqi_df['aqi'] = pd.to_numeric(aqi_df.aqi, errors=\"coerce\")\n",
    "aqi_df.info()"
   ]
  },
  {
   "cell_type": "code",
   "execution_count": 12,
   "metadata": {},
   "outputs": [
    {
     "data": {
      "text/plain": [
       "district     0\n",
       "month        0\n",
       "aqi         15\n",
       "year         0\n",
       "dtype: int64"
      ]
     },
     "execution_count": 12,
     "metadata": {},
     "output_type": "execute_result"
    }
   ],
   "source": [
    "aqi_df.isna().sum()"
   ]
  },
  {
   "cell_type": "code",
   "execution_count": 13,
   "metadata": {},
   "outputs": [
    {
     "data": {
      "text/html": [
       "<div>\n",
       "<style scoped>\n",
       "    .dataframe tbody tr th:only-of-type {\n",
       "        vertical-align: middle;\n",
       "    }\n",
       "\n",
       "    .dataframe tbody tr th {\n",
       "        vertical-align: top;\n",
       "    }\n",
       "\n",
       "    .dataframe thead th {\n",
       "        text-align: right;\n",
       "    }\n",
       "</style>\n",
       "<table border=\"1\" class=\"dataframe\">\n",
       "  <thead>\n",
       "    <tr style=\"text-align: right;\">\n",
       "      <th></th>\n",
       "      <th>district</th>\n",
       "      <th>month</th>\n",
       "      <th>cumm_rainfall</th>\n",
       "      <th>temp_min</th>\n",
       "      <th>temp_max</th>\n",
       "      <th>humidity_min</th>\n",
       "      <th>humidity_max</th>\n",
       "      <th>wind_speed_min</th>\n",
       "      <th>wind_speed_max</th>\n",
       "      <th>year</th>\n",
       "      <th>aqi</th>\n",
       "    </tr>\n",
       "  </thead>\n",
       "  <tbody>\n",
       "    <tr>\n",
       "      <th>0</th>\n",
       "      <td>Adilabad</td>\n",
       "      <td>Apr</td>\n",
       "      <td>0.421579</td>\n",
       "      <td>25.683860</td>\n",
       "      <td>39.596491</td>\n",
       "      <td>19.607018</td>\n",
       "      <td>55.286842</td>\n",
       "      <td>0.171190</td>\n",
       "      <td>16.647212</td>\n",
       "      <td>2018</td>\n",
       "      <td>73.518519</td>\n",
       "    </tr>\n",
       "    <tr>\n",
       "      <th>1</th>\n",
       "      <td>Adilabad</td>\n",
       "      <td>Aug</td>\n",
       "      <td>15.750764</td>\n",
       "      <td>23.729881</td>\n",
       "      <td>29.817487</td>\n",
       "      <td>72.372835</td>\n",
       "      <td>92.240577</td>\n",
       "      <td>0.711311</td>\n",
       "      <td>15.942190</td>\n",
       "      <td>2018</td>\n",
       "      <td>64.000000</td>\n",
       "    </tr>\n",
       "    <tr>\n",
       "      <th>2</th>\n",
       "      <td>Adilabad</td>\n",
       "      <td>Dec</td>\n",
       "      <td>0.314921</td>\n",
       "      <td>14.151937</td>\n",
       "      <td>28.375753</td>\n",
       "      <td>43.218221</td>\n",
       "      <td>88.748637</td>\n",
       "      <td>0.102105</td>\n",
       "      <td>7.016992</td>\n",
       "      <td>2018</td>\n",
       "      <td>81.000000</td>\n",
       "    </tr>\n",
       "    <tr>\n",
       "      <th>3</th>\n",
       "      <td>Adilabad</td>\n",
       "      <td>Feb</td>\n",
       "      <td>0.608083</td>\n",
       "      <td>17.213722</td>\n",
       "      <td>33.474436</td>\n",
       "      <td>25.258835</td>\n",
       "      <td>66.959774</td>\n",
       "      <td>0.147619</td>\n",
       "      <td>11.622817</td>\n",
       "      <td>2018</td>\n",
       "      <td>67.000000</td>\n",
       "    </tr>\n",
       "    <tr>\n",
       "      <th>4</th>\n",
       "      <td>Adilabad</td>\n",
       "      <td>Jan</td>\n",
       "      <td>0.000000</td>\n",
       "      <td>12.460951</td>\n",
       "      <td>31.436757</td>\n",
       "      <td>23.637521</td>\n",
       "      <td>69.652971</td>\n",
       "      <td>0.073835</td>\n",
       "      <td>9.502509</td>\n",
       "      <td>2018</td>\n",
       "      <td>66.111111</td>\n",
       "    </tr>\n",
       "  </tbody>\n",
       "</table>\n",
       "</div>"
      ],
      "text/plain": [
       "   district month  cumm_rainfall   temp_min   temp_max  humidity_min  \\\n",
       "0  Adilabad   Apr       0.421579  25.683860  39.596491     19.607018   \n",
       "1  Adilabad   Aug      15.750764  23.729881  29.817487     72.372835   \n",
       "2  Adilabad   Dec       0.314921  14.151937  28.375753     43.218221   \n",
       "3  Adilabad   Feb       0.608083  17.213722  33.474436     25.258835   \n",
       "4  Adilabad   Jan       0.000000  12.460951  31.436757     23.637521   \n",
       "\n",
       "   humidity_max  wind_speed_min  wind_speed_max  year        aqi  \n",
       "0     55.286842        0.171190       16.647212  2018  73.518519  \n",
       "1     92.240577        0.711311       15.942190  2018  64.000000  \n",
       "2     88.748637        0.102105        7.016992  2018  81.000000  \n",
       "3     66.959774        0.147619       11.622817  2018  67.000000  \n",
       "4     69.652971        0.073835        9.502509  2018  66.111111  "
      ]
     },
     "execution_count": 13,
     "metadata": {},
     "output_type": "execute_result"
    }
   ],
   "source": [
    "df = pd.merge(weather_df, aqi_df, on=['district', 'month', 'year'])\n",
    "df.head()"
   ]
  },
  {
   "cell_type": "code",
   "execution_count": 14,
   "metadata": {},
   "outputs": [
    {
     "name": "stdout",
     "output_type": "stream",
     "text": [
      "<class 'pandas.core.frame.DataFrame'>\n",
      "Int64Index: 285 entries, 0 to 284\n",
      "Data columns (total 11 columns):\n",
      " #   Column          Non-Null Count  Dtype  \n",
      "---  ------          --------------  -----  \n",
      " 0   district        285 non-null    object \n",
      " 1   month           285 non-null    object \n",
      " 2   cumm_rainfall   285 non-null    float64\n",
      " 3   temp_min        285 non-null    float64\n",
      " 4   temp_max        285 non-null    float64\n",
      " 5   humidity_min    285 non-null    float64\n",
      " 6   humidity_max    285 non-null    float64\n",
      " 7   wind_speed_min  285 non-null    float64\n",
      " 8   wind_speed_max  285 non-null    float64\n",
      " 9   year            285 non-null    int64  \n",
      " 10  aqi             270 non-null    float64\n",
      "dtypes: float64(8), int64(1), object(2)\n",
      "memory usage: 26.7+ KB\n"
     ]
    }
   ],
   "source": [
    "df.info()"
   ]
  },
  {
   "cell_type": "code",
   "execution_count": 15,
   "metadata": {},
   "outputs": [
    {
     "data": {
      "image/png": "[encoded data removed]",
      "text/plain": [
       "<Figure size 432x288 with 2 Axes>"
      ]
     },
     "metadata": {
      "needs_background": "light"
     },
     "output_type": "display_data"
    }
   ],
   "source": [
    "sns.heatmap(df.corr().round(2), annot=True)\n",
    "plt.show()"
   ]
  },
  {
   "cell_type": "code",
   "execution_count": 16,
   "metadata": {},
   "outputs": [
    {
     "data": {
      "text/html": [
       "<div>\n",
       "<style scoped>\n",
       "    .dataframe tbody tr th:only-of-type {\n",
       "        vertical-align: middle;\n",
       "    }\n",
       "\n",
       "    .dataframe tbody tr th {\n",
       "        vertical-align: top;\n",
       "    }\n",
       "\n",
       "    .dataframe thead th {\n",
       "        text-align: right;\n",
       "    }\n",
       "</style>\n",
       "<table border=\"1\" class=\"dataframe\">\n",
       "  <thead>\n",
       "    <tr style=\"text-align: right;\">\n",
       "      <th></th>\n",
       "      <th>district</th>\n",
       "      <th>month</th>\n",
       "      <th>units</th>\n",
       "      <th>load</th>\n",
       "      <th>year</th>\n",
       "    </tr>\n",
       "  </thead>\n",
       "  <tbody>\n",
       "    <tr>\n",
       "      <th>0</th>\n",
       "      <td>Adilabad</td>\n",
       "      <td>Apr</td>\n",
       "      <td>586815.0</td>\n",
       "      <td>27357.062</td>\n",
       "      <td>2019</td>\n",
       "    </tr>\n",
       "    <tr>\n",
       "      <th>1</th>\n",
       "      <td>Adilabad</td>\n",
       "      <td>Aug</td>\n",
       "      <td>352599.0</td>\n",
       "      <td>27437.062</td>\n",
       "      <td>2019</td>\n",
       "    </tr>\n",
       "    <tr>\n",
       "      <th>2</th>\n",
       "      <td>Adilabad</td>\n",
       "      <td>Dec</td>\n",
       "      <td>738218.0</td>\n",
       "      <td>27605.062</td>\n",
       "      <td>2019</td>\n",
       "    </tr>\n",
       "    <tr>\n",
       "      <th>3</th>\n",
       "      <td>Adilabad</td>\n",
       "      <td>Feb</td>\n",
       "      <td>780964.0</td>\n",
       "      <td>27265.642</td>\n",
       "      <td>2019</td>\n",
       "    </tr>\n",
       "    <tr>\n",
       "      <th>4</th>\n",
       "      <td>Adilabad</td>\n",
       "      <td>Jan</td>\n",
       "      <td>803019.0</td>\n",
       "      <td>27154.642</td>\n",
       "      <td>2019</td>\n",
       "    </tr>\n",
       "  </tbody>\n",
       "</table>\n",
       "</div>"
      ],
      "text/plain": [
       "   district month     units       load  year\n",
       "0  Adilabad   Apr  586815.0  27357.062  2019\n",
       "1  Adilabad   Aug  352599.0  27437.062  2019\n",
       "2  Adilabad   Dec  738218.0  27605.062  2019\n",
       "3  Adilabad   Feb  780964.0  27265.642  2019\n",
       "4  Adilabad   Jan  803019.0  27154.642  2019"
      ]
     },
     "execution_count": 16,
     "metadata": {},
     "output_type": "execute_result"
    }
   ],
   "source": [
    "industry_df = pd.read_csv(\"monthly_industry_consumption_data.csv\")\n",
    "industry_df.head()"
   ]
  },
  {
   "cell_type": "code",
   "execution_count": 17,
   "metadata": {},
   "outputs": [
    {
     "data": {
      "text/html": [
       "<div>\n",
       "<style scoped>\n",
       "    .dataframe tbody tr th:only-of-type {\n",
       "        vertical-align: middle;\n",
       "    }\n",
       "\n",
       "    .dataframe tbody tr th {\n",
       "        vertical-align: top;\n",
       "    }\n",
       "\n",
       "    .dataframe thead th {\n",
       "        text-align: right;\n",
       "    }\n",
       "</style>\n",
       "<table border=\"1\" class=\"dataframe\">\n",
       "  <thead>\n",
       "    <tr style=\"text-align: right;\">\n",
       "      <th></th>\n",
       "      <th>district</th>\n",
       "      <th>month</th>\n",
       "      <th>cumm_rainfall</th>\n",
       "      <th>temp_min</th>\n",
       "      <th>temp_max</th>\n",
       "      <th>humidity_min</th>\n",
       "      <th>humidity_max</th>\n",
       "      <th>wind_speed_min</th>\n",
       "      <th>wind_speed_max</th>\n",
       "      <th>year</th>\n",
       "      <th>aqi</th>\n",
       "      <th>units</th>\n",
       "      <th>load</th>\n",
       "    </tr>\n",
       "  </thead>\n",
       "  <tbody>\n",
       "    <tr>\n",
       "      <th>0</th>\n",
       "      <td>Adilabad</td>\n",
       "      <td>Apr</td>\n",
       "      <td>0.219565</td>\n",
       "      <td>26.981594</td>\n",
       "      <td>40.817391</td>\n",
       "      <td>17.355942</td>\n",
       "      <td>50.242464</td>\n",
       "      <td>0.164091</td>\n",
       "      <td>12.836970</td>\n",
       "      <td>2019</td>\n",
       "      <td>78.000000</td>\n",
       "      <td>586815.0</td>\n",
       "      <td>27357.062</td>\n",
       "    </tr>\n",
       "    <tr>\n",
       "      <th>1</th>\n",
       "      <td>Adilabad</td>\n",
       "      <td>Aug</td>\n",
       "      <td>8.233692</td>\n",
       "      <td>24.144265</td>\n",
       "      <td>30.264875</td>\n",
       "      <td>73.648387</td>\n",
       "      <td>96.310932</td>\n",
       "      <td>0.520789</td>\n",
       "      <td>10.230466</td>\n",
       "      <td>2019</td>\n",
       "      <td>79.000000</td>\n",
       "      <td>352599.0</td>\n",
       "      <td>27437.062</td>\n",
       "    </tr>\n",
       "    <tr>\n",
       "      <th>2</th>\n",
       "      <td>Adilabad</td>\n",
       "      <td>Dec</td>\n",
       "      <td>0.022939</td>\n",
       "      <td>15.835484</td>\n",
       "      <td>28.842294</td>\n",
       "      <td>49.891308</td>\n",
       "      <td>93.605287</td>\n",
       "      <td>0.053943</td>\n",
       "      <td>5.470251</td>\n",
       "      <td>2019</td>\n",
       "      <td>73.370370</td>\n",
       "      <td>738218.0</td>\n",
       "      <td>27605.062</td>\n",
       "    </tr>\n",
       "    <tr>\n",
       "      <th>3</th>\n",
       "      <td>Adilabad</td>\n",
       "      <td>Feb</td>\n",
       "      <td>0.018478</td>\n",
       "      <td>16.938354</td>\n",
       "      <td>33.292857</td>\n",
       "      <td>27.538509</td>\n",
       "      <td>71.907298</td>\n",
       "      <td>0.067045</td>\n",
       "      <td>10.352110</td>\n",
       "      <td>2019</td>\n",
       "      <td>76.777778</td>\n",
       "      <td>780964.0</td>\n",
       "      <td>27265.642</td>\n",
       "    </tr>\n",
       "    <tr>\n",
       "      <th>4</th>\n",
       "      <td>Adilabad</td>\n",
       "      <td>Jan</td>\n",
       "      <td>0.130856</td>\n",
       "      <td>12.201262</td>\n",
       "      <td>29.281907</td>\n",
       "      <td>33.557363</td>\n",
       "      <td>83.543058</td>\n",
       "      <td>0.082698</td>\n",
       "      <td>7.256012</td>\n",
       "      <td>2019</td>\n",
       "      <td>76.333333</td>\n",
       "      <td>803019.0</td>\n",
       "      <td>27154.642</td>\n",
       "    </tr>\n",
       "  </tbody>\n",
       "</table>\n",
       "</div>"
      ],
      "text/plain": [
       "   district month  cumm_rainfall   temp_min   temp_max  humidity_min  \\\n",
       "0  Adilabad   Apr       0.219565  26.981594  40.817391     17.355942   \n",
       "1  Adilabad   Aug       8.233692  24.144265  30.264875     73.648387   \n",
       "2  Adilabad   Dec       0.022939  15.835484  28.842294     49.891308   \n",
       "3  Adilabad   Feb       0.018478  16.938354  33.292857     27.538509   \n",
       "4  Adilabad   Jan       0.130856  12.201262  29.281907     33.557363   \n",
       "\n",
       "   humidity_max  wind_speed_min  wind_speed_max  year        aqi     units  \\\n",
       "0     50.242464        0.164091       12.836970  2019  78.000000  586815.0   \n",
       "1     96.310932        0.520789       10.230466  2019  79.000000  352599.0   \n",
       "2     93.605287        0.053943        5.470251  2019  73.370370  738218.0   \n",
       "3     71.907298        0.067045       10.352110  2019  76.777778  780964.0   \n",
       "4     83.543058        0.082698        7.256012  2019  76.333333  803019.0   \n",
       "\n",
       "        load  \n",
       "0  27357.062  \n",
       "1  27437.062  \n",
       "2  27605.062  \n",
       "3  27265.642  \n",
       "4  27154.642  "
      ]
     },
     "execution_count": 17,
     "metadata": {},
     "output_type": "execute_result"
    }
   ],
   "source": [
    "df = pd.merge(df, industry_df, on=[\"district\", \"month\", \"year\"])\n",
    "df.head()"
   ]
  },
  {
   "cell_type": "code",
   "execution_count": 18,
   "metadata": {},
   "outputs": [
    {
     "data": {
      "image/png": "[encoded data removed]",
      "text/plain": [
       "<Figure size 432x288 with 2 Axes>"
      ]
     },
     "metadata": {
      "needs_background": "light"
     },
     "output_type": "display_data"
    }
   ],
   "source": [
    "sns.heatmap(df.corr().round(2), annot=True)\n",
    "plt.show()"
   ]
  },
  {
   "cell_type": "code",
   "execution_count": 33,
   "metadata": {},
   "outputs": [
    {
     "data": {
      "text/plain": [
       "<AxesSubplot:xlabel='year', ylabel='aqi'>"
      ]
     },
     "execution_count": 33,
     "metadata": {},
     "output_type": "execute_result"
    },
    {
     "data": {
      "image/png": "[encoded data removed]",
      "text/plain": [
       "<Figure size 432x288 with 1 Axes>"
      ]
     },
     "metadata": {
      "needs_background": "light"
     },
     "output_type": "display_data"
    }
   ],
   "source": [
    "sns.boxenplot(data=aqi_df, x='year', y=\"aqi\")"
   ]
  },
  {
   "cell_type": "code",
   "execution_count": null,
   "metadata": {},
   "outputs": [],
   "source": []
  }
 ],
 "metadata": {
  "kernelspec": {
   "display_name": "base",
   "language": "python",
   "name": "python3"
  },
  "language_info": {
   "codemirror_mode": {
    "name": "ipython",
    "version": 3
   },
   "file_extension": ".py",
   "mimetype": "text/x-python",
   "name": "python",
   "nbconvert_exporter": "python",
   "pygments_lexer": "ipython3",
   "version": "3.9.7"
  },
  "orig_nbformat": 4,
  "vscode": {
   "interpreter": {
    "hash": "0467c16d4e73dba61dcc106221b4b7c95372fa61fc6cc648ee99bca30bbaf279"
   }
  }
 },
 "nbformat": 4,
 "nbformat_minor": 2
}
