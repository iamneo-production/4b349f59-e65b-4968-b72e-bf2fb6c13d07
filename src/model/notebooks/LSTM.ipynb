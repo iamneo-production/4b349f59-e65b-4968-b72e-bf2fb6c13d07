{
 "cells": [
  {
   "cell_type": "code",
   "execution_count": 34,
   "metadata": {},
   "outputs": [],
   "source": [
    "import os\n",
    "import pandas as pd\n",
    "from functools import reduce\n",
    "import numpy as np\n",
    "from datetime import date\n",
    "import tensorflow as tf\n",
    "from keras.layers import Dropout\n",
    "from tensorflow.keras.layers import Dense\n",
    "from tensorflow.keras.layers import LSTM\n",
    "from tensorflow.keras.metrics import RootMeanSquaredError, MeanAbsoluteError\n",
    "from tensorflow.keras.models import Sequential\n",
    "from sklearn.model_selection import train_test_split\n",
    "from sklearn.preprocessing import MinMaxScaler\n",
    "from keras.preprocessing.sequence import TimeseriesGenerator\n"
   ]
  },
  {
   "cell_type": "code",
   "execution_count": 35,
   "metadata": {},
   "outputs": [],
   "source": [
    "df=pd.read_csv(\"C:/Users/91966/OneDrive/Desktop/capstone/telangana/weather/daily_weather_data.csv\")\n",
    "df=df[['district','odate','rainfall','temp_min','temp_max']].dropna()"
   ]
  },
  {
   "cell_type": "code",
   "execution_count": 36,
   "metadata": {},
   "outputs": [],
   "source": [
    "df1=df.copy(deep=True)\n",
    "df2=df.copy(deep=True)\n",
    "df3=df.copy(deep=True)\n",
    "df1['odate'] = pd.to_datetime(df1['odate'], format='%d-%m-%Y', errors='coerce')\n",
    "df1.dropna(inplace=True)\n",
    "df2['odate'] = pd.to_datetime(df2['odate'], format='%Y-%m-%d', errors='coerce')\n",
    "df2.dropna(inplace=True)\n",
    "df3['odate'] = pd.to_datetime(df3['odate'], format='%d-%b-%y', errors='coerce')\n",
    "df3.dropna(inplace=True)"
   ]
  },
  {
   "cell_type": "code",
   "execution_count": 37,
   "metadata": {},
   "outputs": [],
   "source": [
    "df_final=pd.concat([df1,df2,df3],axis=0).sort_index()\n",
    "df_final=df_final.sort_values(by='odate')"
   ]
  },
  {
   "cell_type": "code",
   "execution_count": 38,
   "metadata": {},
   "outputs": [],
   "source": [
    "df_comps={}\n",
    "options=[\"Adilabad\",\"Nizamabad\",\"Warangal\",\"Karimnagar\",\"Khammam\"]\n",
    "for i in options:\n",
    "  df_comps[i]=df_final[df_final[\"district\"]==i]"
   ]
  },
  {
   "cell_type": "code",
   "execution_count": 39,
   "metadata": {},
   "outputs": [
    {
     "data": {
      "text/html": [
       "<div>\n",
       "<style scoped>\n",
       "    .dataframe tbody tr th:only-of-type {\n",
       "        vertical-align: middle;\n",
       "    }\n",
       "\n",
       "    .dataframe tbody tr th {\n",
       "        vertical-align: top;\n",
       "    }\n",
       "\n",
       "    .dataframe thead th {\n",
       "        text-align: right;\n",
       "    }\n",
       "</style>\n",
       "<table border=\"1\" class=\"dataframe\">\n",
       "  <thead>\n",
       "    <tr style=\"text-align: right;\">\n",
       "      <th></th>\n",
       "      <th>odate</th>\n",
       "      <th>temp_max</th>\n",
       "    </tr>\n",
       "  </thead>\n",
       "  <tbody>\n",
       "    <tr>\n",
       "      <th>0</th>\n",
       "      <td>2018-01-01</td>\n",
       "      <td>29.7</td>\n",
       "    </tr>\n",
       "    <tr>\n",
       "      <th>6706</th>\n",
       "      <td>2018-01-01</td>\n",
       "      <td>29.3</td>\n",
       "    </tr>\n",
       "    <tr>\n",
       "      <th>6339</th>\n",
       "      <td>2018-01-01</td>\n",
       "      <td>29.3</td>\n",
       "    </tr>\n",
       "    <tr>\n",
       "      <th>5945</th>\n",
       "      <td>2018-01-01</td>\n",
       "      <td>29.6</td>\n",
       "    </tr>\n",
       "    <tr>\n",
       "      <th>5580</th>\n",
       "      <td>2018-01-01</td>\n",
       "      <td>33.0</td>\n",
       "    </tr>\n",
       "    <tr>\n",
       "      <th>...</th>\n",
       "      <td>...</td>\n",
       "      <td>...</td>\n",
       "    </tr>\n",
       "    <tr>\n",
       "      <th>1033119</th>\n",
       "      <td>2022-09-30</td>\n",
       "      <td>31.4</td>\n",
       "    </tr>\n",
       "    <tr>\n",
       "      <th>1033938</th>\n",
       "      <td>2022-09-30</td>\n",
       "      <td>32.7</td>\n",
       "    </tr>\n",
       "    <tr>\n",
       "      <th>1030389</th>\n",
       "      <td>2022-09-30</td>\n",
       "      <td>33.7</td>\n",
       "    </tr>\n",
       "    <tr>\n",
       "      <th>1030116</th>\n",
       "      <td>2022-09-30</td>\n",
       "      <td>32.7</td>\n",
       "    </tr>\n",
       "    <tr>\n",
       "      <th>1033665</th>\n",
       "      <td>2022-09-30</td>\n",
       "      <td>32.7</td>\n",
       "    </tr>\n",
       "  </tbody>\n",
       "</table>\n",
       "<p>32738 rows × 2 columns</p>\n",
       "</div>"
      ],
      "text/plain": [
       "             odate  temp_max\n",
       "0       2018-01-01      29.7\n",
       "6706    2018-01-01      29.3\n",
       "6339    2018-01-01      29.3\n",
       "5945    2018-01-01      29.6\n",
       "5580    2018-01-01      33.0\n",
       "...            ...       ...\n",
       "1033119 2022-09-30      31.4\n",
       "1033938 2022-09-30      32.7\n",
       "1030389 2022-09-30      33.7\n",
       "1030116 2022-09-30      32.7\n",
       "1033665 2022-09-30      32.7\n",
       "\n",
       "[32738 rows x 2 columns]"
      ]
     },
     "execution_count": 39,
     "metadata": {},
     "output_type": "execute_result"
    }
   ],
   "source": [
    "df_comps['Adilabad']=df_comps['Adilabad'][['odate','temp_max']]\n",
    "df_comps['Adilabad']"
   ]
  },
  {
   "cell_type": "code",
   "execution_count": 40,
   "metadata": {},
   "outputs": [
    {
     "data": {
      "text/html": [
       "<div>\n",
       "<style scoped>\n",
       "    .dataframe tbody tr th:only-of-type {\n",
       "        vertical-align: middle;\n",
       "    }\n",
       "\n",
       "    .dataframe tbody tr th {\n",
       "        vertical-align: top;\n",
       "    }\n",
       "\n",
       "    .dataframe thead th {\n",
       "        text-align: right;\n",
       "    }\n",
       "</style>\n",
       "<table border=\"1\" class=\"dataframe\">\n",
       "  <thead>\n",
       "    <tr style=\"text-align: right;\">\n",
       "      <th></th>\n",
       "      <th>temp_max</th>\n",
       "    </tr>\n",
       "    <tr>\n",
       "      <th>odate</th>\n",
       "      <th></th>\n",
       "    </tr>\n",
       "  </thead>\n",
       "  <tbody>\n",
       "    <tr>\n",
       "      <th>2018-01-01</th>\n",
       "      <td>29.7</td>\n",
       "    </tr>\n",
       "    <tr>\n",
       "      <th>2018-01-01</th>\n",
       "      <td>29.3</td>\n",
       "    </tr>\n",
       "    <tr>\n",
       "      <th>2018-01-01</th>\n",
       "      <td>29.3</td>\n",
       "    </tr>\n",
       "    <tr>\n",
       "      <th>2018-01-01</th>\n",
       "      <td>29.6</td>\n",
       "    </tr>\n",
       "    <tr>\n",
       "      <th>2018-01-01</th>\n",
       "      <td>33.0</td>\n",
       "    </tr>\n",
       "    <tr>\n",
       "      <th>...</th>\n",
       "      <td>...</td>\n",
       "    </tr>\n",
       "    <tr>\n",
       "      <th>2022-09-30</th>\n",
       "      <td>31.4</td>\n",
       "    </tr>\n",
       "    <tr>\n",
       "      <th>2022-09-30</th>\n",
       "      <td>32.7</td>\n",
       "    </tr>\n",
       "    <tr>\n",
       "      <th>2022-09-30</th>\n",
       "      <td>33.7</td>\n",
       "    </tr>\n",
       "    <tr>\n",
       "      <th>2022-09-30</th>\n",
       "      <td>32.7</td>\n",
       "    </tr>\n",
       "    <tr>\n",
       "      <th>2022-09-30</th>\n",
       "      <td>32.7</td>\n",
       "    </tr>\n",
       "  </tbody>\n",
       "</table>\n",
       "<p>32738 rows × 1 columns</p>\n",
       "</div>"
      ],
      "text/plain": [
       "            temp_max\n",
       "odate               \n",
       "2018-01-01      29.7\n",
       "2018-01-01      29.3\n",
       "2018-01-01      29.3\n",
       "2018-01-01      29.6\n",
       "2018-01-01      33.0\n",
       "...              ...\n",
       "2022-09-30      31.4\n",
       "2022-09-30      32.7\n",
       "2022-09-30      33.7\n",
       "2022-09-30      32.7\n",
       "2022-09-30      32.7\n",
       "\n",
       "[32738 rows x 1 columns]"
      ]
     },
     "execution_count": 40,
     "metadata": {},
     "output_type": "execute_result"
    }
   ],
   "source": [
    "\n",
    "df=df_comps['Adilabad']\n",
    "df=df.set_index('odate')\n",
    "df"
   ]
  },
  {
   "cell_type": "code",
   "execution_count": 41,
   "metadata": {},
   "outputs": [],
   "source": [
    "# # Put your inputs into a single list\n",
    "# df['single_input_vector'] = df[['temp_max']].apply(tuple, axis=1).apply(list)\n",
    "# # Double-encapsulate list so that you can sum it in the next step and keep time steps as separate elements\n",
    "# df['single_input_vector'] = df.single_input_vector.apply(lambda x: [list(x)])\n",
    "# # Use .cumsum() to include previous row vectors in the current row list of vectors\n",
    "# df['cumulative_input_vectors'] = df.single_input_vector.cumsum()"
   ]
  },
  {
   "cell_type": "code",
   "execution_count": 42,
   "metadata": {},
   "outputs": [],
   "source": [
    "train, test = train_test_split(df, test_size=0.3)"
   ]
  },
  {
   "cell_type": "code",
   "execution_count": 43,
   "metadata": {},
   "outputs": [
    {
     "data": {
      "text/html": [
       "<div>\n",
       "<style scoped>\n",
       "    .dataframe tbody tr th:only-of-type {\n",
       "        vertical-align: middle;\n",
       "    }\n",
       "\n",
       "    .dataframe tbody tr th {\n",
       "        vertical-align: top;\n",
       "    }\n",
       "\n",
       "    .dataframe thead th {\n",
       "        text-align: right;\n",
       "    }\n",
       "</style>\n",
       "<table border=\"1\" class=\"dataframe\">\n",
       "  <thead>\n",
       "    <tr style=\"text-align: right;\">\n",
       "      <th></th>\n",
       "      <th>temp_max</th>\n",
       "    </tr>\n",
       "    <tr>\n",
       "      <th>odate</th>\n",
       "      <th></th>\n",
       "    </tr>\n",
       "  </thead>\n",
       "  <tbody>\n",
       "    <tr>\n",
       "      <th>2018-01-01</th>\n",
       "      <td>32.5</td>\n",
       "    </tr>\n",
       "    <tr>\n",
       "      <th>2018-01-01</th>\n",
       "      <td>32.1</td>\n",
       "    </tr>\n",
       "    <tr>\n",
       "      <th>2018-01-01</th>\n",
       "      <td>33.5</td>\n",
       "    </tr>\n",
       "    <tr>\n",
       "      <th>2018-01-01</th>\n",
       "      <td>29.5</td>\n",
       "    </tr>\n",
       "    <tr>\n",
       "      <th>2018-01-01</th>\n",
       "      <td>30.1</td>\n",
       "    </tr>\n",
       "    <tr>\n",
       "      <th>...</th>\n",
       "      <td>...</td>\n",
       "    </tr>\n",
       "    <tr>\n",
       "      <th>2022-09-30</th>\n",
       "      <td>32.5</td>\n",
       "    </tr>\n",
       "    <tr>\n",
       "      <th>2022-09-30</th>\n",
       "      <td>33.8</td>\n",
       "    </tr>\n",
       "    <tr>\n",
       "      <th>2022-09-30</th>\n",
       "      <td>30.8</td>\n",
       "    </tr>\n",
       "    <tr>\n",
       "      <th>2022-09-30</th>\n",
       "      <td>33.7</td>\n",
       "    </tr>\n",
       "    <tr>\n",
       "      <th>2022-09-30</th>\n",
       "      <td>30.8</td>\n",
       "    </tr>\n",
       "  </tbody>\n",
       "</table>\n",
       "<p>22916 rows × 1 columns</p>\n",
       "</div>"
      ],
      "text/plain": [
       "            temp_max\n",
       "odate               \n",
       "2018-01-01      32.5\n",
       "2018-01-01      32.1\n",
       "2018-01-01      33.5\n",
       "2018-01-01      29.5\n",
       "2018-01-01      30.1\n",
       "...              ...\n",
       "2022-09-30      32.5\n",
       "2022-09-30      33.8\n",
       "2022-09-30      30.8\n",
       "2022-09-30      33.7\n",
       "2022-09-30      30.8\n",
       "\n",
       "[22916 rows x 1 columns]"
      ]
     },
     "execution_count": 43,
     "metadata": {},
     "output_type": "execute_result"
    }
   ],
   "source": [
    "\n",
    "train=train.sort_index()\n",
    "\n",
    "test=test.sort_index()\n",
    "train"
   ]
  },
  {
   "cell_type": "code",
   "execution_count": null,
   "metadata": {},
   "outputs": [],
   "source": []
  },
  {
   "cell_type": "code",
   "execution_count": 73,
   "metadata": {},
   "outputs": [],
   "source": [
    "scalar=MinMaxScaler()\n",
    "scalar.fit(train)\n",
    "train_scaled=scalar.transform(train)\n",
    "test_scaled=scalar.transform(test)\n"
   ]
  },
  {
   "cell_type": "code",
   "execution_count": 45,
   "metadata": {},
   "outputs": [],
   "source": [
    "n_input=32\n",
    "n_features=1\n",
    "generator=TimeseriesGenerator(train_scaled,train_scaled,length=n_input,batch_size=25)"
   ]
  },
  {
   "cell_type": "code",
   "execution_count": 46,
   "metadata": {},
   "outputs": [],
   "source": [
    "# def get_model(params, input_shape):\n",
    "# \tmodel = Sequential()\n",
    "# \tmodel.add(LSTM(units=params[\"lstm_units\"], return_sequences=True, input_shape=(n_input,n_features)))\n",
    "# \tmodel.add(Dropout(rate=params[\"dropout\"]))\n",
    "\n",
    "# \tmodel.add(LSTM(units=params[\"lstm_units\"], return_sequences=True))\n",
    "# \tmodel.add(Dropout(rate=params[\"dropout\"]))\n",
    "\n",
    "# \tmodel.add(LSTM(units=params[\"lstm_units\"], return_sequences=True))\n",
    "# \tmodel.add(Dropout(rate=params[\"dropout\"]))\n",
    "\n",
    "# \tmodel.add(LSTM(units=params[\"lstm_units\"], return_sequences=False))\n",
    "# \tmodel.add(Dropout(rate=params[\"dropout\"]))\n",
    "\n",
    "# \tmodel.add(Dense(1))\n",
    "\n",
    "# \tmodel.compile(loss=params[\"loss\"],\n",
    "#               \toptimizer=params[\"optimizer\"],\n",
    "#               \tmetrics=[MeanAbsoluteError()])\n",
    "\n",
    "# \treturn model"
   ]
  },
  {
   "cell_type": "code",
   "execution_count": 78,
   "metadata": {},
   "outputs": [
    {
     "name": "stdout",
     "output_type": "stream",
     "text": [
      "WARNING:tensorflow:Layer lstm_9 will not use cuDNN kernels since it doesn't meet the criteria. It will use a generic GPU kernel as fallback when running on GPU.\n"
     ]
    }
   ],
   "source": [
    "model = Sequential()\n",
    "model.add(LSTM(100, activation='relu', input_shape=(n_input, n_features)))\n",
    "model.add(Dense(1))\n",
    "model.compile(optimizer='adam', loss='mae')"
   ]
  },
  {
   "cell_type": "code",
   "execution_count": 48,
   "metadata": {},
   "outputs": [],
   "source": [
    "# params = {\n",
    "# \t\"loss\": \"mean_absolute_error\",\n",
    "# \t\"optimizer\": \"adam\",\n",
    "# \t\"dropout\": 0.2,\n",
    "# \t\"lstm_units\": 90,\n",
    "# \t\"epochs\": 30,\n",
    "# \t\"batch_size\": 128,\n",
    "# \t\"es_patience\" : 10\n",
    "# }\n",
    "\n",
    "# model = get_model(params=params,input_shape=(n_input,n_features))"
   ]
  },
  {
   "cell_type": "code",
   "execution_count": 79,
   "metadata": {},
   "outputs": [
    {
     "name": "stdout",
     "output_type": "stream",
     "text": [
      "Model: \"sequential_3\"\n",
      "_________________________________________________________________\n",
      "Layer (type)                 Output Shape              Param #   \n",
      "=================================================================\n",
      "lstm_9 (LSTM)                (None, 100)               40800     \n",
      "_________________________________________________________________\n",
      "dense_3 (Dense)              (None, 1)                 101       \n",
      "=================================================================\n",
      "Total params: 40,901\n",
      "Trainable params: 40,901\n",
      "Non-trainable params: 0\n",
      "_________________________________________________________________\n"
     ]
    }
   ],
   "source": [
    "model.summary()"
   ]
  },
  {
   "cell_type": "code",
   "execution_count": 53,
   "metadata": {},
   "outputs": [],
   "source": [
    "# es_callback = tf.keras.callbacks.EarlyStopping(monitor='mean_absolute_error',\n",
    "#                                            \tmode='min',\n",
    "# patience=params[\"es_patience\"])"
   ]
  },
  {
   "cell_type": "code",
   "execution_count": 54,
   "metadata": {},
   "outputs": [
    {
     "name": "stdout",
     "output_type": "stream",
     "text": [
      "Epoch 1/30\n",
      "916/916 [==============================] - 74s 81ms/step - loss: 0.0422 - mean_absolute_error: 0.0422\n",
      "Epoch 2/30\n",
      "916/916 [==============================] - 64s 70ms/step - loss: 0.0419 - mean_absolute_error: 0.0419\n",
      "Epoch 3/30\n",
      "916/916 [==============================] - 66s 72ms/step - loss: 0.0416 - mean_absolute_error: 0.0416\n",
      "Epoch 4/30\n",
      "916/916 [==============================] - 64s 70ms/step - loss: 0.0415 - mean_absolute_error: 0.0415\n",
      "Epoch 5/30\n",
      "916/916 [==============================] - 65s 71ms/step - loss: 0.0416 - mean_absolute_error: 0.0416\n",
      "Epoch 6/30\n",
      "916/916 [==============================] - 65s 71ms/step - loss: 0.0417 - mean_absolute_error: 0.0417\n",
      "Epoch 7/30\n",
      "916/916 [==============================] - 66s 72ms/step - loss: 0.0411 - mean_absolute_error: 0.0411\n",
      "Epoch 8/30\n",
      "916/916 [==============================] - 68s 74ms/step - loss: 0.0410 - mean_absolute_error: 0.0410\n",
      "Epoch 9/30\n",
      "916/916 [==============================] - 65s 71ms/step - loss: 0.0409 - mean_absolute_error: 0.0409\n",
      "Epoch 10/30\n",
      "916/916 [==============================] - 64s 70ms/step - loss: 0.0405 - mean_absolute_error: 0.0405\n",
      "Epoch 11/30\n",
      "916/916 [==============================] - 65s 71ms/step - loss: 0.0403 - mean_absolute_error: 0.0403\n",
      "Epoch 12/30\n",
      "916/916 [==============================] - 60s 65ms/step - loss: 0.0401 - mean_absolute_error: 0.0401\n",
      "Epoch 13/30\n",
      "916/916 [==============================] - 56s 61ms/step - loss: 0.0402 - mean_absolute_error: 0.0402\n",
      "Epoch 14/30\n",
      "916/916 [==============================] - 56s 61ms/step - loss: 0.0400 - mean_absolute_error: 0.0400\n",
      "Epoch 15/30\n",
      "916/916 [==============================] - 57s 62ms/step - loss: 0.0401 - mean_absolute_error: 0.0401\n",
      "Epoch 16/30\n",
      "916/916 [==============================] - 57s 62ms/step - loss: 0.0403 - mean_absolute_error: 0.0403\n",
      "Epoch 17/30\n",
      "916/916 [==============================] - 57s 63ms/step - loss: 0.0400 - mean_absolute_error: 0.0400\n",
      "Epoch 18/30\n",
      "916/916 [==============================] - 59s 64ms/step - loss: 0.0400 - mean_absolute_error: 0.0400\n",
      "Epoch 19/30\n",
      "916/916 [==============================] - 57s 62ms/step - loss: 0.0398 - mean_absolute_error: 0.0398\n",
      "Epoch 20/30\n",
      "916/916 [==============================] - 57s 63ms/step - loss: 0.0398 - mean_absolute_error: 0.0398\n",
      "Epoch 21/30\n",
      "916/916 [==============================] - 58s 64ms/step - loss: 0.0402 - mean_absolute_error: 0.0402\n",
      "Epoch 22/30\n",
      "916/916 [==============================] - 58s 63ms/step - loss: 0.0396 - mean_absolute_error: 0.0396\n",
      "Epoch 23/30\n",
      "916/916 [==============================] - 70s 76ms/step - loss: 0.0394 - mean_absolute_error: 0.0394\n",
      "Epoch 24/30\n",
      "916/916 [==============================] - 79s 86ms/step - loss: 0.0395 - mean_absolute_error: 0.0395\n",
      "Epoch 25/30\n",
      "916/916 [==============================] - 83s 91ms/step - loss: 0.0395 - mean_absolute_error: 0.0395\n",
      "Epoch 26/30\n",
      "916/916 [==============================] - 79s 86ms/step - loss: 0.0393 - mean_absolute_error: 0.0393\n",
      "Epoch 27/30\n",
      "916/916 [==============================] - 79s 86ms/step - loss: 0.0393 - mean_absolute_error: 0.0393\n",
      "Epoch 28/30\n",
      "916/916 [==============================] - 78s 86ms/step - loss: 0.0396 - mean_absolute_error: 0.0396\n",
      "Epoch 29/30\n",
      "916/916 [==============================] - 79s 86ms/step - loss: 0.0395 - mean_absolute_error: 0.0395\n",
      "Epoch 30/30\n",
      "916/916 [==============================] - 80s 87ms/step - loss: 0.0393 - mean_absolute_error: 0.0393\n"
     ]
    },
    {
     "data": {
      "text/plain": [
       "<keras.callbacks.History at 0x2925324c130>"
      ]
     },
     "execution_count": 54,
     "metadata": {},
     "output_type": "execute_result"
    }
   ],
   "source": [
    "# model.fit(\n",
    "# \tgenerator,\n",
    "# \tepochs=params[\"epochs\"],\n",
    "# \tbatch_size=params[\"batch_size\"],\n",
    "# \tverbose=1,\n",
    "# \tcallbacks=[es_callback]\n",
    "# )"
   ]
  },
  {
   "cell_type": "code",
   "execution_count": 80,
   "metadata": {},
   "outputs": [
    {
     "name": "stdout",
     "output_type": "stream",
     "text": [
      "Epoch 1/50\n",
      "916/916 [==============================] - 96s 103ms/step - loss: 0.0497\n",
      "Epoch 2/50\n",
      "916/916 [==============================] - 100s 110ms/step - loss: 0.0390\n",
      "Epoch 3/50\n",
      "916/916 [==============================] - 112s 123ms/step - loss: 0.0382\n",
      "Epoch 4/50\n",
      "916/916 [==============================] - 94s 103ms/step - loss: 0.0384\n",
      "Epoch 5/50\n",
      "916/916 [==============================] - 111s 121ms/step - loss: 0.0382\n",
      "Epoch 6/50\n",
      "916/916 [==============================] - 92s 100ms/step - loss: 0.0382\n",
      "Epoch 7/50\n",
      "916/916 [==============================] - 97s 106ms/step - loss: 0.0381\n",
      "Epoch 8/50\n",
      "916/916 [==============================] - 97s 106ms/step - loss: 0.0381\n",
      "Epoch 9/50\n",
      "916/916 [==============================] - 85s 93ms/step - loss: 0.0379\n",
      "Epoch 10/50\n",
      "916/916 [==============================] - 83s 90ms/step - loss: 0.0377\n",
      "Epoch 11/50\n",
      "916/916 [==============================] - 82s 89ms/step - loss: 0.0377\n",
      "Epoch 12/50\n",
      "916/916 [==============================] - 81s 89ms/step - loss: 0.0377\n",
      "Epoch 13/50\n",
      "916/916 [==============================] - 81s 89ms/step - loss: 0.0377\n",
      "Epoch 14/50\n",
      "916/916 [==============================] - 82s 89ms/step - loss: 0.0375\n",
      "Epoch 15/50\n",
      "916/916 [==============================] - 82s 89ms/step - loss: 0.0373\n",
      "Epoch 16/50\n",
      "916/916 [==============================] - 81s 89ms/step - loss: 0.0375\n",
      "Epoch 17/50\n",
      "916/916 [==============================] - 83s 91ms/step - loss: 0.0373\n",
      "Epoch 18/50\n",
      "916/916 [==============================] - 91s 99ms/step - loss: 0.0373\n",
      "Epoch 19/50\n",
      "916/916 [==============================] - 87s 95ms/step - loss: 0.0373\n",
      "Epoch 20/50\n",
      "916/916 [==============================] - 85s 92ms/step - loss: 0.0374\n",
      "Epoch 21/50\n",
      "916/916 [==============================] - 89s 97ms/step - loss: 0.0371\n",
      "Epoch 22/50\n",
      "916/916 [==============================] - 98s 107ms/step - loss: 0.0373\n",
      "Epoch 23/50\n",
      "916/916 [==============================] - 109s 119ms/step - loss: 0.0371\n",
      "Epoch 24/50\n",
      "916/916 [==============================] - 98s 107ms/step - loss: 0.0373\n",
      "Epoch 25/50\n",
      "916/916 [==============================] - 86s 94ms/step - loss: 0.0372\n",
      "Epoch 26/50\n",
      "916/916 [==============================] - 87s 95ms/step - loss: 0.0374\n",
      "Epoch 27/50\n",
      "916/916 [==============================] - 91s 99ms/step - loss: 0.0370\n",
      "Epoch 28/50\n",
      "916/916 [==============================] - 85s 93ms/step - loss: 0.0372\n",
      "Epoch 29/50\n",
      "916/916 [==============================] - 83s 90ms/step - loss: 0.0372\n",
      "Epoch 30/50\n",
      "916/916 [==============================] - 83s 91ms/step - loss: 0.0371\n",
      "Epoch 31/50\n",
      "916/916 [==============================] - 80s 87ms/step - loss: 0.0369\n",
      "Epoch 32/50\n",
      "916/916 [==============================] - 80s 87ms/step - loss: 0.0371\n",
      "Epoch 33/50\n",
      "916/916 [==============================] - 78s 85ms/step - loss: 0.0369\n",
      "Epoch 34/50\n",
      "916/916 [==============================] - 97s 106ms/step - loss: 0.0371\n",
      "Epoch 35/50\n",
      "916/916 [==============================] - 86s 94ms/step - loss: 0.0369\n",
      "Epoch 36/50\n",
      "916/916 [==============================] - 87s 95ms/step - loss: 0.0369\n",
      "Epoch 37/50\n",
      "916/916 [==============================] - 87s 95ms/step - loss: 0.0369\n",
      "Epoch 38/50\n",
      "916/916 [==============================] - 97s 106ms/step - loss: 0.0369\n",
      "Epoch 39/50\n",
      "916/916 [==============================] - 95s 103ms/step - loss: 0.0369\n",
      "Epoch 40/50\n",
      "916/916 [==============================] - 103s 113ms/step - loss: 0.0369\n",
      "Epoch 41/50\n",
      "916/916 [==============================] - 100s 109ms/step - loss: 0.0368\n",
      "Epoch 42/50\n",
      "916/916 [==============================] - 105s 115ms/step - loss: 0.0367\n",
      "Epoch 43/50\n",
      "916/916 [==============================] - 100s 109ms/step - loss: 0.0370\n",
      "Epoch 44/50\n",
      "916/916 [==============================] - 97s 106ms/step - loss: 0.0368\n",
      "Epoch 45/50\n",
      "916/916 [==============================] - 98s 107ms/step - loss: 0.0367\n",
      "Epoch 46/50\n",
      "916/916 [==============================] - 99s 108ms/step - loss: 0.0368\n",
      "Epoch 47/50\n",
      "916/916 [==============================] - 98s 107ms/step - loss: 0.0367\n",
      "Epoch 48/50\n",
      "916/916 [==============================] - 90s 98ms/step - loss: 0.0366\n",
      "Epoch 49/50\n",
      "916/916 [==============================] - 95s 104ms/step - loss: 0.0367\n",
      "Epoch 50/50\n",
      "916/916 [==============================] - 89s 97ms/step - loss: 0.0367\n"
     ]
    },
    {
     "data": {
      "text/plain": [
       "<keras.callbacks.History at 0x292560cc7c0>"
      ]
     },
     "execution_count": 80,
     "metadata": {},
     "output_type": "execute_result"
    }
   ],
   "source": [
    "model.fit(generator,epochs=50)"
   ]
  },
  {
   "cell_type": "code",
   "execution_count": 81,
   "metadata": {},
   "outputs": [
    {
     "data": {
      "text/plain": [
       "[<matplotlib.lines.Line2D at 0x2925885d880>]"
      ]
     },
     "execution_count": 81,
     "metadata": {},
     "output_type": "execute_result"
    },
    {
     "data": {
      "image/png": "[encoded data removed]",
      "text/plain": [
       "<Figure size 640x480 with 1 Axes>"
      ]
     },
     "metadata": {},
     "output_type": "display_data"
    }
   ],
   "source": [
    "import matplotlib.pyplot as plt\n",
    "loss_per_epoch = model.history.history['loss']\n",
    "plt.plot(range(len(loss_per_epoch)),loss_per_epoch)"
   ]
  },
  {
   "cell_type": "code",
   "execution_count": 82,
   "metadata": {},
   "outputs": [],
   "source": [
    "last_train_batch = train_scaled[-32:]"
   ]
  },
  {
   "cell_type": "code",
   "execution_count": 83,
   "metadata": {},
   "outputs": [],
   "source": [
    "last_train_batch = last_train_batch.reshape((1, n_input, n_features))"
   ]
  },
  {
   "cell_type": "code",
   "execution_count": 84,
   "metadata": {},
   "outputs": [
    {
     "data": {
      "text/plain": [
       "array([[0.51037306]], dtype=float32)"
      ]
     },
     "execution_count": 84,
     "metadata": {},
     "output_type": "execute_result"
    }
   ],
   "source": [
    "model.predict(last_train_batch)"
   ]
  },
  {
   "cell_type": "code",
   "execution_count": 85,
   "metadata": {},
   "outputs": [],
   "source": [
    "test_predictions = []\n",
    "\n",
    "first_eval_batch = train_scaled[-n_input:]\n",
    "current_batch = first_eval_batch.reshape((1, n_input, n_features))\n",
    "\n",
    "for i in range(len(test)):\n",
    "    \n",
    "    # get the prediction value for the first batch\n",
    "    current_pred = model.predict(current_batch)[0]\n",
    "    \n",
    "    # append the prediction into the array\n",
    "    test_predictions.append(current_pred) \n",
    "    \n",
    "    # use the prediction to update the batch and remove the first value\n",
    "    current_batch = np.append(current_batch[:,1:,:],[[current_pred]],axis=1)"
   ]
  },
  {
   "cell_type": "code",
   "execution_count": 87,
   "metadata": {},
   "outputs": [],
   "source": [
    "\n",
    "true_predictions = scalar.inverse_transform(test_predictions)"
   ]
  },
  {
   "cell_type": "code",
   "execution_count": 88,
   "metadata": {},
   "outputs": [],
   "source": [
    "test['Predictions'] = true_predictions"
   ]
  },
  {
   "cell_type": "code",
   "execution_count": 89,
   "metadata": {},
   "outputs": [
    {
     "data": {
      "text/plain": [
       "<Axes: xlabel='odate'>"
      ]
     },
     "execution_count": 89,
     "metadata": {},
     "output_type": "execute_result"
    },
    {
     "data": {
      "image/png": "[encoded data removed]",
      "text/plain": [
       "<Figure size 1400x500 with 1 Axes>"
      ]
     },
     "metadata": {},
     "output_type": "display_data"
    }
   ],
   "source": [
    "test.plot(figsize=(14,5))"
   ]
  }
 ],
 "metadata": {
  "kernelspec": {
   "display_name": "tf-gpu",
   "language": "python",
   "name": "python3"
  },
  "language_info": {
   "codemirror_mode": {
    "name": "ipython",
    "version": 3
   },
   "file_extension": ".py",
   "mimetype": "text/x-python",
   "name": "python",
   "nbconvert_exporter": "python",
   "pygments_lexer": "ipython3",
   "version": "3.9.16"
  },
  "orig_nbformat": 4
 },
 "nbformat": 4,
 "nbformat_minor": 2
}
