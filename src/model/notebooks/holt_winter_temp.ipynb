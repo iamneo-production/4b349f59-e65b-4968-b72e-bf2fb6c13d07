{
 "cells": [
  {
   "cell_type": "code",
<<<<<<< HEAD
   "execution_count": 1,
=======
   "execution_count": 64,
>>>>>>> 63d9c7b72632033fdb580228cc1fbce7c66069d5
   "metadata": {},
   "outputs": [],
   "source": [
    "import pandas as pd\n",
    "from functools import reduce\n",
    "import statsmodels.api as sm\n"
   ]
  },
  {
   "cell_type": "code",
<<<<<<< HEAD
   "execution_count": 2,
=======
   "execution_count": 65,
>>>>>>> 63d9c7b72632033fdb580228cc1fbce7c66069d5
   "metadata": {},
   "outputs": [
    {
     "ename": "FileNotFoundError",
     "evalue": "[Errno 2] No such file or directory: 'C:/Users/91966/OneDrive/Desktop/capstone/telangana/weather/daily_weather_data.csv'",
     "output_type": "error",
     "traceback": [
      "\u001b[0;31m---------------------------------------------------------------------------\u001b[0m",
      "\u001b[0;31mFileNotFoundError\u001b[0m                         Traceback (most recent call last)",
      "Cell \u001b[0;32mIn[2], line 1\u001b[0m\n\u001b[0;32m----> 1\u001b[0m df\u001b[39m=\u001b[39mpd\u001b[39m.\u001b[39;49mread_csv(\u001b[39m\"\u001b[39;49m\u001b[39mC:/Users/91966/OneDrive/Desktop/capstone/telangana/weather/daily_weather_data.csv\u001b[39;49m\u001b[39m\"\u001b[39;49m)\n\u001b[1;32m      2\u001b[0m df\u001b[39m=\u001b[39mdf[[\u001b[39m'\u001b[39m\u001b[39mdistrict\u001b[39m\u001b[39m'\u001b[39m,\u001b[39m'\u001b[39m\u001b[39modate\u001b[39m\u001b[39m'\u001b[39m,\u001b[39m'\u001b[39m\u001b[39mrainfall\u001b[39m\u001b[39m'\u001b[39m,\u001b[39m'\u001b[39m\u001b[39mtemp_min\u001b[39m\u001b[39m'\u001b[39m,\u001b[39m'\u001b[39m\u001b[39mtemp_max\u001b[39m\u001b[39m'\u001b[39m]]\u001b[39m.\u001b[39mdropna()\n",
      "File \u001b[0;32m~/dev/telangana-ai/4b349f59-e65b-4968-b72e-bf2fb6c13d07/venv/lib64/python3.11/site-packages/pandas/util/_decorators.py:211\u001b[0m, in \u001b[0;36mdeprecate_kwarg.<locals>._deprecate_kwarg.<locals>.wrapper\u001b[0;34m(*args, **kwargs)\u001b[0m\n\u001b[1;32m    209\u001b[0m     \u001b[39melse\u001b[39;00m:\n\u001b[1;32m    210\u001b[0m         kwargs[new_arg_name] \u001b[39m=\u001b[39m new_arg_value\n\u001b[0;32m--> 211\u001b[0m \u001b[39mreturn\u001b[39;00m func(\u001b[39m*\u001b[39;49margs, \u001b[39m*\u001b[39;49m\u001b[39m*\u001b[39;49mkwargs)\n",
      "File \u001b[0;32m~/dev/telangana-ai/4b349f59-e65b-4968-b72e-bf2fb6c13d07/venv/lib64/python3.11/site-packages/pandas/util/_decorators.py:331\u001b[0m, in \u001b[0;36mdeprecate_nonkeyword_arguments.<locals>.decorate.<locals>.wrapper\u001b[0;34m(*args, **kwargs)\u001b[0m\n\u001b[1;32m    325\u001b[0m \u001b[39mif\u001b[39;00m \u001b[39mlen\u001b[39m(args) \u001b[39m>\u001b[39m num_allow_args:\n\u001b[1;32m    326\u001b[0m     warnings\u001b[39m.\u001b[39mwarn(\n\u001b[1;32m    327\u001b[0m         msg\u001b[39m.\u001b[39mformat(arguments\u001b[39m=\u001b[39m_format_argument_list(allow_args)),\n\u001b[1;32m    328\u001b[0m         \u001b[39mFutureWarning\u001b[39;00m,\n\u001b[1;32m    329\u001b[0m         stacklevel\u001b[39m=\u001b[39mfind_stack_level(),\n\u001b[1;32m    330\u001b[0m     )\n\u001b[0;32m--> 331\u001b[0m \u001b[39mreturn\u001b[39;00m func(\u001b[39m*\u001b[39;49margs, \u001b[39m*\u001b[39;49m\u001b[39m*\u001b[39;49mkwargs)\n",
      "File \u001b[0;32m~/dev/telangana-ai/4b349f59-e65b-4968-b72e-bf2fb6c13d07/venv/lib64/python3.11/site-packages/pandas/io/parsers/readers.py:950\u001b[0m, in \u001b[0;36mread_csv\u001b[0;34m(filepath_or_buffer, sep, delimiter, header, names, index_col, usecols, squeeze, prefix, mangle_dupe_cols, dtype, engine, converters, true_values, false_values, skipinitialspace, skiprows, skipfooter, nrows, na_values, keep_default_na, na_filter, verbose, skip_blank_lines, parse_dates, infer_datetime_format, keep_date_col, date_parser, dayfirst, cache_dates, iterator, chunksize, compression, thousands, decimal, lineterminator, quotechar, quoting, doublequote, escapechar, comment, encoding, encoding_errors, dialect, error_bad_lines, warn_bad_lines, on_bad_lines, delim_whitespace, low_memory, memory_map, float_precision, storage_options)\u001b[0m\n\u001b[1;32m    935\u001b[0m kwds_defaults \u001b[39m=\u001b[39m _refine_defaults_read(\n\u001b[1;32m    936\u001b[0m     dialect,\n\u001b[1;32m    937\u001b[0m     delimiter,\n\u001b[0;32m   (...)\u001b[0m\n\u001b[1;32m    946\u001b[0m     defaults\u001b[39m=\u001b[39m{\u001b[39m\"\u001b[39m\u001b[39mdelimiter\u001b[39m\u001b[39m\"\u001b[39m: \u001b[39m\"\u001b[39m\u001b[39m,\u001b[39m\u001b[39m\"\u001b[39m},\n\u001b[1;32m    947\u001b[0m )\n\u001b[1;32m    948\u001b[0m kwds\u001b[39m.\u001b[39mupdate(kwds_defaults)\n\u001b[0;32m--> 950\u001b[0m \u001b[39mreturn\u001b[39;00m _read(filepath_or_buffer, kwds)\n",
      "File \u001b[0;32m~/dev/telangana-ai/4b349f59-e65b-4968-b72e-bf2fb6c13d07/venv/lib64/python3.11/site-packages/pandas/io/parsers/readers.py:605\u001b[0m, in \u001b[0;36m_read\u001b[0;34m(filepath_or_buffer, kwds)\u001b[0m\n\u001b[1;32m    602\u001b[0m _validate_names(kwds\u001b[39m.\u001b[39mget(\u001b[39m\"\u001b[39m\u001b[39mnames\u001b[39m\u001b[39m\"\u001b[39m, \u001b[39mNone\u001b[39;00m))\n\u001b[1;32m    604\u001b[0m \u001b[39m# Create the parser.\u001b[39;00m\n\u001b[0;32m--> 605\u001b[0m parser \u001b[39m=\u001b[39m TextFileReader(filepath_or_buffer, \u001b[39m*\u001b[39;49m\u001b[39m*\u001b[39;49mkwds)\n\u001b[1;32m    607\u001b[0m \u001b[39mif\u001b[39;00m chunksize \u001b[39mor\u001b[39;00m iterator:\n\u001b[1;32m    608\u001b[0m     \u001b[39mreturn\u001b[39;00m parser\n",
      "File \u001b[0;32m~/dev/telangana-ai/4b349f59-e65b-4968-b72e-bf2fb6c13d07/venv/lib64/python3.11/site-packages/pandas/io/parsers/readers.py:1442\u001b[0m, in \u001b[0;36mTextFileReader.__init__\u001b[0;34m(self, f, engine, **kwds)\u001b[0m\n\u001b[1;32m   1439\u001b[0m     \u001b[39mself\u001b[39m\u001b[39m.\u001b[39moptions[\u001b[39m\"\u001b[39m\u001b[39mhas_index_names\u001b[39m\u001b[39m\"\u001b[39m] \u001b[39m=\u001b[39m kwds[\u001b[39m\"\u001b[39m\u001b[39mhas_index_names\u001b[39m\u001b[39m\"\u001b[39m]\n\u001b[1;32m   1441\u001b[0m \u001b[39mself\u001b[39m\u001b[39m.\u001b[39mhandles: IOHandles \u001b[39m|\u001b[39m \u001b[39mNone\u001b[39;00m \u001b[39m=\u001b[39m \u001b[39mNone\u001b[39;00m\n\u001b[0;32m-> 1442\u001b[0m \u001b[39mself\u001b[39m\u001b[39m.\u001b[39m_engine \u001b[39m=\u001b[39m \u001b[39mself\u001b[39;49m\u001b[39m.\u001b[39;49m_make_engine(f, \u001b[39mself\u001b[39;49m\u001b[39m.\u001b[39;49mengine)\n",
      "File \u001b[0;32m~/dev/telangana-ai/4b349f59-e65b-4968-b72e-bf2fb6c13d07/venv/lib64/python3.11/site-packages/pandas/io/parsers/readers.py:1735\u001b[0m, in \u001b[0;36mTextFileReader._make_engine\u001b[0;34m(self, f, engine)\u001b[0m\n\u001b[1;32m   1733\u001b[0m     \u001b[39mif\u001b[39;00m \u001b[39m\"\u001b[39m\u001b[39mb\u001b[39m\u001b[39m\"\u001b[39m \u001b[39mnot\u001b[39;00m \u001b[39min\u001b[39;00m mode:\n\u001b[1;32m   1734\u001b[0m         mode \u001b[39m+\u001b[39m\u001b[39m=\u001b[39m \u001b[39m\"\u001b[39m\u001b[39mb\u001b[39m\u001b[39m\"\u001b[39m\n\u001b[0;32m-> 1735\u001b[0m \u001b[39mself\u001b[39m\u001b[39m.\u001b[39mhandles \u001b[39m=\u001b[39m get_handle(\n\u001b[1;32m   1736\u001b[0m     f,\n\u001b[1;32m   1737\u001b[0m     mode,\n\u001b[1;32m   1738\u001b[0m     encoding\u001b[39m=\u001b[39;49m\u001b[39mself\u001b[39;49m\u001b[39m.\u001b[39;49moptions\u001b[39m.\u001b[39;49mget(\u001b[39m\"\u001b[39;49m\u001b[39mencoding\u001b[39;49m\u001b[39m\"\u001b[39;49m, \u001b[39mNone\u001b[39;49;00m),\n\u001b[1;32m   1739\u001b[0m     compression\u001b[39m=\u001b[39;49m\u001b[39mself\u001b[39;49m\u001b[39m.\u001b[39;49moptions\u001b[39m.\u001b[39;49mget(\u001b[39m\"\u001b[39;49m\u001b[39mcompression\u001b[39;49m\u001b[39m\"\u001b[39;49m, \u001b[39mNone\u001b[39;49;00m),\n\u001b[1;32m   1740\u001b[0m     memory_map\u001b[39m=\u001b[39;49m\u001b[39mself\u001b[39;49m\u001b[39m.\u001b[39;49moptions\u001b[39m.\u001b[39;49mget(\u001b[39m\"\u001b[39;49m\u001b[39mmemory_map\u001b[39;49m\u001b[39m\"\u001b[39;49m, \u001b[39mFalse\u001b[39;49;00m),\n\u001b[1;32m   1741\u001b[0m     is_text\u001b[39m=\u001b[39;49mis_text,\n\u001b[1;32m   1742\u001b[0m     errors\u001b[39m=\u001b[39;49m\u001b[39mself\u001b[39;49m\u001b[39m.\u001b[39;49moptions\u001b[39m.\u001b[39;49mget(\u001b[39m\"\u001b[39;49m\u001b[39mencoding_errors\u001b[39;49m\u001b[39m\"\u001b[39;49m, \u001b[39m\"\u001b[39;49m\u001b[39mstrict\u001b[39;49m\u001b[39m\"\u001b[39;49m),\n\u001b[1;32m   1743\u001b[0m     storage_options\u001b[39m=\u001b[39;49m\u001b[39mself\u001b[39;49m\u001b[39m.\u001b[39;49moptions\u001b[39m.\u001b[39;49mget(\u001b[39m\"\u001b[39;49m\u001b[39mstorage_options\u001b[39;49m\u001b[39m\"\u001b[39;49m, \u001b[39mNone\u001b[39;49;00m),\n\u001b[1;32m   1744\u001b[0m )\n\u001b[1;32m   1745\u001b[0m \u001b[39massert\u001b[39;00m \u001b[39mself\u001b[39m\u001b[39m.\u001b[39mhandles \u001b[39mis\u001b[39;00m \u001b[39mnot\u001b[39;00m \u001b[39mNone\u001b[39;00m\n\u001b[1;32m   1746\u001b[0m f \u001b[39m=\u001b[39m \u001b[39mself\u001b[39m\u001b[39m.\u001b[39mhandles\u001b[39m.\u001b[39mhandle\n",
      "File \u001b[0;32m~/dev/telangana-ai/4b349f59-e65b-4968-b72e-bf2fb6c13d07/venv/lib64/python3.11/site-packages/pandas/io/common.py:856\u001b[0m, in \u001b[0;36mget_handle\u001b[0;34m(path_or_buf, mode, encoding, compression, memory_map, is_text, errors, storage_options)\u001b[0m\n\u001b[1;32m    851\u001b[0m \u001b[39melif\u001b[39;00m \u001b[39misinstance\u001b[39m(handle, \u001b[39mstr\u001b[39m):\n\u001b[1;32m    852\u001b[0m     \u001b[39m# Check whether the filename is to be opened in binary mode.\u001b[39;00m\n\u001b[1;32m    853\u001b[0m     \u001b[39m# Binary mode does not support 'encoding' and 'newline'.\u001b[39;00m\n\u001b[1;32m    854\u001b[0m     \u001b[39mif\u001b[39;00m ioargs\u001b[39m.\u001b[39mencoding \u001b[39mand\u001b[39;00m \u001b[39m\"\u001b[39m\u001b[39mb\u001b[39m\u001b[39m\"\u001b[39m \u001b[39mnot\u001b[39;00m \u001b[39min\u001b[39;00m ioargs\u001b[39m.\u001b[39mmode:\n\u001b[1;32m    855\u001b[0m         \u001b[39m# Encoding\u001b[39;00m\n\u001b[0;32m--> 856\u001b[0m         handle \u001b[39m=\u001b[39m \u001b[39mopen\u001b[39;49m(\n\u001b[1;32m    857\u001b[0m             handle,\n\u001b[1;32m    858\u001b[0m             ioargs\u001b[39m.\u001b[39;49mmode,\n\u001b[1;32m    859\u001b[0m             encoding\u001b[39m=\u001b[39;49mioargs\u001b[39m.\u001b[39;49mencoding,\n\u001b[1;32m    860\u001b[0m             errors\u001b[39m=\u001b[39;49merrors,\n\u001b[1;32m    861\u001b[0m             newline\u001b[39m=\u001b[39;49m\u001b[39m\"\u001b[39;49m\u001b[39m\"\u001b[39;49m,\n\u001b[1;32m    862\u001b[0m         )\n\u001b[1;32m    863\u001b[0m     \u001b[39melse\u001b[39;00m:\n\u001b[1;32m    864\u001b[0m         \u001b[39m# Binary mode\u001b[39;00m\n\u001b[1;32m    865\u001b[0m         handle \u001b[39m=\u001b[39m \u001b[39mopen\u001b[39m(handle, ioargs\u001b[39m.\u001b[39mmode)\n",
      "\u001b[0;31mFileNotFoundError\u001b[0m: [Errno 2] No such file or directory: 'C:/Users/91966/OneDrive/Desktop/capstone/telangana/weather/daily_weather_data.csv'"
     ]
    }
   ],
   "source": [
    "df=pd.read_csv(\"C:/Users/91966/OneDrive/Desktop/capstone/telangana/weather/daily_weather_data.csv\")\n",
    "df=df[['district','odate','rainfall','temp_min','temp_max']].dropna()"
   ]
  },
  {
   "cell_type": "code",
<<<<<<< HEAD
   "execution_count": null,
=======
   "execution_count": 66,
>>>>>>> 63d9c7b72632033fdb580228cc1fbce7c66069d5
   "metadata": {},
   "outputs": [],
   "source": [
    "df1=df.copy(deep=True)\n",
    "df2=df.copy(deep=True)\n",
    "df3=df.copy(deep=True)\n",
    "df1['odate'] = pd.to_datetime(df1['odate'], format='%d-%m-%Y', errors='coerce')\n",
    "df1.dropna(inplace=True)\n",
    "df2['odate'] = pd.to_datetime(df2['odate'], format='%Y-%m-%d', errors='coerce')\n",
    "df2.dropna(inplace=True)\n",
    "df3['odate'] = pd.to_datetime(df3['odate'], format='%d-%b-%y', errors='coerce')\n",
    "df3.dropna(inplace=True)"
   ]
  },
  {
   "cell_type": "code",
<<<<<<< HEAD
   "execution_count": null,
=======
   "execution_count": 67,
>>>>>>> 63d9c7b72632033fdb580228cc1fbce7c66069d5
   "metadata": {},
   "outputs": [],
   "source": [
    "df_final=pd.concat([df1,df2,df3],axis=0).sort_index()\n",
    "df_final=df_final.sort_values(by='odate')"
   ]
  },
  {
   "cell_type": "code",
<<<<<<< HEAD
   "execution_count": null,
=======
   "execution_count": 68,
>>>>>>> 63d9c7b72632033fdb580228cc1fbce7c66069d5
   "metadata": {},
   "outputs": [],
   "source": [
    "df_comps={}\n",
    "options=[\"Adilabad\",\"Nizamabad\",\"Warangal\",\"Karimnagar\",\"Khammam\"]\n",
    "for i in options:\n",
    "  df_comps[i]=df_final[df_final[\"district\"]==i]\n",
    "district='Khammam'"
   ]
  },
  {
   "cell_type": "code",
<<<<<<< HEAD
   "execution_count": null,
=======
   "execution_count": 69,
>>>>>>> 63d9c7b72632033fdb580228cc1fbce7c66069d5
   "metadata": {},
   "outputs": [],
   "source": [
    "df_comps[district]=df_comps[district][['odate','temp_max','temp_min']]"
   ]
  },
  {
   "cell_type": "code",
<<<<<<< HEAD
   "execution_count": null,
=======
   "execution_count": 70,
>>>>>>> 63d9c7b72632033fdb580228cc1fbce7c66069d5
   "metadata": {},
   "outputs": [
    {
     "name": "stderr",
     "output_type": "stream",
     "text": [
      "C:\\Users\\91966\\AppData\\Local\\Temp\\ipykernel_20532\\366426764.py:2: FutureWarning: The default value of numeric_only in DataFrameGroupBy.mean is deprecated. In a future version, numeric_only will default to False. Either specify numeric_only or select only columns which should be valid for the function.\n",
      "  df_comps[i]=df_comps[i].groupby(by=[\"odate\"]).mean()\n",
      "C:\\Users\\91966\\AppData\\Local\\Temp\\ipykernel_20532\\366426764.py:2: FutureWarning: The default value of numeric_only in DataFrameGroupBy.mean is deprecated. In a future version, numeric_only will default to False. Either specify numeric_only or select only columns which should be valid for the function.\n",
      "  df_comps[i]=df_comps[i].groupby(by=[\"odate\"]).mean()\n",
      "C:\\Users\\91966\\AppData\\Local\\Temp\\ipykernel_20532\\366426764.py:2: FutureWarning: The default value of numeric_only in DataFrameGroupBy.mean is deprecated. In a future version, numeric_only will default to False. Either specify numeric_only or select only columns which should be valid for the function.\n",
      "  df_comps[i]=df_comps[i].groupby(by=[\"odate\"]).mean()\n",
      "C:\\Users\\91966\\AppData\\Local\\Temp\\ipykernel_20532\\366426764.py:2: FutureWarning: The default value of numeric_only in DataFrameGroupBy.mean is deprecated. In a future version, numeric_only will default to False. Either specify numeric_only or select only columns which should be valid for the function.\n",
      "  df_comps[i]=df_comps[i].groupby(by=[\"odate\"]).mean()\n"
     ]
    }
   ],
   "source": [
    "for i in df_comps:\n",
    "    df_comps[i]=df_comps[i].groupby(by=[\"odate\"]).mean()\n"
   ]
  },
  {
   "cell_type": "code",
<<<<<<< HEAD
   "execution_count": null,
=======
   "execution_count": 71,
>>>>>>> 63d9c7b72632033fdb580228cc1fbce7c66069d5
   "metadata": {},
   "outputs": [
    {
     "data": {
      "text/html": [
       "<div>\n",
       "<style scoped>\n",
       "    .dataframe tbody tr th:only-of-type {\n",
       "        vertical-align: middle;\n",
       "    }\n",
       "\n",
       "    .dataframe tbody tr th {\n",
       "        vertical-align: top;\n",
       "    }\n",
       "\n",
       "    .dataframe thead th {\n",
       "        text-align: right;\n",
       "    }\n",
       "</style>\n",
       "<table border=\"1\" class=\"dataframe\">\n",
       "  <thead>\n",
       "    <tr style=\"text-align: right;\">\n",
       "      <th></th>\n",
       "      <th>rainfall</th>\n",
       "      <th>temp_min</th>\n",
       "      <th>temp_max</th>\n",
       "    </tr>\n",
       "    <tr>\n",
       "      <th>odate</th>\n",
       "      <th></th>\n",
       "      <th></th>\n",
       "      <th></th>\n",
       "    </tr>\n",
       "  </thead>\n",
       "  <tbody>\n",
       "    <tr>\n",
       "      <th>2018-01-01</th>\n",
       "      <td>0.000000</td>\n",
       "      <td>11.200000</td>\n",
       "      <td>30.436842</td>\n",
       "    </tr>\n",
       "    <tr>\n",
       "      <th>2018-01-02</th>\n",
       "      <td>0.000000</td>\n",
       "      <td>11.810526</td>\n",
       "      <td>31.173684</td>\n",
       "    </tr>\n",
       "    <tr>\n",
       "      <th>2018-01-03</th>\n",
       "      <td>0.000000</td>\n",
       "      <td>11.626316</td>\n",
       "      <td>31.121053</td>\n",
       "    </tr>\n",
       "    <tr>\n",
       "      <th>2018-01-04</th>\n",
       "      <td>0.000000</td>\n",
       "      <td>11.200000</td>\n",
       "      <td>30.300000</td>\n",
       "    </tr>\n",
       "    <tr>\n",
       "      <th>2018-01-05</th>\n",
       "      <td>0.000000</td>\n",
       "      <td>10.700000</td>\n",
       "      <td>29.410526</td>\n",
       "    </tr>\n",
       "    <tr>\n",
       "      <th>...</th>\n",
       "      <td>...</td>\n",
       "      <td>...</td>\n",
       "      <td>...</td>\n",
       "    </tr>\n",
       "    <tr>\n",
       "      <th>2022-09-26</th>\n",
       "      <td>0.000000</td>\n",
       "      <td>23.544444</td>\n",
       "      <td>33.972222</td>\n",
       "    </tr>\n",
       "    <tr>\n",
       "      <th>2022-09-27</th>\n",
       "      <td>11.888889</td>\n",
       "      <td>24.683333</td>\n",
       "      <td>33.350000</td>\n",
       "    </tr>\n",
       "    <tr>\n",
       "      <th>2022-09-28</th>\n",
       "      <td>1.166667</td>\n",
       "      <td>23.661111</td>\n",
       "      <td>33.894444</td>\n",
       "    </tr>\n",
       "    <tr>\n",
       "      <th>2022-09-29</th>\n",
       "      <td>9.816667</td>\n",
       "      <td>24.322222</td>\n",
       "      <td>32.605556</td>\n",
       "    </tr>\n",
       "    <tr>\n",
       "      <th>2022-09-30</th>\n",
       "      <td>2.250000</td>\n",
       "      <td>23.577778</td>\n",
       "      <td>32.166667</td>\n",
       "    </tr>\n",
       "  </tbody>\n",
       "</table>\n",
       "<p>1733 rows × 3 columns</p>\n",
       "</div>"
      ],
      "text/plain": [
       "             rainfall   temp_min   temp_max\n",
       "odate                                      \n",
       "2018-01-01   0.000000  11.200000  30.436842\n",
       "2018-01-02   0.000000  11.810526  31.173684\n",
       "2018-01-03   0.000000  11.626316  31.121053\n",
       "2018-01-04   0.000000  11.200000  30.300000\n",
       "2018-01-05   0.000000  10.700000  29.410526\n",
       "...               ...        ...        ...\n",
       "2022-09-26   0.000000  23.544444  33.972222\n",
       "2022-09-27  11.888889  24.683333  33.350000\n",
       "2022-09-28   1.166667  23.661111  33.894444\n",
       "2022-09-29   9.816667  24.322222  32.605556\n",
       "2022-09-30   2.250000  23.577778  32.166667\n",
       "\n",
       "[1733 rows x 3 columns]"
      ]
     },
     "execution_count": 71,
     "metadata": {},
     "output_type": "execute_result"
    }
   ],
   "source": [
    "df_comps['Adilabad']"
   ]
  },
  {
   "cell_type": "code",
<<<<<<< HEAD
   "execution_count": null,
   "metadata": {},
   "outputs": [],
   "source": [
    "district = \"Adilabad\"\n",
=======
   "execution_count": 72,
   "metadata": {},
   "outputs": [],
   "source": [
    "\n",
>>>>>>> 63d9c7b72632033fdb580228cc1fbce7c66069d5
    "df=df_comps[district]\n",
    "\n",
    "df[\"avg_temp\"] = ((df[\"temp_max\"] + df[\"temp_min\"])/2)"
   ]
  },
  {
   "cell_type": "code",
<<<<<<< HEAD
   "execution_count": null,
=======
   "execution_count": 73,
>>>>>>> 63d9c7b72632033fdb580228cc1fbce7c66069d5
   "metadata": {},
   "outputs": [
    {
     "name": "stderr",
     "output_type": "stream",
     "text": [
      "c:\\Users\\91966\\anaconda3\\envs\\tf-gpu\\lib\\site-packages\\statsmodels\\tsa\\base\\tsa_model.py:471: ValueWarning: A date index has been provided, but it has no associated frequency information and so will be ignored when e.g. forecasting.\n",
      "  self._init_dates(dates, freq)\n",
      "c:\\Users\\91966\\anaconda3\\envs\\tf-gpu\\lib\\site-packages\\statsmodels\\tsa\\holtwinters\\model.py:915: ConvergenceWarning: Optimization failed to converge. Check mle_retvals.\n",
      "  warnings.warn(\n"
     ]
    },
    {
     "data": {
      "text/plain": [
       "{'smoothing_level': 0.720869751982435,\n",
       " 'smoothing_trend': nan,\n",
       " 'smoothing_seasonal': 1.0528679006976707e-08,\n",
       " 'damping_trend': nan,\n",
       " 'initial_level': 36.8712864456577,\n",
       " 'initial_trend': nan,\n",
       " 'initial_seasons': array([-3.78265625, -3.79178404, -3.49984383, -4.02288777, -3.81845216,\n",
       "        -3.41437033, -3.9042205 , -3.91566335, -3.35674622, -3.46089361,\n",
       "        -3.05063765, -2.77944207, -2.98798961, -3.65530161, -3.52684577,\n",
       "        -2.90918739, -2.66974554, -3.1186217 , -2.83873417, -2.63156008,\n",
       "        -2.4509206 , -2.21009719, -2.53270058, -2.14898627, -2.18932511,\n",
       "        -2.27919591, -2.26849557, -3.20661636, -3.64613008, -2.94834452,\n",
       "        -2.41853021, -1.27010948, -1.45488703, -1.38209029, -1.45520749,\n",
       "        -1.71810749, -1.40730149, -1.15625041, -2.17117259, -2.27840959,\n",
       "        -2.04225556, -1.32638187, -1.879363  , -1.08866773, -0.65532614,\n",
       "        -0.21421038, -0.35476911, -0.30564778, -0.28260331, -0.46787226,\n",
       "        -1.10389865, -0.42367936,  0.30224802,  1.07442821,  0.98246934,\n",
       "         0.90037004,  1.28582555,  1.46803392,  1.36926997,  1.09319179,\n",
       "         0.82432549,  0.44547403,  1.02492462,  1.10502547,  1.07820119,\n",
       "         0.65889665,  0.31309743,  0.74154604,  0.6568628 ,  1.08243991,\n",
       "         1.35604269,  1.23552696,  2.08009843,  1.94416687,  2.09592226,\n",
       "         1.35882915,  1.31107287,  1.15956326,  1.28436258,  1.59052445,\n",
       "         1.95879541,  1.94393986,  2.32270202,  2.29301613,  1.94991474,\n",
       "         2.22042379,  2.59490696,  3.12830282,  3.62596768,  3.88821532,\n",
       "         3.72882274,  3.59435187,  3.2461919 ,  2.65457857,  2.48872357,\n",
       "         2.6839916 ,  2.92109791,  3.12506731,  2.8920411 ,  2.21616401,\n",
       "         2.8575862 ,  3.63123469,  3.73288767,  4.17468078,  3.51887709,\n",
       "         3.27837685,  4.00055781,  3.94568989,  4.19014968,  4.86523992,\n",
       "         4.84454367,  4.26416571,  4.12937053,  4.64123001,  4.95571862,\n",
       "         5.54736828,  5.26863585,  5.3152886 ,  5.12702228,  5.38418412,\n",
       "         5.63044754,  5.67799556,  5.22990808,  3.80489762,  4.35378482,\n",
       "         6.2045567 ,  5.93252586,  5.84382246,  6.05422672,  6.14051322,\n",
       "         5.38257252,  4.19617736,  3.97359012,  5.01751085,  4.86950302,\n",
       "         4.45511235,  3.98919348,  4.2042556 ,  5.32614595,  5.2313733 ,\n",
       "         5.86310674,  6.06120552,  6.34178   ,  5.64642842,  5.95618828,\n",
       "         5.07857799,  6.67580634,  6.19803498,  6.75939418,  7.45321355,\n",
       "         5.52715945,  5.73375286,  5.48307778,  4.36589096,  3.5064536 ,\n",
       "         4.58745826,  5.22022668,  2.77172366,  4.38888046,  4.88068108,\n",
       "         3.74154198,  3.07381991,  0.82635988,  1.40200832,  2.50393415,\n",
       "         2.47661652,  3.30201588,  2.52387676,  1.19249285,  1.50531457,\n",
       "         2.36819693,  2.63485224,  0.21243138,  0.23997756,  0.25365311,\n",
       "         1.1776249 ,  1.51350431,  0.61330573,  0.6384455 , -0.20989433,\n",
       "         0.45978541,  0.94983218, -0.76692743, -1.30793688, -0.49756675,\n",
       "         0.32590265, -1.29709302, -1.21837496, -1.02596875, -2.8794612 ,\n",
       "        -2.23251934, -2.14455354, -2.96949578, -3.07480993, -2.57773745,\n",
       "        -3.10972502, -2.70373889, -1.59268112, -0.64407793, -0.06164276,\n",
       "        -0.55143102, -2.38371899, -1.76461683, -3.02515149, -2.45248047,\n",
       "        -0.43368699, -0.03756716, -2.27558141, -0.60342649, -1.49381586,\n",
       "        -0.83950357,  0.12982584,  0.17980153,  0.13530017, -1.27261316,\n",
       "        -1.30481402, -0.87055271, -1.56145913, -1.93315654, -2.45900465,\n",
       "        -1.17406325, -1.39307523, -1.9353263 , -1.74133303, -2.54055224,\n",
       "        -3.79682332, -4.01060642, -4.23828119, -2.99069101, -2.00008746,\n",
       "        -1.45836956, -3.95430797, -4.26857618, -2.0175295 , -0.77676293,\n",
       "        -0.80476899, -0.62068011,  0.14037609, -1.30553625, -1.78742561,\n",
       "        -0.94722543, -0.44187054, -0.33884636, -1.55968279, -1.79137829,\n",
       "        -1.01087831, -0.70510599, -0.63276211, -0.11630216, -2.26131596,\n",
       "        -1.16140169, -0.67155817, -0.68041696, -1.28305638, -1.99857954,\n",
       "        -1.48684353, -1.3914797 , -0.96578719, -0.51497827, -0.19416484,\n",
       "        -0.7912781 , -0.43160916, -1.59923228, -1.84587622, -1.79636994,\n",
       "        -1.39774253, -1.26682433, -0.35482518, -0.75380615, -1.8479387 ,\n",
       "        -1.54227823, -0.65662112, -0.53340098, -0.35181758,  0.01350525,\n",
       "         0.6981455 ,  0.78579339, -0.08174451, -0.09697566, -0.39029459,\n",
       "        -0.42099469,  0.10744297, -0.47524404, -0.53695317, -0.83378453,\n",
       "        -0.63137545, -1.52986696, -0.54294852, -1.13151644, -1.7234011 ,\n",
       "        -1.02577269, -0.69706045, -0.31860653, -1.57817678, -1.52494542,\n",
       "        -1.13529903, -0.00809389, -0.43826683, -0.50668627, -0.43981695,\n",
       "        -0.70837541, -1.21168504, -1.33662039, -1.26574474, -1.06671599,\n",
       "        -0.93559194, -0.96658759, -0.67637095, -1.35696234, -0.73665158,\n",
       "        -0.83532053, -1.54610758, -1.32109006, -1.43798665, -1.27677956,\n",
       "        -1.96577711, -2.74690973, -1.67836846, -0.48545785, -0.86117235,\n",
       "        -1.26034297, -0.39011826, -1.01815301, -2.18094527, -1.19714109,\n",
       "        -1.09308634, -1.7004461 , -1.9427181 , -1.88566343, -2.14568405,\n",
       "        -4.05459178, -4.60069456, -3.26250958, -2.38699197, -2.53142726,\n",
       "        -2.86639158, -2.256062  , -2.59724994, -2.63591762, -2.84492314,\n",
       "        -1.72563083, -1.5993147 , -1.85084977, -2.10830622, -2.07717529,\n",
       "        -2.55827148, -2.31387495, -2.67760125, -2.59126199, -3.19596093,\n",
       "        -4.6315246 , -5.55533902, -4.73989084, -4.09212418, -3.75589163,\n",
       "        -3.38526015, -3.38494126, -3.64517602, -3.17901363, -3.56689606,\n",
       "        -3.33784967, -3.43282223, -3.52627615, -3.61342124, -3.96109159]),\n",
       " 'use_boxcox': False,\n",
       " 'lamda': None,\n",
       " 'remove_bias': False}"
      ]
     },
     "execution_count": 73,
     "metadata": {},
     "output_type": "execute_result"
    }
   ],
   "source": [
    "holt_winter = sm.tsa.ExponentialSmoothing(\n",
    "    df['temp_max'], seasonal='add', seasonal_periods=365)\n",
    "x = holt_winter.fit()\n",
    "x.params"
   ]
  },
  {
   "cell_type": "code",
<<<<<<< HEAD
   "execution_count": null,
=======
   "execution_count": 74,
>>>>>>> 63d9c7b72632033fdb580228cc1fbce7c66069d5
   "metadata": {},
   "outputs": [
    {
     "name": "stderr",
     "output_type": "stream",
     "text": [
      "c:\\Users\\91966\\anaconda3\\envs\\tf-gpu\\lib\\site-packages\\statsmodels\\tsa\\base\\tsa_model.py:471: ValueWarning: A date index has been provided, but it has no associated frequency information and so will be ignored when e.g. forecasting.\n",
      "  self._init_dates(dates, freq)\n",
      "c:\\Users\\91966\\anaconda3\\envs\\tf-gpu\\lib\\site-packages\\statsmodels\\tsa\\holtwinters\\model.py:915: ConvergenceWarning: Optimization failed to converge. Check mle_retvals.\n",
      "  warnings.warn(\n"
     ]
    },
    {
     "data": {
      "text/plain": [
       "{'smoothing_level': 0.7988356620600764,\n",
       " 'smoothing_trend': nan,\n",
       " 'smoothing_seasonal': 5.532558863687082e-10,\n",
       " 'damping_trend': nan,\n",
       " 'initial_level': 30.350705890624578,\n",
       " 'initial_trend': nan,\n",
       " 'initial_seasons': array([-4.67698514, -4.6296859 , -4.33022723, -4.85674761, -4.65965976,\n",
       "        -4.07213124, -4.41329822, -4.4084643 , -4.44927192, -4.30164897,\n",
       "        -3.80795141, -3.42311353, -3.33823052, -3.7579597 , -3.5346029 ,\n",
       "        -3.37590564, -3.22364458, -3.61900252, -3.82246963, -3.83995897,\n",
       "        -3.67662211, -3.3898413 , -3.1541378 , -2.72382796, -3.218712  ,\n",
       "        -3.32191586, -2.76343893, -3.73733145, -4.2746935 , -4.19974472,\n",
       "        -3.79071446, -3.89535679, -4.2171753 , -3.77104531, -3.92393036,\n",
       "        -4.78858873, -4.10736224, -3.62642699, -3.22666852, -2.91455702,\n",
       "        -3.18502305, -2.61129205, -3.6301472 , -3.52930883, -3.62552468,\n",
       "        -2.96213281, -2.32542684, -2.50772442, -1.71782131, -2.08262314,\n",
       "        -2.35568418, -2.7803619 , -2.25259695, -1.82050268, -1.90466923,\n",
       "        -2.04312701, -1.94116553, -1.52793478, -1.24175705, -0.88538364,\n",
       "        -0.87655937, -1.17457704, -0.83697966, -0.74497114, -0.67181589,\n",
       "        -0.6561205 , -0.50463836, -0.1801828 , -0.30881207, -0.09195515,\n",
       "        -0.08199827, -0.39204501, -0.43933559,  0.37539082,  0.45839958,\n",
       "         0.19325234, -0.02844904, -0.05550656,  0.40001876,  1.03757605,\n",
       "         1.10934201,  0.95980663,  1.38074607,  1.31117762,  1.12249806,\n",
       "         1.2551625 ,  1.53779436,  2.11339453,  2.64542951,  2.71474783,\n",
       "         2.29865051,  1.96077454,  2.17339722,  1.96904321,  1.78294201,\n",
       "         2.15365346,  2.0007254 ,  2.14312084,  2.09517463,  1.45854403,\n",
       "         1.90991472,  2.7057028 ,  2.36029565,  2.6221038 ,  2.68166843,\n",
       "         2.38778325,  3.08077894,  3.43836063,  3.36384243,  3.96988612,\n",
       "         3.83642839,  3.55454854,  3.2207104 ,  3.60067696,  3.61475949,\n",
       "         4.05728602,  4.25473678,  3.97114954,  3.86842324,  3.97191913,\n",
       "         4.55539797,  4.09345137,  4.41472653,  3.08231867,  3.81458091,\n",
       "         4.71022833,  4.64574608,  5.23370328,  4.92855844,  5.4449629 ,\n",
       "         4.7950828 ,  3.52789569,  4.11907695,  4.55415298,  4.36100092,\n",
       "         4.45806294,  3.80246932,  4.34469967,  4.86853344,  4.49035294,\n",
       "         5.05400222,  4.98886348,  5.83848842,  5.1617848 ,  5.42392714,\n",
       "         4.82665399,  6.13671182,  5.77394724,  6.10395532,  5.6863373 ,\n",
       "         5.40685092,  4.9138114 ,  5.2079942 ,  4.02565998,  3.84362091,\n",
       "         4.76705718,  4.98596987,  3.20171919,  4.52161485,  5.42974392,\n",
       "         4.09104864,  3.21476085,  2.07729451,  2.66892256,  3.16982745,\n",
       "         3.39233428,  3.71672564,  3.24098385,  2.04493998,  2.80097789,\n",
       "         3.58619187,  2.72482088,  1.54707994,  1.55609694,  1.57252315,\n",
       "         2.35904311,  2.51548406,  1.56097401,  1.60524508,  1.35806231,\n",
       "         1.77373898,  1.65823355,  0.63275227,  0.30751603,  1.0970273 ,\n",
       "         1.50517332,  0.1472151 ,  0.9503017 ,  0.37983734, -0.50709982,\n",
       "        -0.32094528, -0.10269734, -0.73863964, -0.71718847, -0.83687936,\n",
       "        -0.70671222, -0.49785162,  0.24977752,  0.85117412,  1.19828378,\n",
       "         0.84665543, -0.30845397,  0.21917462, -0.66805039, -0.56490866,\n",
       "         1.17830931,  1.0280629 , -0.0610663 ,  1.00407885,  0.34409747,\n",
       "         0.80505088,  1.67398944,  1.36860102,  0.76772909,  0.07158904,\n",
       "         0.64177078,  0.83915662,  0.06093483, -0.11931484, -0.31525483,\n",
       "         0.43609321,  0.29847853, -0.05045168,  0.31695057, -0.39003935,\n",
       "        -1.23645133, -1.26356008, -1.43573575, -0.83415223, -0.03148321,\n",
       "         0.17917589, -1.21362805, -1.2497614 , -0.13208141,  0.6733369 ,\n",
       "         0.669886  ,  0.76406709,  1.17443523,  0.01193462,  0.02675348,\n",
       "         0.28393703,  0.8850188 ,  0.89713378,  0.18350774, -0.06946886,\n",
       "         0.4397172 ,  0.62081716,  0.59065542,  1.20492787, -0.11809545,\n",
       "         0.31237663,  0.82047968,  1.01888891,  0.41654284, -0.07496711,\n",
       "         0.21459204,  0.22022339,  0.59879202,  0.88379589,  0.75021216,\n",
       "         0.57471059,  0.6067929 , -0.11027852, -0.1191862 , -0.07573588,\n",
       "         0.09316728,  0.27170714,  0.73941118,  0.2601071 , -0.56382126,\n",
       "         0.1089461 ,  0.54241079,  0.54927933,  0.198826  ,  0.94264853,\n",
       "         1.34386147,  1.3219347 ,  0.51506982,  0.67442182,  0.54491587,\n",
       "         0.53055612,  0.72746639,  0.31820104, -0.05007511, -0.02098757,\n",
       "         0.19411337, -0.1302657 ,  0.29770291, -0.03574337, -0.21371342,\n",
       "         0.18275605,  0.0495516 ,  0.22519235, -0.16227218, -0.50704532,\n",
       "        -0.54102339,  0.2416619 ,  0.08029725, -0.77402767, -1.0169829 ,\n",
       "        -0.99284465, -1.06735272, -0.8454692 , -0.91921264, -0.55236065,\n",
       "        -0.42074749, -0.38112648, -0.182073  , -1.0786658 , -0.52560569,\n",
       "        -0.70806094, -1.8566509 , -2.23760763, -2.24568103, -1.84805848,\n",
       "        -1.76104215, -2.36058997, -2.06979246, -1.20640946, -0.6926082 ,\n",
       "        -0.91252841, -0.184013  , -0.47231064, -1.45468446, -1.61117734,\n",
       "        -1.35132876, -1.61394955, -2.02784917, -2.73135356, -3.01840447,\n",
       "        -3.93651099, -3.89660949, -2.52275031, -2.7071965 , -2.6863219 ,\n",
       "        -3.35960698, -3.12239197, -3.16310273, -2.9129836 , -3.30563926,\n",
       "        -2.16459895, -2.11172365, -2.63638223, -2.54231037, -2.61215995,\n",
       "        -2.77928556, -2.56091684, -3.18593884, -3.44736126, -3.70338035,\n",
       "        -4.57142012, -5.13017314, -4.7775788 , -4.75690253, -5.08671187,\n",
       "        -5.11065582, -4.81306793, -4.72057605, -4.02506065, -3.75159841,\n",
       "        -3.47079228, -3.82856522, -4.76623724, -4.42015249, -4.63547026]),\n",
       " 'use_boxcox': False,\n",
       " 'lamda': None,\n",
       " 'remove_bias': False}"
      ]
     },
     "execution_count": 74,
     "metadata": {},
     "output_type": "execute_result"
    }
   ],
   "source": [
    "holt_winter1 = sm.tsa.ExponentialSmoothing(\n",
    "    df['avg_temp'], seasonal='add', seasonal_periods=365)\n",
    "y = holt_winter1.fit()\n",
    "y.params"
   ]
  },
  {
   "cell_type": "code",
<<<<<<< HEAD
   "execution_count": null,
   "metadata": {},
   "outputs": [
    {
     "ename": "KeyError",
     "evalue": "'odate'",
     "output_type": "error",
     "traceback": [
      "\u001b[1;31m---------------------------------------------------------------------------\u001b[0m",
      "\u001b[1;31mKeyError\u001b[0m                                  Traceback (most recent call last)",
      "File \u001b[1;32mc:\\Users\\91966\\anaconda3\\envs\\tf-gpu\\lib\\site-packages\\pandas\\core\\indexes\\base.py:3802\u001b[0m, in \u001b[0;36mIndex.get_loc\u001b[1;34m(self, key, method, tolerance)\u001b[0m\n\u001b[0;32m   3801\u001b[0m \u001b[39mtry\u001b[39;00m:\n\u001b[1;32m-> 3802\u001b[0m     \u001b[39mreturn\u001b[39;00m \u001b[39mself\u001b[39;49m\u001b[39m.\u001b[39;49m_engine\u001b[39m.\u001b[39;49mget_loc(casted_key)\n\u001b[0;32m   3803\u001b[0m \u001b[39mexcept\u001b[39;00m \u001b[39mKeyError\u001b[39;00m \u001b[39mas\u001b[39;00m err:\n",
      "File \u001b[1;32mc:\\Users\\91966\\anaconda3\\envs\\tf-gpu\\lib\\site-packages\\pandas\\_libs\\index.pyx:138\u001b[0m, in \u001b[0;36mpandas._libs.index.IndexEngine.get_loc\u001b[1;34m()\u001b[0m\n",
      "File \u001b[1;32mc:\\Users\\91966\\anaconda3\\envs\\tf-gpu\\lib\\site-packages\\pandas\\_libs\\index.pyx:165\u001b[0m, in \u001b[0;36mpandas._libs.index.IndexEngine.get_loc\u001b[1;34m()\u001b[0m\n",
      "File \u001b[1;32mpandas\\_libs\\hashtable_class_helper.pxi:5745\u001b[0m, in \u001b[0;36mpandas._libs.hashtable.PyObjectHashTable.get_item\u001b[1;34m()\u001b[0m\n",
      "File \u001b[1;32mpandas\\_libs\\hashtable_class_helper.pxi:5753\u001b[0m, in \u001b[0;36mpandas._libs.hashtable.PyObjectHashTable.get_item\u001b[1;34m()\u001b[0m\n",
      "\u001b[1;31mKeyError\u001b[0m: 'odate'",
      "\nThe above exception was the direct cause of the following exception:\n",
      "\u001b[1;31mKeyError\u001b[0m                                  Traceback (most recent call last)",
      "Cell \u001b[1;32mIn[40], line 1\u001b[0m\n\u001b[1;32m----> 1\u001b[0m df[\u001b[39m'\u001b[39;49m\u001b[39modate\u001b[39;49m\u001b[39m'\u001b[39;49m][\u001b[39m-\u001b[39m\u001b[39m1\u001b[39m]\n",
      "File \u001b[1;32mc:\\Users\\91966\\anaconda3\\envs\\tf-gpu\\lib\\site-packages\\pandas\\core\\frame.py:3807\u001b[0m, in \u001b[0;36mDataFrame.__getitem__\u001b[1;34m(self, key)\u001b[0m\n\u001b[0;32m   3805\u001b[0m \u001b[39mif\u001b[39;00m \u001b[39mself\u001b[39m\u001b[39m.\u001b[39mcolumns\u001b[39m.\u001b[39mnlevels \u001b[39m>\u001b[39m \u001b[39m1\u001b[39m:\n\u001b[0;32m   3806\u001b[0m     \u001b[39mreturn\u001b[39;00m \u001b[39mself\u001b[39m\u001b[39m.\u001b[39m_getitem_multilevel(key)\n\u001b[1;32m-> 3807\u001b[0m indexer \u001b[39m=\u001b[39m \u001b[39mself\u001b[39;49m\u001b[39m.\u001b[39;49mcolumns\u001b[39m.\u001b[39;49mget_loc(key)\n\u001b[0;32m   3808\u001b[0m \u001b[39mif\u001b[39;00m is_integer(indexer):\n\u001b[0;32m   3809\u001b[0m     indexer \u001b[39m=\u001b[39m [indexer]\n",
      "File \u001b[1;32mc:\\Users\\91966\\anaconda3\\envs\\tf-gpu\\lib\\site-packages\\pandas\\core\\indexes\\base.py:3804\u001b[0m, in \u001b[0;36mIndex.get_loc\u001b[1;34m(self, key, method, tolerance)\u001b[0m\n\u001b[0;32m   3802\u001b[0m     \u001b[39mreturn\u001b[39;00m \u001b[39mself\u001b[39m\u001b[39m.\u001b[39m_engine\u001b[39m.\u001b[39mget_loc(casted_key)\n\u001b[0;32m   3803\u001b[0m \u001b[39mexcept\u001b[39;00m \u001b[39mKeyError\u001b[39;00m \u001b[39mas\u001b[39;00m err:\n\u001b[1;32m-> 3804\u001b[0m     \u001b[39mraise\u001b[39;00m \u001b[39mKeyError\u001b[39;00m(key) \u001b[39mfrom\u001b[39;00m \u001b[39merr\u001b[39;00m\n\u001b[0;32m   3805\u001b[0m \u001b[39mexcept\u001b[39;00m \u001b[39mTypeError\u001b[39;00m:\n\u001b[0;32m   3806\u001b[0m     \u001b[39m# If we have a listlike key, _check_indexing_error will raise\u001b[39;00m\n\u001b[0;32m   3807\u001b[0m     \u001b[39m#  InvalidIndexError. Otherwise we fall through and re-raise\u001b[39;00m\n\u001b[0;32m   3808\u001b[0m     \u001b[39m#  the TypeError.\u001b[39;00m\n\u001b[0;32m   3809\u001b[0m     \u001b[39mself\u001b[39m\u001b[39m.\u001b[39m_check_indexing_error(key)\n",
      "\u001b[1;31mKeyError\u001b[0m: 'odate'"
     ]
    }
   ],
   "source": []
  },
  {
   "cell_type": "code",
   "execution_count": null,
=======
   "execution_count": 75,
>>>>>>> 63d9c7b72632033fdb580228cc1fbce7c66069d5
   "metadata": {},
   "outputs": [
    {
     "name": "stderr",
     "output_type": "stream",
     "text": [
      "c:\\Users\\91966\\anaconda3\\envs\\tf-gpu\\lib\\site-packages\\statsmodels\\tsa\\base\\tsa_model.py:834: ValueWarning: No supported index is available. Prediction results will be given with an integer index beginning at `start`.\n",
      "  return get_prediction_index(\n",
      "c:\\Users\\91966\\anaconda3\\envs\\tf-gpu\\lib\\site-packages\\statsmodels\\tsa\\base\\tsa_model.py:834: ValueWarning: No supported index is available. Prediction results will be given with an integer index beginning at `start`.\n",
      "  return get_prediction_index(\n"
     ]
    },
    {
     "data": {
      "text/html": [
       "<div>\n",
       "<style scoped>\n",
       "    .dataframe tbody tr th:only-of-type {\n",
       "        vertical-align: middle;\n",
       "    }\n",
       "\n",
       "    .dataframe tbody tr th {\n",
       "        vertical-align: top;\n",
       "    }\n",
       "\n",
       "    .dataframe thead th {\n",
       "        text-align: right;\n",
       "    }\n",
       "</style>\n",
       "<table border=\"1\" class=\"dataframe\">\n",
       "  <thead>\n",
       "    <tr style=\"text-align: right;\">\n",
       "      <th></th>\n",
       "      <th>temp_max_pred</th>\n",
       "    </tr>\n",
       "  </thead>\n",
       "  <tbody>\n",
       "    <tr>\n",
       "      <th>1733</th>\n",
       "      <td>33.855801</td>\n",
       "    </tr>\n",
       "    <tr>\n",
       "      <th>1734</th>\n",
       "      <td>34.221124</td>\n",
       "    </tr>\n",
       "    <tr>\n",
       "      <th>1735</th>\n",
       "      <td>34.905764</td>\n",
       "    </tr>\n",
       "    <tr>\n",
       "      <th>1736</th>\n",
       "      <td>34.993412</td>\n",
       "    </tr>\n",
       "    <tr>\n",
       "      <th>1737</th>\n",
       "      <td>34.125874</td>\n",
       "    </tr>\n",
       "    <tr>\n",
       "      <th>...</th>\n",
       "      <td>...</td>\n",
       "    </tr>\n",
       "    <tr>\n",
       "      <th>2093</th>\n",
       "      <td>33.453813</td>\n",
       "    </tr>\n",
       "    <tr>\n",
       "      <th>2094</th>\n",
       "      <td>32.359680</td>\n",
       "    </tr>\n",
       "    <tr>\n",
       "      <th>2095</th>\n",
       "      <td>32.665341</td>\n",
       "    </tr>\n",
       "    <tr>\n",
       "      <th>2096</th>\n",
       "      <td>33.550998</td>\n",
       "    </tr>\n",
       "    <tr>\n",
       "      <th>2097</th>\n",
       "      <td>33.674218</td>\n",
       "    </tr>\n",
       "  </tbody>\n",
       "</table>\n",
       "<p>365 rows × 1 columns</p>\n",
       "</div>"
      ],
      "text/plain": [
       "      temp_max_pred\n",
       "1733      33.855801\n",
       "1734      34.221124\n",
       "1735      34.905764\n",
       "1736      34.993412\n",
       "1737      34.125874\n",
       "...             ...\n",
       "2093      33.453813\n",
       "2094      32.359680\n",
       "2095      32.665341\n",
       "2096      33.550998\n",
       "2097      33.674218\n",
       "\n",
       "[365 rows x 1 columns]"
      ]
     },
     "execution_count": 75,
     "metadata": {},
     "output_type": "execute_result"
    }
   ],
   "source": [
    "df['temp_max_pred'] = list(x.predict(1, len(df)))\n",
    "# df[['aqi', 'predict_holt']].plot()\n",
    "\n",
    "df1=pd.DataFrame(x.forecast(365))\n",
    "df1.columns=['temp_max_pred']\n",
    "df1\n",
    "\n",
    "    "
   ]
  },
  {
   "cell_type": "code",
<<<<<<< HEAD
   "execution_count": null,
=======
   "execution_count": 76,
>>>>>>> 63d9c7b72632033fdb580228cc1fbce7c66069d5
   "metadata": {},
   "outputs": [],
   "source": [
    "def prob(mae_tempmax,mae_tempavg,temp_max,temp_avg):\n",
    "    final_temp_max=temp_max-mae_tempmax\n",
    "    final_temp_avg=temp_avg+mae_tempavg\n",
    "    prob=min((final_temp_max-final_temp_avg)/4.5,0.99)*100\n",
    "    prob_severe=min((final_temp_max-final_temp_avg)/6.4,0.99)*100\n",
    "    return prob,prob_severe"
   ]
  },
  {
   "cell_type": "code",
<<<<<<< HEAD
   "execution_count": null,
=======
   "execution_count": 77,
>>>>>>> 63d9c7b72632033fdb580228cc1fbce7c66069d5
   "metadata": {},
   "outputs": [
    {
     "name": "stderr",
     "output_type": "stream",
     "text": [
      "c:\\Users\\91966\\anaconda3\\envs\\tf-gpu\\lib\\site-packages\\statsmodels\\tsa\\base\\tsa_model.py:834: ValueWarning: No supported index is available. Prediction results will be given with an integer index beginning at `start`.\n",
      "  return get_prediction_index(\n",
      "c:\\Users\\91966\\anaconda3\\envs\\tf-gpu\\lib\\site-packages\\statsmodels\\tsa\\base\\tsa_model.py:834: ValueWarning: No supported index is available. Prediction results will be given with an integer index beginning at `start`.\n",
      "  return get_prediction_index(\n"
     ]
    },
    {
     "data": {
      "text/html": [
       "<div>\n",
       "<style scoped>\n",
       "    .dataframe tbody tr th:only-of-type {\n",
       "        vertical-align: middle;\n",
       "    }\n",
       "\n",
       "    .dataframe tbody tr th {\n",
       "        vertical-align: top;\n",
       "    }\n",
       "\n",
       "    .dataframe thead th {\n",
       "        text-align: right;\n",
       "    }\n",
       "</style>\n",
       "<table border=\"1\" class=\"dataframe\">\n",
       "  <thead>\n",
       "    <tr style=\"text-align: right;\">\n",
       "      <th></th>\n",
       "      <th>temp_max_pred</th>\n",
       "      <th>temp_avg_pred</th>\n",
       "    </tr>\n",
       "  </thead>\n",
       "  <tbody>\n",
       "    <tr>\n",
       "      <th>1733</th>\n",
       "      <td>33.855801</td>\n",
       "      <td>28.502153</td>\n",
       "    </tr>\n",
       "    <tr>\n",
       "      <th>1734</th>\n",
       "      <td>34.221124</td>\n",
       "      <td>29.245976</td>\n",
       "    </tr>\n",
       "    <tr>\n",
       "      <th>1735</th>\n",
       "      <td>34.905764</td>\n",
       "      <td>29.647189</td>\n",
       "    </tr>\n",
       "    <tr>\n",
       "      <th>1736</th>\n",
       "      <td>34.993412</td>\n",
       "      <td>29.625262</td>\n",
       "    </tr>\n",
       "    <tr>\n",
       "      <th>1737</th>\n",
       "      <td>34.125874</td>\n",
       "      <td>28.818397</td>\n",
       "    </tr>\n",
       "    <tr>\n",
       "      <th>...</th>\n",
       "      <td>...</td>\n",
       "      <td>...</td>\n",
       "    </tr>\n",
       "    <tr>\n",
       "      <th>2093</th>\n",
       "      <td>33.453813</td>\n",
       "      <td>28.563435</td>\n",
       "    </tr>\n",
       "    <tr>\n",
       "      <th>2094</th>\n",
       "      <td>32.359680</td>\n",
       "      <td>27.739506</td>\n",
       "    </tr>\n",
       "    <tr>\n",
       "      <th>2095</th>\n",
       "      <td>32.665341</td>\n",
       "      <td>28.412274</td>\n",
       "    </tr>\n",
       "    <tr>\n",
       "      <th>2096</th>\n",
       "      <td>33.550998</td>\n",
       "      <td>28.845738</td>\n",
       "    </tr>\n",
       "    <tr>\n",
       "      <th>2097</th>\n",
       "      <td>33.674218</td>\n",
       "      <td>28.852607</td>\n",
       "    </tr>\n",
       "  </tbody>\n",
       "</table>\n",
       "<p>365 rows × 2 columns</p>\n",
       "</div>"
      ],
      "text/plain": [
       "      temp_max_pred  temp_avg_pred\n",
       "1733      33.855801      28.502153\n",
       "1734      34.221124      29.245976\n",
       "1735      34.905764      29.647189\n",
       "1736      34.993412      29.625262\n",
       "1737      34.125874      28.818397\n",
       "...             ...            ...\n",
       "2093      33.453813      28.563435\n",
       "2094      32.359680      27.739506\n",
       "2095      32.665341      28.412274\n",
       "2096      33.550998      28.845738\n",
       "2097      33.674218      28.852607\n",
       "\n",
       "[365 rows x 2 columns]"
      ]
     },
     "execution_count": 77,
     "metadata": {},
     "output_type": "execute_result"
    }
   ],
   "source": [
    "df['temp_avg_pred'] = list(y.predict(1, len(df)))\n",
    "# df[['aqi', 'predict_holt']].plot()\n",
    "df2=pd.DataFrame(y.forecast(365))\n",
    "df2.columns=['temp_avg_pred']\n",
    "df_final=pd.concat([df1,df2],axis=1)\n",
    "df_final"
   ]
  },
  {
   "cell_type": "code",
<<<<<<< HEAD
   "execution_count": null,
=======
   "execution_count": 78,
>>>>>>> 63d9c7b72632033fdb580228cc1fbce7c66069d5
   "metadata": {},
   "outputs": [],
   "source": [
    "df_final['Normal_heat_wave_prediction']=df_final.apply(lambda x:prob(0.4,0.2,x['temp_max_pred'],x['temp_avg_pred'])[0],axis=1)\n",
    "df_final['Severe_heat_wave_prediction']=df_final.apply(lambda x:prob(0.4,0.2,x['temp_max_pred'],x['temp_avg_pred'])[1],axis=1)"
   ]
  },
  {
   "cell_type": "code",
<<<<<<< HEAD
   "execution_count": null,
=======
   "execution_count": 79,
>>>>>>> 63d9c7b72632033fdb580228cc1fbce7c66069d5
   "metadata": {},
   "outputs": [
    {
     "data": {
      "text/html": [
       "<div>\n",
       "<style scoped>\n",
       "    .dataframe tbody tr th:only-of-type {\n",
       "        vertical-align: middle;\n",
       "    }\n",
       "\n",
       "    .dataframe tbody tr th {\n",
       "        vertical-align: top;\n",
       "    }\n",
       "\n",
       "    .dataframe thead th {\n",
       "        text-align: right;\n",
       "    }\n",
       "</style>\n",
       "<table border=\"1\" class=\"dataframe\">\n",
       "  <thead>\n",
       "    <tr style=\"text-align: right;\">\n",
       "      <th></th>\n",
       "      <th>temp_max_pred</th>\n",
       "      <th>temp_avg_pred</th>\n",
       "      <th>Normal_heat_wave_prediction</th>\n",
       "      <th>Severe_heat_wave_prediction</th>\n",
       "    </tr>\n",
       "  </thead>\n",
       "  <tbody>\n",
       "    <tr>\n",
       "      <th>1733</th>\n",
       "      <td>33.855801</td>\n",
       "      <td>28.502153</td>\n",
       "      <td>99.000000</td>\n",
       "      <td>74.275748</td>\n",
       "    </tr>\n",
       "    <tr>\n",
       "      <th>1734</th>\n",
       "      <td>34.221124</td>\n",
       "      <td>29.245976</td>\n",
       "      <td>97.225515</td>\n",
       "      <td>68.361690</td>\n",
       "    </tr>\n",
       "    <tr>\n",
       "      <th>1735</th>\n",
       "      <td>34.905764</td>\n",
       "      <td>29.647189</td>\n",
       "      <td>99.000000</td>\n",
       "      <td>72.790242</td>\n",
       "    </tr>\n",
       "    <tr>\n",
       "      <th>1736</th>\n",
       "      <td>34.993412</td>\n",
       "      <td>29.625262</td>\n",
       "      <td>99.000000</td>\n",
       "      <td>74.502346</td>\n",
       "    </tr>\n",
       "    <tr>\n",
       "      <th>1737</th>\n",
       "      <td>34.125874</td>\n",
       "      <td>28.818397</td>\n",
       "      <td>99.000000</td>\n",
       "      <td>73.554330</td>\n",
       "    </tr>\n",
       "    <tr>\n",
       "      <th>...</th>\n",
       "      <td>...</td>\n",
       "      <td>...</td>\n",
       "      <td>...</td>\n",
       "      <td>...</td>\n",
       "    </tr>\n",
       "    <tr>\n",
       "      <th>2093</th>\n",
       "      <td>33.453813</td>\n",
       "      <td>28.563435</td>\n",
       "      <td>95.341738</td>\n",
       "      <td>67.037160</td>\n",
       "    </tr>\n",
       "    <tr>\n",
       "      <th>2094</th>\n",
       "      <td>32.359680</td>\n",
       "      <td>27.739506</td>\n",
       "      <td>89.337200</td>\n",
       "      <td>62.815219</td>\n",
       "    </tr>\n",
       "    <tr>\n",
       "      <th>2095</th>\n",
       "      <td>32.665341</td>\n",
       "      <td>28.412274</td>\n",
       "      <td>81.179270</td>\n",
       "      <td>57.079174</td>\n",
       "    </tr>\n",
       "    <tr>\n",
       "      <th>2096</th>\n",
       "      <td>33.550998</td>\n",
       "      <td>28.845738</td>\n",
       "      <td>91.227990</td>\n",
       "      <td>64.144681</td>\n",
       "    </tr>\n",
       "    <tr>\n",
       "      <th>2097</th>\n",
       "      <td>33.674218</td>\n",
       "      <td>28.852607</td>\n",
       "      <td>93.813581</td>\n",
       "      <td>65.962674</td>\n",
       "    </tr>\n",
       "  </tbody>\n",
       "</table>\n",
       "<p>365 rows × 4 columns</p>\n",
       "</div>"
      ],
      "text/plain": [
       "      temp_max_pred  temp_avg_pred  Normal_heat_wave_prediction  \\\n",
       "1733      33.855801      28.502153                    99.000000   \n",
       "1734      34.221124      29.245976                    97.225515   \n",
       "1735      34.905764      29.647189                    99.000000   \n",
       "1736      34.993412      29.625262                    99.000000   \n",
       "1737      34.125874      28.818397                    99.000000   \n",
       "...             ...            ...                          ...   \n",
       "2093      33.453813      28.563435                    95.341738   \n",
       "2094      32.359680      27.739506                    89.337200   \n",
       "2095      32.665341      28.412274                    81.179270   \n",
       "2096      33.550998      28.845738                    91.227990   \n",
       "2097      33.674218      28.852607                    93.813581   \n",
       "\n",
       "      Severe_heat_wave_prediction  \n",
       "1733                    74.275748  \n",
       "1734                    68.361690  \n",
       "1735                    72.790242  \n",
       "1736                    74.502346  \n",
       "1737                    73.554330  \n",
       "...                           ...  \n",
       "2093                    67.037160  \n",
       "2094                    62.815219  \n",
       "2095                    57.079174  \n",
       "2096                    64.144681  \n",
       "2097                    65.962674  \n",
       "\n",
       "[365 rows x 4 columns]"
      ]
     },
     "execution_count": 79,
     "metadata": {},
     "output_type": "execute_result"
    }
   ],
   "source": [
    "df_final"
   ]
  },
  {
   "cell_type": "code",
<<<<<<< HEAD
   "execution_count": null,
=======
   "execution_count": 80,
>>>>>>> 63d9c7b72632033fdb580228cc1fbce7c66069d5
   "metadata": {},
   "outputs": [],
   "source": [
    "from pathlib import Path\n",
<<<<<<< HEAD
    "save_location = Path(\"..\", \"pickles\", f\"pred-{district}\")\n",
=======
    "save_location = Path(f\"pred-{district}\")\n",
>>>>>>> 63d9c7b72632033fdb580228cc1fbce7c66069d5
    "x.save(fname=save_location.absolute())"
   ]
  }
 ],
 "metadata": {
  "kernelspec": {
   "display_name": "venv",
   "language": "python",
   "name": "python3"
  },
  "language_info": {
   "codemirror_mode": {
    "name": "ipython",
    "version": 3
   },
   "file_extension": ".py",
   "mimetype": "text/x-python",
   "name": "python",
   "nbconvert_exporter": "python",
   "pygments_lexer": "ipython3",
   "version": "3.11.1"
  },
  "orig_nbformat": 4,
  "vscode": {
   "interpreter": {
    "hash": "0b52cdf8d3ffb3ecf08d8038ecf528cb51520952cbcd666090a6fbfa4a477743"
   }
  }
 },
 "nbformat": 4,
 "nbformat_minor": 2
}
