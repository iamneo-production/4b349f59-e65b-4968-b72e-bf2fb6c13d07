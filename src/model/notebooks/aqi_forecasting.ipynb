{
 "cells": [
  {
   "cell_type": "code",
   "execution_count": 82,
   "metadata": {},
   "outputs": [],
   "source": [
    "import pandas as pd\n",
    "import statsmodels.api as sm\n",
    "import matplotlib.pyplot as plt\n",
    "import pmdarima as pm\n",
    "\n",
    "import functions as fn"
   ]
  },
  {
   "cell_type": "code",
   "execution_count": 83,
   "metadata": {},
   "outputs": [
    {
     "data": {
      "text/html": [
       "<div>\n",
       "<style scoped>\n",
       "    .dataframe tbody tr th:only-of-type {\n",
       "        vertical-align: middle;\n",
       "    }\n",
       "\n",
       "    .dataframe tbody tr th {\n",
       "        vertical-align: top;\n",
       "    }\n",
       "\n",
       "    .dataframe thead th {\n",
       "        text-align: right;\n",
       "    }\n",
       "</style>\n",
       "<table border=\"1\" class=\"dataframe\">\n",
       "  <thead>\n",
       "    <tr style=\"text-align: right;\">\n",
       "      <th></th>\n",
       "      <th>district</th>\n",
       "      <th>month</th>\n",
       "      <th>aqi</th>\n",
       "      <th>year</th>\n",
       "    </tr>\n",
       "  </thead>\n",
       "  <tbody>\n",
       "    <tr>\n",
       "      <th>0</th>\n",
       "      <td>Nizamabad</td>\n",
       "      <td>Jan</td>\n",
       "      <td>61.333333333333336</td>\n",
       "      <td>2017</td>\n",
       "    </tr>\n",
       "    <tr>\n",
       "      <th>1</th>\n",
       "      <td>Nizamabad</td>\n",
       "      <td>Feb</td>\n",
       "      <td>61.55555555555556</td>\n",
       "      <td>2017</td>\n",
       "    </tr>\n",
       "    <tr>\n",
       "      <th>2</th>\n",
       "      <td>Nizamabad</td>\n",
       "      <td>Mar</td>\n",
       "      <td>63.22222222222222</td>\n",
       "      <td>2017</td>\n",
       "    </tr>\n",
       "    <tr>\n",
       "      <th>3</th>\n",
       "      <td>Nizamabad</td>\n",
       "      <td>Apr</td>\n",
       "      <td>67.37037037037038</td>\n",
       "      <td>2017</td>\n",
       "    </tr>\n",
       "    <tr>\n",
       "      <th>4</th>\n",
       "      <td>Nizamabad</td>\n",
       "      <td>May</td>\n",
       "      <td>68.40740740740742</td>\n",
       "      <td>2017</td>\n",
       "    </tr>\n",
       "  </tbody>\n",
       "</table>\n",
       "</div>"
      ],
      "text/plain": [
       "    district month                 aqi  year\n",
       "0  Nizamabad   Jan  61.333333333333336  2017\n",
       "1  Nizamabad   Feb   61.55555555555556  2017\n",
       "2  Nizamabad   Mar   63.22222222222222  2017\n",
       "3  Nizamabad   Apr   67.37037037037038  2017\n",
       "4  Nizamabad   May   68.40740740740742  2017"
      ]
     },
     "execution_count": 83,
     "metadata": {},
     "output_type": "execute_result"
    }
   ],
   "source": [
    "aqi_df = pd.read_csv(\"./monthly_aqi_data.csv\")\n",
    "aqi_df.head()"
   ]
  },
  {
   "cell_type": "code",
   "execution_count": 84,
   "metadata": {},
   "outputs": [
    {
     "data": {
      "text/html": [
       "<div>\n",
       "<style scoped>\n",
       "    .dataframe tbody tr th:only-of-type {\n",
       "        vertical-align: middle;\n",
       "    }\n",
       "\n",
       "    .dataframe tbody tr th {\n",
       "        vertical-align: top;\n",
       "    }\n",
       "\n",
       "    .dataframe thead th {\n",
       "        text-align: right;\n",
       "    }\n",
       "</style>\n",
       "<table border=\"1\" class=\"dataframe\">\n",
       "  <thead>\n",
       "    <tr style=\"text-align: right;\">\n",
       "      <th></th>\n",
       "      <th>district</th>\n",
       "      <th>month</th>\n",
       "      <th>SO2</th>\n",
       "      <th>NOx</th>\n",
       "      <th>PM10</th>\n",
       "      <th>PM2.5</th>\n",
       "      <th>NH3</th>\n",
       "      <th>year</th>\n",
       "    </tr>\n",
       "  </thead>\n",
       "  <tbody>\n",
       "    <tr>\n",
       "      <th>0</th>\n",
       "      <td>Khammam</td>\n",
       "      <td>Jan</td>\n",
       "      <td>6.0</td>\n",
       "      <td>19.0</td>\n",
       "      <td>46.0</td>\n",
       "      <td>NaN</td>\n",
       "      <td>NaN</td>\n",
       "      <td>2016</td>\n",
       "    </tr>\n",
       "    <tr>\n",
       "      <th>1</th>\n",
       "      <td>Khammam</td>\n",
       "      <td>Feb</td>\n",
       "      <td>7.0</td>\n",
       "      <td>19.0</td>\n",
       "      <td>51.0</td>\n",
       "      <td>NaN</td>\n",
       "      <td>NaN</td>\n",
       "      <td>2016</td>\n",
       "    </tr>\n",
       "    <tr>\n",
       "      <th>2</th>\n",
       "      <td>Khammam</td>\n",
       "      <td>Mar</td>\n",
       "      <td>6.1</td>\n",
       "      <td>20.7</td>\n",
       "      <td>54.0</td>\n",
       "      <td>NaN</td>\n",
       "      <td>NaN</td>\n",
       "      <td>2016</td>\n",
       "    </tr>\n",
       "    <tr>\n",
       "      <th>3</th>\n",
       "      <td>Khammam</td>\n",
       "      <td>Apr</td>\n",
       "      <td>8.0</td>\n",
       "      <td>19.0</td>\n",
       "      <td>51.0</td>\n",
       "      <td>NaN</td>\n",
       "      <td>NaN</td>\n",
       "      <td>2016</td>\n",
       "    </tr>\n",
       "    <tr>\n",
       "      <th>4</th>\n",
       "      <td>Khammam</td>\n",
       "      <td>May</td>\n",
       "      <td>7.0</td>\n",
       "      <td>19.0</td>\n",
       "      <td>47.0</td>\n",
       "      <td>NaN</td>\n",
       "      <td>NaN</td>\n",
       "      <td>2016</td>\n",
       "    </tr>\n",
       "  </tbody>\n",
       "</table>\n",
       "</div>"
      ],
      "text/plain": [
       "  district month  SO2   NOx  PM10  PM2.5  NH3  year\n",
       "0  Khammam   Jan  6.0  19.0  46.0    NaN  NaN  2016\n",
       "1  Khammam   Feb  7.0  19.0  51.0    NaN  NaN  2016\n",
       "2  Khammam   Mar  6.1  20.7  54.0    NaN  NaN  2016\n",
       "3  Khammam   Apr  8.0  19.0  51.0    NaN  NaN  2016\n",
       "4  Khammam   May  7.0  19.0  47.0    NaN  NaN  2016"
      ]
     },
     "execution_count": 84,
     "metadata": {},
     "output_type": "execute_result"
    }
   ],
   "source": [
    "aaq_df = pd.read_csv(\"./monthly_aaq_data.csv\")\n",
    "aaq_df.head()"
   ]
  },
  {
   "attachments": {},
   "cell_type": "markdown",
   "metadata": {},
   "source": [
    "### Nizamabad"
   ]
  },
  {
   "attachments": {},
   "cell_type": "markdown",
   "metadata": {},
   "source": [
    "We'll be trying out 3 models to forecast AQI\n",
    "1. ARIMA on AQI\n",
    "2. ARIMAX on AQI with SO2, NOx and PM10 as exogenous variables\n",
    "3. VARMAX on AQI, SO2, NOx and PM10.\n",
    "\n",
    "The model giving the best result will be used for all other districts."
   ]
  },
  {
   "cell_type": "code",
   "execution_count": 85,
   "metadata": {},
   "outputs": [
    {
     "data": {
      "text/html": [
       "<div>\n",
       "<style scoped>\n",
       "    .dataframe tbody tr th:only-of-type {\n",
       "        vertical-align: middle;\n",
       "    }\n",
       "\n",
       "    .dataframe tbody tr th {\n",
       "        vertical-align: top;\n",
       "    }\n",
       "\n",
       "    .dataframe thead th {\n",
       "        text-align: right;\n",
       "    }\n",
       "</style>\n",
       "<table border=\"1\" class=\"dataframe\">\n",
       "  <thead>\n",
       "    <tr style=\"text-align: right;\">\n",
       "      <th></th>\n",
       "      <th>district</th>\n",
       "      <th>aqi</th>\n",
       "      <th>date</th>\n",
       "      <th>SO2</th>\n",
       "      <th>NOx</th>\n",
       "      <th>PM10</th>\n",
       "    </tr>\n",
       "  </thead>\n",
       "  <tbody>\n",
       "    <tr>\n",
       "      <th>0</th>\n",
       "      <td>Nizamabad</td>\n",
       "      <td>61.333333</td>\n",
       "      <td>2017-01-01</td>\n",
       "      <td>5.0</td>\n",
       "      <td>20.0</td>\n",
       "      <td>61.0</td>\n",
       "    </tr>\n",
       "    <tr>\n",
       "      <th>1</th>\n",
       "      <td>Nizamabad</td>\n",
       "      <td>61.555556</td>\n",
       "      <td>2017-02-01</td>\n",
       "      <td>5.0</td>\n",
       "      <td>20.0</td>\n",
       "      <td>62.0</td>\n",
       "    </tr>\n",
       "    <tr>\n",
       "      <th>2</th>\n",
       "      <td>Nizamabad</td>\n",
       "      <td>63.222222</td>\n",
       "      <td>2017-03-01</td>\n",
       "      <td>5.0</td>\n",
       "      <td>21.0</td>\n",
       "      <td>63.0</td>\n",
       "    </tr>\n",
       "    <tr>\n",
       "      <th>3</th>\n",
       "      <td>Nizamabad</td>\n",
       "      <td>67.370370</td>\n",
       "      <td>2017-04-01</td>\n",
       "      <td>5.0</td>\n",
       "      <td>20.0</td>\n",
       "      <td>67.0</td>\n",
       "    </tr>\n",
       "    <tr>\n",
       "      <th>4</th>\n",
       "      <td>Nizamabad</td>\n",
       "      <td>68.407407</td>\n",
       "      <td>2017-05-01</td>\n",
       "      <td>5.0</td>\n",
       "      <td>20.0</td>\n",
       "      <td>68.0</td>\n",
       "    </tr>\n",
       "  </tbody>\n",
       "</table>\n",
       "</div>"
      ],
      "text/plain": [
       "    district        aqi       date  SO2   NOx  PM10\n",
       "0  Nizamabad  61.333333 2017-01-01  5.0  20.0  61.0\n",
       "1  Nizamabad  61.555556 2017-02-01  5.0  20.0  62.0\n",
       "2  Nizamabad  63.222222 2017-03-01  5.0  21.0  63.0\n",
       "3  Nizamabad  67.370370 2017-04-01  5.0  20.0  67.0\n",
       "4  Nizamabad  68.407407 2017-05-01  5.0  20.0  68.0"
      ]
     },
     "execution_count": 85,
     "metadata": {},
     "output_type": "execute_result"
    }
   ],
   "source": [
    "df = fn.combine_aqi_aaq(aqi_df=aqi_df, aaq_df=aaq_df, district=\"Nizamabad\")\n",
    "df.head()"
   ]
  },
  {
   "cell_type": "code",
   "execution_count": 86,
   "metadata": {},
   "outputs": [],
   "source": [
    "df.set_index(\"date\", inplace=True)"
   ]
  },
  {
   "cell_type": "code",
   "execution_count": 87,
   "metadata": {},
   "outputs": [
    {
     "data": {
      "text/plain": [
       "<AxesSubplot:xlabel='date'>"
      ]
     },
     "execution_count": 87,
     "metadata": {},
     "output_type": "execute_result"
    },
    {
     "data": {
      "image/png": "[encoded data removed]",
      "text/plain": [
       "<Figure size 432x288 with 1 Axes>"
      ]
     },
     "metadata": {
      "needs_background": "light"
     },
     "output_type": "display_data"
    }
   ],
   "source": [
    "df.plot(y='aqi')"
   ]
  },
  {
   "cell_type": "code",
   "execution_count": 186,
   "metadata": {},
   "outputs": [
    {
     "data": {
      "image/png": "[encoded data removed]",
      "text/plain": [
       "<Figure size 432x288 with 4 Axes>"
      ]
     },
     "metadata": {
      "needs_background": "light"
     },
     "output_type": "display_data"
    }
   ],
   "source": [
    "# seasonal decomposition\n",
    "seasonal_decomp = sm.tsa.seasonal_decompose(df['aqi'], model='additive')\n",
    "seasonal_decomp.plot()\n",
    "plt.show()"
   ]
  },
  {
   "attachments": {},
   "cell_type": "markdown",
   "metadata": {},
   "source": [
    "##### ARIMA Model"
   ]
  },
  {
   "attachments": {},
   "cell_type": "markdown",
   "metadata": {},
   "source": [
    "Applying Augmented Dickey Fuller(ADF) test to check for stationarity."
   ]
  },
  {
   "cell_type": "code",
   "execution_count": 88,
   "metadata": {},
   "outputs": [],
   "source": [
    "def print_adf_results(adf_result: pd.DataFrame) -> None:\n",
    "    print('ADF Statistic: %f' % adf_result[0])\n",
    "    print('p-value: %f' % adf_result[1])\n",
    "    print('Critical Values:')\n",
    "    for key, value in adf_result[4].items():\n",
    "        print('\\t%s: %.3f' % (key, value))\n"
   ]
  },
  {
   "cell_type": "code",
   "execution_count": 89,
   "metadata": {},
   "outputs": [
    {
     "name": "stdout",
     "output_type": "stream",
     "text": [
      "ADF Statistic: -5.128786\n",
      "p-value: 0.000012\n",
      "Critical Values:\n",
      "\t1%: -3.526\n",
      "\t5%: -2.903\n",
      "\t10%: -2.589\n"
     ]
    }
   ],
   "source": [
    "from statsmodels.tsa.stattools import adfuller\n",
    "\n",
    "print_adf_results(adfuller(df['aqi']))"
   ]
  },
  {
   "attachments": {},
   "cell_type": "markdown",
   "metadata": {},
   "source": [
    "ADF statistic value is less than 5% critical value and p<0.05. So the time series is stationary."
   ]
  },
  {
   "cell_type": "code",
   "execution_count": 221,
   "metadata": {},
   "outputs": [
    {
     "name": "stdout",
     "output_type": "stream",
     "text": [
      "Performing stepwise search to minimize aic\n",
      " ARIMA(1,0,1)(1,0,1)[12] intercept   : AIC=493.646, Time=0.34 sec\n",
      " ARIMA(0,0,0)(0,0,0)[12] intercept   : AIC=500.399, Time=0.01 sec\n",
      " ARIMA(1,0,0)(1,0,0)[12] intercept   : AIC=488.409, Time=0.19 sec\n",
      " ARIMA(0,0,1)(0,0,1)[12] intercept   : AIC=492.001, Time=0.08 sec\n",
      " ARIMA(0,0,0)(0,0,0)[12]             : AIC=797.494, Time=0.02 sec\n",
      " ARIMA(1,0,0)(0,0,0)[12] intercept   : AIC=486.496, Time=0.03 sec\n",
      " ARIMA(1,0,0)(0,0,1)[12] intercept   : AIC=488.396, Time=0.09 sec\n",
      " ARIMA(1,0,0)(1,0,1)[12] intercept   : AIC=490.394, Time=0.21 sec\n",
      " ARIMA(2,0,0)(0,0,0)[12] intercept   : AIC=488.122, Time=0.05 sec\n",
      " ARIMA(1,0,1)(0,0,0)[12] intercept   : AIC=488.196, Time=0.04 sec\n",
      " ARIMA(0,0,1)(0,0,0)[12] intercept   : AIC=490.012, Time=0.03 sec\n",
      " ARIMA(2,0,1)(0,0,0)[12] intercept   : AIC=490.107, Time=0.07 sec\n",
      " ARIMA(1,0,0)(0,0,0)[12]             : AIC=inf, Time=0.02 sec\n",
      "\n",
      "Best model:  ARIMA(1,0,0)(0,0,0)[12] intercept\n",
      "Total fit time: 1.190 seconds\n"
     ]
    }
   ],
   "source": [
    "# auto arima to find the right parameters\n",
    "params = pm.auto_arima(\n",
    "    y=df['aqi'],\n",
    "    start_p=1, start_q=1, m=12,\n",
    "    test='adf',\n",
    "    trace=True, error_action='ignore',\n",
    "    supress_warnings=True\n",
    ")"
   ]
  },
  {
   "cell_type": "code",
   "execution_count": 226,
   "metadata": {},
   "outputs": [
    {
     "name": "stderr",
     "output_type": "stream",
     "text": [
      "c:\\Users\\ayush\\anaconda3\\lib\\site-packages\\statsmodels\\tsa\\base\\tsa_model.py:471: ValueWarning: No frequency information was provided, so inferred frequency MS will be used.\n",
      "  self._init_dates(dates, freq)\n",
      "c:\\Users\\ayush\\anaconda3\\lib\\site-packages\\statsmodels\\tsa\\base\\tsa_model.py:471: ValueWarning: No frequency information was provided, so inferred frequency MS will be used.\n",
      "  self._init_dates(dates, freq)\n",
      "c:\\Users\\ayush\\anaconda3\\lib\\site-packages\\statsmodels\\tsa\\base\\tsa_model.py:471: ValueWarning: No frequency information was provided, so inferred frequency MS will be used.\n",
      "  self._init_dates(dates, freq)\n"
     ]
    },
    {
     "data": {
      "text/html": [
       "<table class=\"simpletable\">\n",
       "<caption>SARIMAX Results</caption>\n",
       "<tr>\n",
       "  <th>Dep. Variable:</th>          <td>aqi</td>       <th>  No. Observations:  </th>    <td>72</td>   \n",
       "</tr>\n",
       "<tr>\n",
       "  <th>Model:</th>            <td>ARIMA(5, 1, 0)</td>  <th>  Log Likelihood     </th> <td>-242.590</td>\n",
       "</tr>\n",
       "<tr>\n",
       "  <th>Date:</th>            <td>Sat, 04 Mar 2023</td> <th>  AIC                </th>  <td>497.180</td>\n",
       "</tr>\n",
       "<tr>\n",
       "  <th>Time:</th>                <td>20:01:16</td>     <th>  BIC                </th>  <td>510.756</td>\n",
       "</tr>\n",
       "<tr>\n",
       "  <th>Sample:</th>             <td>01-01-2017</td>    <th>  HQIC               </th>  <td>502.579</td>\n",
       "</tr>\n",
       "<tr>\n",
       "  <th></th>                   <td>- 12-01-2022</td>   <th>                     </th>     <td> </td>   \n",
       "</tr>\n",
       "<tr>\n",
       "  <th>Covariance Type:</th>        <td>opg</td>       <th>                     </th>     <td> </td>   \n",
       "</tr>\n",
       "</table>\n",
       "<table class=\"simpletable\">\n",
       "<tr>\n",
       "     <td></td>       <th>coef</th>     <th>std err</th>      <th>z</th>      <th>P>|z|</th>  <th>[0.025</th>    <th>0.975]</th>  \n",
       "</tr>\n",
       "<tr>\n",
       "  <th>ar.L1</th>  <td>   -0.4212</td> <td>    0.137</td> <td>   -3.068</td> <td> 0.002</td> <td>   -0.690</td> <td>   -0.152</td>\n",
       "</tr>\n",
       "<tr>\n",
       "  <th>ar.L2</th>  <td>   -0.2592</td> <td>    0.208</td> <td>   -1.248</td> <td> 0.212</td> <td>   -0.666</td> <td>    0.148</td>\n",
       "</tr>\n",
       "<tr>\n",
       "  <th>ar.L3</th>  <td>   -0.1209</td> <td>    0.155</td> <td>   -0.782</td> <td> 0.434</td> <td>   -0.424</td> <td>    0.182</td>\n",
       "</tr>\n",
       "<tr>\n",
       "  <th>ar.L4</th>  <td>   -0.0098</td> <td>    0.194</td> <td>   -0.051</td> <td> 0.960</td> <td>   -0.390</td> <td>    0.371</td>\n",
       "</tr>\n",
       "<tr>\n",
       "  <th>ar.L5</th>  <td>   -0.0138</td> <td>    0.111</td> <td>   -0.124</td> <td> 0.902</td> <td>   -0.232</td> <td>    0.205</td>\n",
       "</tr>\n",
       "<tr>\n",
       "  <th>sigma2</th> <td>   54.1728</td> <td>    5.635</td> <td>    9.614</td> <td> 0.000</td> <td>   43.129</td> <td>   65.217</td>\n",
       "</tr>\n",
       "</table>\n",
       "<table class=\"simpletable\">\n",
       "<tr>\n",
       "  <th>Ljung-Box (L1) (Q):</th>     <td>0.01</td> <th>  Jarque-Bera (JB):  </th> <td>62.36</td>\n",
       "</tr>\n",
       "<tr>\n",
       "  <th>Prob(Q):</th>                <td>0.93</td> <th>  Prob(JB):          </th> <td>0.00</td> \n",
       "</tr>\n",
       "<tr>\n",
       "  <th>Heteroskedasticity (H):</th> <td>2.30</td> <th>  Skew:              </th> <td>-1.18</td>\n",
       "</tr>\n",
       "<tr>\n",
       "  <th>Prob(H) (two-sided):</th>    <td>0.05</td> <th>  Kurtosis:          </th> <td>6.94</td> \n",
       "</tr>\n",
       "</table><br/><br/>Warnings:<br/>[1] Covariance matrix calculated using the outer product of gradients (complex-step)."
      ],
      "text/plain": [
       "<class 'statsmodels.iolib.summary.Summary'>\n",
       "\"\"\"\n",
       "                               SARIMAX Results                                \n",
       "==============================================================================\n",
       "Dep. Variable:                    aqi   No. Observations:                   72\n",
       "Model:                 ARIMA(5, 1, 0)   Log Likelihood                -242.590\n",
       "Date:                Sat, 04 Mar 2023   AIC                            497.180\n",
       "Time:                        20:01:16   BIC                            510.756\n",
       "Sample:                    01-01-2017   HQIC                           502.579\n",
       "                         - 12-01-2022                                         \n",
       "Covariance Type:                  opg                                         \n",
       "==============================================================================\n",
       "                 coef    std err          z      P>|z|      [0.025      0.975]\n",
       "------------------------------------------------------------------------------\n",
       "ar.L1         -0.4212      0.137     -3.068      0.002      -0.690      -0.152\n",
       "ar.L2         -0.2592      0.208     -1.248      0.212      -0.666       0.148\n",
       "ar.L3         -0.1209      0.155     -0.782      0.434      -0.424       0.182\n",
       "ar.L4         -0.0098      0.194     -0.051      0.960      -0.390       0.371\n",
       "ar.L5         -0.0138      0.111     -0.124      0.902      -0.232       0.205\n",
       "sigma2        54.1728      5.635      9.614      0.000      43.129      65.217\n",
       "===================================================================================\n",
       "Ljung-Box (L1) (Q):                   0.01   Jarque-Bera (JB):                62.36\n",
       "Prob(Q):                              0.93   Prob(JB):                         0.00\n",
       "Heteroskedasticity (H):               2.30   Skew:                            -1.18\n",
       "Prob(H) (two-sided):                  0.05   Kurtosis:                         6.94\n",
       "===================================================================================\n",
       "\n",
       "Warnings:\n",
       "[1] Covariance matrix calculated using the outer product of gradients (complex-step).\n",
       "\"\"\""
      ]
     },
     "execution_count": 226,
     "metadata": {},
     "output_type": "execute_result"
    }
   ],
   "source": [
    "arima_model = sm.tsa.arima.ARIMA(df['aqi'], order=(5, 1, 0))\n",
    "arima = arima_model.fit()\n",
    "arima.summary()"
   ]
  },
  {
   "cell_type": "code",
   "execution_count": 227,
   "metadata": {},
   "outputs": [
    {
     "data": {
      "text/plain": [
       "<AxesSubplot:xlabel='date'>"
      ]
     },
     "execution_count": 227,
     "metadata": {},
     "output_type": "execute_result"
    },
    {
     "data": {
      "image/png": "[encoded data removed]",
      "text/plain": [
       "<Figure size 432x288 with 1 Axes>"
      ]
     },
     "metadata": {
      "needs_background": "light"
     },
     "output_type": "display_data"
    }
   ],
   "source": [
    "df['predict_arima'] = list(arima.predict(1, len(df)))\n",
    "df[['aqi', 'predict_arima']].plot()"
   ]
  },
  {
   "cell_type": "code",
   "execution_count": 228,
   "metadata": {},
   "outputs": [
    {
     "data": {
      "text/plain": [
       "<AxesSubplot:>"
      ]
     },
     "execution_count": 228,
     "metadata": {},
     "output_type": "execute_result"
    },
    {
     "data": {
      "image/png": "[encoded data removed]",
      "text/plain": [
       "<Figure size 432x288 with 1 Axes>"
      ]
     },
     "metadata": {
      "needs_background": "light"
     },
     "output_type": "display_data"
    }
   ],
   "source": [
    "arima.forecast(12).plot()"
   ]
  },
  {
   "cell_type": "code",
   "execution_count": 229,
   "metadata": {},
   "outputs": [
    {
     "data": {
      "text/html": [
       "<div>\n",
       "<style scoped>\n",
       "    .dataframe tbody tr th:only-of-type {\n",
       "        vertical-align: middle;\n",
       "    }\n",
       "\n",
       "    .dataframe tbody tr th {\n",
       "        vertical-align: top;\n",
       "    }\n",
       "\n",
       "    .dataframe thead th {\n",
       "        text-align: right;\n",
       "    }\n",
       "</style>\n",
       "<table border=\"1\" class=\"dataframe\">\n",
       "  <thead>\n",
       "    <tr style=\"text-align: right;\">\n",
       "      <th></th>\n",
       "      <th>lb_stat</th>\n",
       "      <th>lb_pvalue</th>\n",
       "    </tr>\n",
       "  </thead>\n",
       "  <tbody>\n",
       "    <tr>\n",
       "      <th>10</th>\n",
       "      <td>6.292563</td>\n",
       "      <td>0.790114</td>\n",
       "    </tr>\n",
       "  </tbody>\n",
       "</table>\n",
       "</div>"
      ],
      "text/plain": [
       "     lb_stat  lb_pvalue\n",
       "10  6.292563   0.790114"
      ]
     },
     "execution_count": 229,
     "metadata": {},
     "output_type": "execute_result"
    }
   ],
   "source": [
    "sm.stats.acorr_ljungbox(arima.resid, lags=[10], return_df=True)"
   ]
  },
  {
   "cell_type": "code",
   "execution_count": null,
   "metadata": {},
   "outputs": [],
   "source": [
    "from sklearn.metrics import mean_absolute_error, mean_squared_error\n",
    "from math import sqrt\n",
    "\n",
    "\n",
    "def evaluate(pred_df, org_df):\n",
    "    mae = mean_absolute_error(pred_df, org_df)\n",
    "    rmse = sqrt(mean_squared_error(pred_df, org_df))\n",
    "    print(\"MAE: \", mae)\n",
    "    print(\"RMSE: \", rmse)\n"
   ]
  },
  {
   "cell_type": "code",
   "execution_count": null,
   "metadata": {},
   "outputs": [
    {
     "name": "stdout",
     "output_type": "stream",
     "text": [
      "MAE:  2.112358268363385\n",
      "RMSE:  3.1713954394887884\n"
     ]
    }
   ],
   "source": [
    "evaluate(df['predict_arima'], df['aqi'])"
   ]
  },
  {
   "attachments": {},
   "cell_type": "markdown",
   "metadata": {},
   "source": [
    "##### ARIMAX Model"
   ]
  },
  {
   "cell_type": "code",
   "execution_count": 101,
   "metadata": {},
   "outputs": [
    {
     "name": "stdout",
     "output_type": "stream",
     "text": [
      "Performing stepwise search to minimize aic\n",
      " ARIMA(1,0,1)(1,0,1)[12] intercept   : AIC=inf, Time=0.44 sec\n",
      " ARIMA(0,0,0)(0,0,0)[12] intercept   : AIC=449.263, Time=0.07 sec\n",
      " ARIMA(1,0,0)(1,0,0)[12] intercept   : AIC=441.338, Time=0.35 sec\n",
      " ARIMA(0,0,1)(0,0,1)[12] intercept   : AIC=440.909, Time=0.22 sec\n",
      " ARIMA(0,0,0)(0,0,0)[12]             : AIC=447.584, Time=0.04 sec\n",
      " ARIMA(0,0,1)(0,0,0)[12] intercept   : AIC=439.271, Time=0.12 sec\n",
      " ARIMA(0,0,1)(1,0,0)[12] intercept   : AIC=440.934, Time=0.23 sec\n",
      " ARIMA(0,0,1)(1,0,1)[12] intercept   : AIC=inf, Time=0.35 sec\n",
      " ARIMA(1,0,1)(0,0,0)[12] intercept   : AIC=440.925, Time=0.14 sec\n",
      " ARIMA(0,0,2)(0,0,0)[12] intercept   : AIC=440.953, Time=0.14 sec\n",
      " ARIMA(1,0,0)(0,0,0)[12] intercept   : AIC=439.536, Time=0.11 sec\n",
      " ARIMA(1,0,2)(0,0,0)[12] intercept   : AIC=442.927, Time=0.19 sec\n",
      " ARIMA(0,0,1)(0,0,0)[12]             : AIC=437.547, Time=0.07 sec\n",
      " ARIMA(0,0,1)(1,0,0)[12]             : AIC=439.355, Time=0.09 sec\n",
      " ARIMA(0,0,1)(0,0,1)[12]             : AIC=439.329, Time=0.12 sec\n",
      " ARIMA(0,0,1)(1,0,1)[12]             : AIC=inf, Time=0.33 sec\n",
      " ARIMA(1,0,1)(0,0,0)[12]             : AIC=439.414, Time=0.07 sec\n",
      " ARIMA(0,0,2)(0,0,0)[12]             : AIC=439.437, Time=0.08 sec\n",
      " ARIMA(1,0,0)(0,0,0)[12]             : AIC=438.106, Time=0.09 sec\n",
      " ARIMA(1,0,2)(0,0,0)[12]             : AIC=440.942, Time=0.17 sec\n",
      "\n",
      "Best model:  ARIMA(0,0,1)(0,0,0)[12]          \n",
      "Total fit time: 3.446 seconds\n"
     ]
    }
   ],
   "source": [
    "params = pm.auto_arima(\n",
    "    y=df['aqi'], X=df[['SO2', 'NOx', 'PM10']],\n",
    "    start_p=1, start_q=1, m=12,\n",
    "    test='adf',\n",
    "    trace=True, error_action = 'ignore',\n",
    "    supress_warnings=True\n",
    ")\n"
   ]
  },
  {
   "cell_type": "code",
   "execution_count": 103,
   "metadata": {},
   "outputs": [
    {
     "name": "stderr",
     "output_type": "stream",
     "text": [
      "c:\\Users\\ayush\\anaconda3\\lib\\site-packages\\statsmodels\\tsa\\base\\tsa_model.py:471: ValueWarning: No frequency information was provided, so inferred frequency MS will be used.\n",
      "  self._init_dates(dates, freq)\n",
      "c:\\Users\\ayush\\anaconda3\\lib\\site-packages\\statsmodels\\tsa\\base\\tsa_model.py:471: ValueWarning: No frequency information was provided, so inferred frequency MS will be used.\n",
      "  self._init_dates(dates, freq)\n",
      "c:\\Users\\ayush\\anaconda3\\lib\\site-packages\\statsmodels\\base\\model.py:604: ConvergenceWarning: Maximum Likelihood optimization failed to converge. Check mle_retvals\n",
      "  warnings.warn(\"Maximum Likelihood optimization failed to \"\n"
     ]
    },
    {
     "data": {
      "text/html": [
       "<table class=\"simpletable\">\n",
       "<caption>SARIMAX Results</caption>\n",
       "<tr>\n",
       "  <th>Dep. Variable:</th>           <td>y</td>        <th>  No. Observations:  </th>    <td>72</td>   \n",
       "</tr>\n",
       "<tr>\n",
       "  <th>Model:</th>           <td>SARIMAX(0, 0, 1)</td> <th>  Log Likelihood     </th> <td>-213.636</td>\n",
       "</tr>\n",
       "<tr>\n",
       "  <th>Date:</th>            <td>Thu, 02 Mar 2023</td> <th>  AIC                </th>  <td>439.271</td>\n",
       "</tr>\n",
       "<tr>\n",
       "  <th>Time:</th>                <td>23:41:36</td>     <th>  BIC                </th>  <td>452.931</td>\n",
       "</tr>\n",
       "<tr>\n",
       "  <th>Sample:</th>             <td>01-01-2017</td>    <th>  HQIC               </th>  <td>444.709</td>\n",
       "</tr>\n",
       "<tr>\n",
       "  <th></th>                   <td>- 12-01-2022</td>   <th>                     </th>     <td> </td>   \n",
       "</tr>\n",
       "<tr>\n",
       "  <th>Covariance Type:</th>        <td>opg</td>       <th>                     </th>     <td> </td>   \n",
       "</tr>\n",
       "</table>\n",
       "<table class=\"simpletable\">\n",
       "<tr>\n",
       "      <td></td>         <th>coef</th>     <th>std err</th>      <th>z</th>      <th>P>|z|</th>  <th>[0.025</th>    <th>0.975]</th>  \n",
       "</tr>\n",
       "<tr>\n",
       "  <th>intercept</th> <td>   -3.5223</td> <td>   19.786</td> <td>   -0.178</td> <td> 0.859</td> <td>  -42.303</td> <td>   35.259</td>\n",
       "</tr>\n",
       "<tr>\n",
       "  <th>SO2</th>       <td>   -0.7699</td> <td>    2.539</td> <td>   -0.303</td> <td> 0.762</td> <td>   -5.746</td> <td>    4.206</td>\n",
       "</tr>\n",
       "<tr>\n",
       "  <th>NOx</th>       <td>    0.4977</td> <td>    0.621</td> <td>    0.801</td> <td> 0.423</td> <td>   -0.720</td> <td>    1.715</td>\n",
       "</tr>\n",
       "<tr>\n",
       "  <th>PM10</th>      <td>    0.9394</td> <td>    0.134</td> <td>    7.002</td> <td> 0.000</td> <td>    0.676</td> <td>    1.202</td>\n",
       "</tr>\n",
       "<tr>\n",
       "  <th>ma.L1</th>     <td>    0.4126</td> <td>    0.141</td> <td>    2.919</td> <td> 0.004</td> <td>    0.136</td> <td>    0.690</td>\n",
       "</tr>\n",
       "<tr>\n",
       "  <th>sigma2</th>    <td>   22.4556</td> <td>    2.847</td> <td>    7.886</td> <td> 0.000</td> <td>   16.875</td> <td>   28.036</td>\n",
       "</tr>\n",
       "</table>\n",
       "<table class=\"simpletable\">\n",
       "<tr>\n",
       "  <th>Ljung-Box (L1) (Q):</th>     <td>0.03</td> <th>  Jarque-Bera (JB):  </th> <td>1098.21</td>\n",
       "</tr>\n",
       "<tr>\n",
       "  <th>Prob(Q):</th>                <td>0.87</td> <th>  Prob(JB):          </th>  <td>0.00</td>  \n",
       "</tr>\n",
       "<tr>\n",
       "  <th>Heteroskedasticity (H):</th> <td>6.89</td> <th>  Skew:              </th>  <td>-3.68</td> \n",
       "</tr>\n",
       "<tr>\n",
       "  <th>Prob(H) (two-sided):</th>    <td>0.00</td> <th>  Kurtosis:          </th>  <td>20.66</td> \n",
       "</tr>\n",
       "</table><br/><br/>Warnings:<br/>[1] Covariance matrix calculated using the outer product of gradients (complex-step)."
      ],
      "text/plain": [
       "<class 'statsmodels.iolib.summary.Summary'>\n",
       "\"\"\"\n",
       "                               SARIMAX Results                                \n",
       "==============================================================================\n",
       "Dep. Variable:                      y   No. Observations:                   72\n",
       "Model:               SARIMAX(0, 0, 1)   Log Likelihood                -213.636\n",
       "Date:                Thu, 02 Mar 2023   AIC                            439.271\n",
       "Time:                        23:41:36   BIC                            452.931\n",
       "Sample:                    01-01-2017   HQIC                           444.709\n",
       "                         - 12-01-2022                                         \n",
       "Covariance Type:                  opg                                         \n",
       "==============================================================================\n",
       "                 coef    std err          z      P>|z|      [0.025      0.975]\n",
       "------------------------------------------------------------------------------\n",
       "intercept     -3.5223     19.786     -0.178      0.859     -42.303      35.259\n",
       "SO2           -0.7699      2.539     -0.303      0.762      -5.746       4.206\n",
       "NOx            0.4977      0.621      0.801      0.423      -0.720       1.715\n",
       "PM10           0.9394      0.134      7.002      0.000       0.676       1.202\n",
       "ma.L1          0.4126      0.141      2.919      0.004       0.136       0.690\n",
       "sigma2        22.4556      2.847      7.886      0.000      16.875      28.036\n",
       "===================================================================================\n",
       "Ljung-Box (L1) (Q):                   0.03   Jarque-Bera (JB):              1098.21\n",
       "Prob(Q):                              0.87   Prob(JB):                         0.00\n",
       "Heteroskedasticity (H):               6.89   Skew:                            -3.68\n",
       "Prob(H) (two-sided):                  0.00   Kurtosis:                        20.66\n",
       "===================================================================================\n",
       "\n",
       "Warnings:\n",
       "[1] Covariance matrix calculated using the outer product of gradients (complex-step).\n",
       "\"\"\""
      ]
     },
     "execution_count": 103,
     "metadata": {},
     "output_type": "execute_result"
    }
   ],
   "source": [
    "arimax_model = pm.ARIMA(order=(0,0,1))\n",
    "arimax = arimax_model.fit(y = df['aqi'], X=df[['SO2', 'NOx', 'PM10']], )\n",
    "arimax.summary()"
   ]
  },
  {
   "cell_type": "code",
   "execution_count": 112,
   "metadata": {},
   "outputs": [
    {
     "ename": "ValueError",
     "evalue": "Provided exogenous values are not of the appropriate shape. Required (1, 3), got (72, 3).",
     "output_type": "error",
     "traceback": [
      "\u001b[1;31m---------------------------------------------------------------------------\u001b[0m",
      "\u001b[1;31mValueError\u001b[0m                                Traceback (most recent call last)",
      "\u001b[1;32mc:\\Users\\ayush\\anaconda3\\lib\\site-packages\\statsmodels\\tsa\\statespace\\mlemodel.py\u001b[0m in \u001b[0;36m_validate_out_of_sample_exog\u001b[1;34m(self, exog, out_of_sample)\u001b[0m\n\u001b[0;32m   1774\u001b[0m             \u001b[1;32mtry\u001b[0m\u001b[1;33m:\u001b[0m\u001b[1;33m\u001b[0m\u001b[1;33m\u001b[0m\u001b[0m\n\u001b[1;32m-> 1775\u001b[1;33m                 \u001b[0mexog\u001b[0m \u001b[1;33m=\u001b[0m \u001b[0mexog\u001b[0m\u001b[1;33m.\u001b[0m\u001b[0mreshape\u001b[0m\u001b[1;33m(\u001b[0m\u001b[0mrequired_exog_shape\u001b[0m\u001b[1;33m)\u001b[0m\u001b[1;33m\u001b[0m\u001b[1;33m\u001b[0m\u001b[0m\n\u001b[0m\u001b[0;32m   1776\u001b[0m             \u001b[1;32mexcept\u001b[0m \u001b[0mValueError\u001b[0m\u001b[1;33m:\u001b[0m\u001b[1;33m\u001b[0m\u001b[1;33m\u001b[0m\u001b[0m\n",
      "\u001b[1;31mValueError\u001b[0m: cannot reshape array of size 216 into shape (1,3)",
      "\nDuring handling of the above exception, another exception occurred:\n",
      "\u001b[1;31mValueError\u001b[0m                                Traceback (most recent call last)",
      "\u001b[1;32m~\\AppData\\Local\\Temp/ipykernel_31644/3361668084.py\u001b[0m in \u001b[0;36m<module>\u001b[1;34m\u001b[0m\n\u001b[1;32m----> 1\u001b[1;33m \u001b[0mdf\u001b[0m\u001b[1;33m[\u001b[0m\u001b[1;34m'predict_arimax'\u001b[0m\u001b[1;33m]\u001b[0m \u001b[1;33m=\u001b[0m \u001b[0mlist\u001b[0m\u001b[1;33m(\u001b[0m\u001b[0marimax\u001b[0m\u001b[1;33m.\u001b[0m\u001b[0mpredict_in_sample\u001b[0m\u001b[1;33m(\u001b[0m\u001b[0mstart\u001b[0m\u001b[1;33m=\u001b[0m\u001b[1;36m1\u001b[0m\u001b[1;33m,\u001b[0m \u001b[0mend\u001b[0m\u001b[1;33m=\u001b[0m\u001b[0mlen\u001b[0m\u001b[1;33m(\u001b[0m\u001b[0mdf\u001b[0m\u001b[1;33m)\u001b[0m\u001b[1;33m,\u001b[0m \u001b[0mX\u001b[0m\u001b[1;33m=\u001b[0m\u001b[0mdf\u001b[0m\u001b[1;33m[\u001b[0m\u001b[1;33m[\u001b[0m\u001b[1;34m'SO2'\u001b[0m\u001b[1;33m,\u001b[0m \u001b[1;34m'NOx'\u001b[0m\u001b[1;33m,\u001b[0m \u001b[1;34m'PM10'\u001b[0m\u001b[1;33m]\u001b[0m\u001b[1;33m]\u001b[0m\u001b[1;33m)\u001b[0m\u001b[1;33m)\u001b[0m\u001b[1;33m\u001b[0m\u001b[1;33m\u001b[0m\u001b[0m\n\u001b[0m\u001b[0;32m      2\u001b[0m \u001b[0mdf\u001b[0m\u001b[1;33m[\u001b[0m\u001b[1;33m[\u001b[0m\u001b[1;34m'aqi'\u001b[0m\u001b[1;33m,\u001b[0m \u001b[1;34m'predict_arimax'\u001b[0m\u001b[1;33m]\u001b[0m\u001b[1;33m]\u001b[0m\u001b[1;33m.\u001b[0m\u001b[0mplot\u001b[0m\u001b[1;33m(\u001b[0m\u001b[1;33m)\u001b[0m\u001b[1;33m\u001b[0m\u001b[1;33m\u001b[0m\u001b[0m\n",
      "\u001b[1;32mc:\\Users\\ayush\\anaconda3\\lib\\site-packages\\pmdarima\\arima\\arima.py\u001b[0m in \u001b[0;36mpredict_in_sample\u001b[1;34m(self, X, start, end, dynamic, return_conf_int, alpha, **kwargs)\u001b[0m\n\u001b[0;32m    712\u001b[0m         \u001b[1;31m# If not returning the confidence intervals, we have it really easy\u001b[0m\u001b[1;33m\u001b[0m\u001b[1;33m\u001b[0m\u001b[0m\n\u001b[0;32m    713\u001b[0m         \u001b[1;32mif\u001b[0m \u001b[1;32mnot\u001b[0m \u001b[0mreturn_conf_int\u001b[0m\u001b[1;33m:\u001b[0m\u001b[1;33m\u001b[0m\u001b[1;33m\u001b[0m\u001b[0m\n\u001b[1;32m--> 714\u001b[1;33m             preds = results_wrapper.predict(\n\u001b[0m\u001b[0;32m    715\u001b[0m                 \u001b[0mexog\u001b[0m\u001b[1;33m=\u001b[0m\u001b[0mX\u001b[0m\u001b[1;33m,\u001b[0m\u001b[1;33m\u001b[0m\u001b[1;33m\u001b[0m\u001b[0m\n\u001b[0;32m    716\u001b[0m                 \u001b[0mstart\u001b[0m\u001b[1;33m=\u001b[0m\u001b[0mstart\u001b[0m\u001b[1;33m,\u001b[0m\u001b[1;33m\u001b[0m\u001b[1;33m\u001b[0m\u001b[0m\n",
      "\u001b[1;32mc:\\Users\\ayush\\anaconda3\\lib\\site-packages\\statsmodels\\base\\wrapper.py\u001b[0m in \u001b[0;36mwrapper\u001b[1;34m(self, *args, **kwargs)\u001b[0m\n\u001b[0;32m    111\u001b[0m             \u001b[0mobj\u001b[0m \u001b[1;33m=\u001b[0m \u001b[0mdata\u001b[0m\u001b[1;33m.\u001b[0m\u001b[0mwrap_output\u001b[0m\u001b[1;33m(\u001b[0m\u001b[0mfunc\u001b[0m\u001b[1;33m(\u001b[0m\u001b[0mresults\u001b[0m\u001b[1;33m,\u001b[0m \u001b[1;33m*\u001b[0m\u001b[0margs\u001b[0m\u001b[1;33m,\u001b[0m \u001b[1;33m**\u001b[0m\u001b[0mkwargs\u001b[0m\u001b[1;33m)\u001b[0m\u001b[1;33m,\u001b[0m \u001b[0mhow\u001b[0m\u001b[1;33m[\u001b[0m\u001b[1;36m0\u001b[0m\u001b[1;33m]\u001b[0m\u001b[1;33m,\u001b[0m \u001b[0mhow\u001b[0m\u001b[1;33m[\u001b[0m\u001b[1;36m1\u001b[0m\u001b[1;33m:\u001b[0m\u001b[1;33m]\u001b[0m\u001b[1;33m)\u001b[0m\u001b[1;33m\u001b[0m\u001b[1;33m\u001b[0m\u001b[0m\n\u001b[0;32m    112\u001b[0m         \u001b[1;32melif\u001b[0m \u001b[0mhow\u001b[0m\u001b[1;33m:\u001b[0m\u001b[1;33m\u001b[0m\u001b[1;33m\u001b[0m\u001b[0m\n\u001b[1;32m--> 113\u001b[1;33m             \u001b[0mobj\u001b[0m \u001b[1;33m=\u001b[0m \u001b[0mdata\u001b[0m\u001b[1;33m.\u001b[0m\u001b[0mwrap_output\u001b[0m\u001b[1;33m(\u001b[0m\u001b[0mfunc\u001b[0m\u001b[1;33m(\u001b[0m\u001b[0mresults\u001b[0m\u001b[1;33m,\u001b[0m \u001b[1;33m*\u001b[0m\u001b[0margs\u001b[0m\u001b[1;33m,\u001b[0m \u001b[1;33m**\u001b[0m\u001b[0mkwargs\u001b[0m\u001b[1;33m)\u001b[0m\u001b[1;33m,\u001b[0m \u001b[0mhow\u001b[0m\u001b[1;33m)\u001b[0m\u001b[1;33m\u001b[0m\u001b[1;33m\u001b[0m\u001b[0m\n\u001b[0m\u001b[0;32m    114\u001b[0m         \u001b[1;32mreturn\u001b[0m \u001b[0mobj\u001b[0m\u001b[1;33m\u001b[0m\u001b[1;33m\u001b[0m\u001b[0m\n\u001b[0;32m    115\u001b[0m \u001b[1;33m\u001b[0m\u001b[0m\n",
      "\u001b[1;32mc:\\Users\\ayush\\anaconda3\\lib\\site-packages\\statsmodels\\tsa\\statespace\\mlemodel.py\u001b[0m in \u001b[0;36mpredict\u001b[1;34m(self, start, end, dynamic, **kwargs)\u001b[0m\n\u001b[0;32m   3401\u001b[0m         \"\"\"\n\u001b[0;32m   3402\u001b[0m         \u001b[1;31m# Perform the prediction\u001b[0m\u001b[1;33m\u001b[0m\u001b[1;33m\u001b[0m\u001b[0m\n\u001b[1;32m-> 3403\u001b[1;33m         \u001b[0mprediction_results\u001b[0m \u001b[1;33m=\u001b[0m \u001b[0mself\u001b[0m\u001b[1;33m.\u001b[0m\u001b[0mget_prediction\u001b[0m\u001b[1;33m(\u001b[0m\u001b[0mstart\u001b[0m\u001b[1;33m,\u001b[0m \u001b[0mend\u001b[0m\u001b[1;33m,\u001b[0m \u001b[0mdynamic\u001b[0m\u001b[1;33m,\u001b[0m \u001b[1;33m**\u001b[0m\u001b[0mkwargs\u001b[0m\u001b[1;33m)\u001b[0m\u001b[1;33m\u001b[0m\u001b[1;33m\u001b[0m\u001b[0m\n\u001b[0m\u001b[0;32m   3404\u001b[0m         \u001b[1;32mreturn\u001b[0m \u001b[0mprediction_results\u001b[0m\u001b[1;33m.\u001b[0m\u001b[0mpredicted_mean\u001b[0m\u001b[1;33m\u001b[0m\u001b[1;33m\u001b[0m\u001b[0m\n\u001b[0;32m   3405\u001b[0m \u001b[1;33m\u001b[0m\u001b[0m\n",
      "\u001b[1;32mc:\\Users\\ayush\\anaconda3\\lib\\site-packages\\statsmodels\\tsa\\statespace\\mlemodel.py\u001b[0m in \u001b[0;36mget_prediction\u001b[1;34m(self, start, end, dynamic, index, exog, extend_model, extend_kwargs, **kwargs)\u001b[0m\n\u001b[0;32m   3300\u001b[0m                             not self.filter_results.time_invariant)\n\u001b[0;32m   3301\u001b[0m         \u001b[1;32mif\u001b[0m \u001b[0mout_of_sample\u001b[0m \u001b[1;32mand\u001b[0m \u001b[0mextend_model\u001b[0m\u001b[1;33m:\u001b[0m\u001b[1;33m\u001b[0m\u001b[1;33m\u001b[0m\u001b[0m\n\u001b[1;32m-> 3302\u001b[1;33m             kwargs = self.model._get_extension_time_varying_matrices(\n\u001b[0m\u001b[0;32m   3303\u001b[0m                 \u001b[0mself\u001b[0m\u001b[1;33m.\u001b[0m\u001b[0mparams\u001b[0m\u001b[1;33m,\u001b[0m \u001b[0mexog\u001b[0m\u001b[1;33m,\u001b[0m \u001b[0mout_of_sample\u001b[0m\u001b[1;33m,\u001b[0m \u001b[0mextend_kwargs\u001b[0m\u001b[1;33m,\u001b[0m\u001b[1;33m\u001b[0m\u001b[1;33m\u001b[0m\u001b[0m\n\u001b[0;32m   3304\u001b[0m                 transformed=True, includes_fixed=True, **kwargs)\n",
      "\u001b[1;32mc:\\Users\\ayush\\anaconda3\\lib\\site-packages\\statsmodels\\tsa\\statespace\\sarimax.py\u001b[0m in \u001b[0;36m_get_extension_time_varying_matrices\u001b[1;34m(self, params, exog, out_of_sample, extend_kwargs, transformed, includes_fixed, **kwargs)\u001b[0m\n\u001b[0;32m   1716\u001b[0m \u001b[1;33m\u001b[0m\u001b[0m\n\u001b[0;32m   1717\u001b[0m         \u001b[1;31m# Get the appropriate exog for the extended sample\u001b[0m\u001b[1;33m\u001b[0m\u001b[1;33m\u001b[0m\u001b[0m\n\u001b[1;32m-> 1718\u001b[1;33m         \u001b[0mexog\u001b[0m \u001b[1;33m=\u001b[0m \u001b[0mself\u001b[0m\u001b[1;33m.\u001b[0m\u001b[0m_validate_out_of_sample_exog\u001b[0m\u001b[1;33m(\u001b[0m\u001b[0mexog\u001b[0m\u001b[1;33m,\u001b[0m \u001b[0mout_of_sample\u001b[0m\u001b[1;33m)\u001b[0m\u001b[1;33m\u001b[0m\u001b[1;33m\u001b[0m\u001b[0m\n\u001b[0m\u001b[0;32m   1719\u001b[0m \u001b[1;33m\u001b[0m\u001b[0m\n\u001b[0;32m   1720\u001b[0m         \u001b[1;31m# Get the tmp endog, exog\u001b[0m\u001b[1;33m\u001b[0m\u001b[1;33m\u001b[0m\u001b[0m\n",
      "\u001b[1;32mc:\\Users\\ayush\\anaconda3\\lib\\site-packages\\statsmodels\\tsa\\statespace\\mlemodel.py\u001b[0m in \u001b[0;36m_validate_out_of_sample_exog\u001b[1;34m(self, exog, out_of_sample)\u001b[0m\n\u001b[0;32m   1775\u001b[0m                 \u001b[0mexog\u001b[0m \u001b[1;33m=\u001b[0m \u001b[0mexog\u001b[0m\u001b[1;33m.\u001b[0m\u001b[0mreshape\u001b[0m\u001b[1;33m(\u001b[0m\u001b[0mrequired_exog_shape\u001b[0m\u001b[1;33m)\u001b[0m\u001b[1;33m\u001b[0m\u001b[1;33m\u001b[0m\u001b[0m\n\u001b[0;32m   1776\u001b[0m             \u001b[1;32mexcept\u001b[0m \u001b[0mValueError\u001b[0m\u001b[1;33m:\u001b[0m\u001b[1;33m\u001b[0m\u001b[1;33m\u001b[0m\u001b[0m\n\u001b[1;32m-> 1777\u001b[1;33m                 raise ValueError('Provided exogenous values are not of the'\n\u001b[0m\u001b[0;32m   1778\u001b[0m                                  \u001b[1;34m' appropriate shape. Required %s, got %s.'\u001b[0m\u001b[1;33m\u001b[0m\u001b[1;33m\u001b[0m\u001b[0m\n\u001b[0;32m   1779\u001b[0m                                  % (str(required_exog_shape),\n",
      "\u001b[1;31mValueError\u001b[0m: Provided exogenous values are not of the appropriate shape. Required (1, 3), got (72, 3)."
     ]
    }
   ],
   "source": [
    "df['predict_arimax'] = list(arimax.predict_in_sample(start=1, end=len(df), X=df[['SO2', 'NOx', 'PM10']]))\n",
    "df[['aqi', 'predict_arimax']].plot()"
   ]
  },
  {
   "attachments": {},
   "cell_type": "markdown",
   "metadata": {},
   "source": [
    "### VARMAX"
   ]
  },
  {
   "cell_type": "code",
   "execution_count": 136,
   "metadata": {},
   "outputs": [],
   "source": [
    "from numpy.linalg import LinAlgError\n",
    "def find_params():\n",
    "    test_results = {}\n",
    "\n",
    "    for p in range(5):\n",
    "        for q in range(5):\n",
    "            if p == 0 and q == 0:\n",
    "                continue\n",
    "\n",
    "            print(f'Testing Order: p = {p}, q = {q}')\n",
    "            convergence_error = stationarity_error = 0\n",
    "\n",
    "            try:\n",
    "                model = sm.tsa.VARMAX(df[['aqi', 'SO2', 'NOx', 'PM10']], order=(p, q), trend='n')\n",
    "                model_result = model.fit(maxiter=1000, disp=False)\n",
    "\n",
    "            except LinAlgError:\n",
    "                convergence_error += 1\n",
    "\n",
    "            except ValueError:\n",
    "                stationarity_error += 1\n",
    "\n",
    "            print('\\nAIC:', model_result.aic)\n",
    "            print('BIC:', model_result.bic)\n",
    "            print('HQIC:', model_result.hqic)\n",
    "            print('------------------------')\n",
    "\n",
    "            test_results[(p, q)] = [model_result.aic,\n",
    "                                    model_result.bic,\n",
    "                                    convergence_error,\n",
    "                                    stationarity_error]\n"
   ]
  },
  {
   "cell_type": "code",
   "execution_count": 137,
   "metadata": {},
   "outputs": [
    {
     "name": "stdout",
     "output_type": "stream",
     "text": [
      "Testing Order: p = 0, q = 1\n"
     ]
    },
    {
     "name": "stderr",
     "output_type": "stream",
     "text": [
      "c:\\Users\\ayush\\anaconda3\\lib\\site-packages\\statsmodels\\tsa\\base\\tsa_model.py:471: ValueWarning: No frequency information was provided, so inferred frequency MS will be used.\n",
      "  self._init_dates(dates, freq)\n",
      "c:\\Users\\ayush\\anaconda3\\lib\\site-packages\\statsmodels\\base\\model.py:604: ConvergenceWarning: Maximum Likelihood optimization failed to converge. Check mle_retvals\n",
      "  warnings.warn(\"Maximum Likelihood optimization failed to \"\n",
      "c:\\Users\\ayush\\anaconda3\\lib\\site-packages\\statsmodels\\tsa\\base\\tsa_model.py:471: ValueWarning: No frequency information was provided, so inferred frequency MS will be used.\n",
      "  self._init_dates(dates, freq)\n"
     ]
    },
    {
     "name": "stdout",
     "output_type": "stream",
     "text": [
      "\n",
      "AIC: 1614.6350696972172\n",
      "BIC: 1673.8283887916346\n",
      "HQIC: 1638.2001053162223\n",
      "------------------------\n",
      "Testing Order: p = 0, q = 2\n"
     ]
    },
    {
     "name": "stderr",
     "output_type": "stream",
     "text": [
      "c:\\Users\\ayush\\anaconda3\\lib\\site-packages\\statsmodels\\base\\model.py:604: ConvergenceWarning: Maximum Likelihood optimization failed to converge. Check mle_retvals\n",
      "  warnings.warn(\"Maximum Likelihood optimization failed to \"\n",
      "c:\\Users\\ayush\\anaconda3\\lib\\site-packages\\statsmodels\\tsa\\base\\tsa_model.py:471: ValueWarning: No frequency information was provided, so inferred frequency MS will be used.\n",
      "  self._init_dates(dates, freq)\n"
     ]
    },
    {
     "name": "stdout",
     "output_type": "stream",
     "text": [
      "\n",
      "AIC: 1625.6225824577084\n",
      "BIC: 1721.2425594563827\n",
      "HQIC: 1663.6891784576399\n",
      "------------------------\n",
      "Testing Order: p = 0, q = 3\n"
     ]
    },
    {
     "name": "stderr",
     "output_type": "stream",
     "text": [
      "c:\\Users\\ayush\\anaconda3\\lib\\site-packages\\statsmodels\\base\\model.py:604: ConvergenceWarning: Maximum Likelihood optimization failed to converge. Check mle_retvals\n",
      "  warnings.warn(\"Maximum Likelihood optimization failed to \"\n",
      "c:\\Users\\ayush\\anaconda3\\lib\\site-packages\\statsmodels\\tsa\\base\\tsa_model.py:471: ValueWarning: No frequency information was provided, so inferred frequency MS will be used.\n",
      "  self._init_dates(dates, freq)\n"
     ]
    },
    {
     "name": "stdout",
     "output_type": "stream",
     "text": [
      "\n",
      "AIC: 1650.7683675916646\n",
      "BIC: 1782.8150024945958\n",
      "HQIC: 1703.3365239725222\n",
      "------------------------\n",
      "Testing Order: p = 0, q = 4\n"
     ]
    },
    {
     "name": "stderr",
     "output_type": "stream",
     "text": [
      "c:\\Users\\ayush\\anaconda3\\lib\\site-packages\\statsmodels\\base\\model.py:604: ConvergenceWarning: Maximum Likelihood optimization failed to converge. Check mle_retvals\n",
      "  warnings.warn(\"Maximum Likelihood optimization failed to \"\n"
     ]
    },
    {
     "name": "stdout",
     "output_type": "stream",
     "text": [
      "\n",
      "AIC: 1571.6462468254801\n",
      "BIC: 1740.1195396326682\n",
      "HQIC: 1638.715963587264\n",
      "------------------------\n",
      "Testing Order: p = 1, q = 0\n"
     ]
    },
    {
     "name": "stderr",
     "output_type": "stream",
     "text": [
      "c:\\Users\\ayush\\anaconda3\\lib\\site-packages\\statsmodels\\tsa\\base\\tsa_model.py:471: ValueWarning: No frequency information was provided, so inferred frequency MS will be used.\n",
      "  self._init_dates(dates, freq)\n"
     ]
    },
    {
     "name": "stdout",
     "output_type": "stream",
     "text": [
      "\n",
      "AIC: 1282.5179514728475\n",
      "BIC: 1341.7112705672648\n",
      "HQIC: 1306.0829870918526\n",
      "------------------------\n",
      "Testing Order: p = 1, q = 1\n"
     ]
    },
    {
     "name": "stderr",
     "output_type": "stream",
     "text": [
      "c:\\Users\\ayush\\anaconda3\\lib\\site-packages\\statsmodels\\tsa\\statespace\\varmax.py:161: EstimationWarning: Estimation of VARMA(p,q) models is not generically robust, due especially to identification issues.\n",
      "  warn('Estimation of VARMA(p,q) models is not generically robust,'\n",
      "c:\\Users\\ayush\\anaconda3\\lib\\site-packages\\statsmodels\\tsa\\base\\tsa_model.py:471: ValueWarning: No frequency information was provided, so inferred frequency MS will be used.\n",
      "  self._init_dates(dates, freq)\n",
      "c:\\Users\\ayush\\anaconda3\\lib\\site-packages\\statsmodels\\base\\model.py:604: ConvergenceWarning: Maximum Likelihood optimization failed to converge. Check mle_retvals\n",
      "  warnings.warn(\"Maximum Likelihood optimization failed to \"\n",
      "c:\\Users\\ayush\\anaconda3\\lib\\site-packages\\statsmodels\\tsa\\statespace\\varmax.py:161: EstimationWarning: Estimation of VARMA(p,q) models is not generically robust, due especially to identification issues.\n",
      "  warn('Estimation of VARMA(p,q) models is not generically robust,'\n",
      "c:\\Users\\ayush\\anaconda3\\lib\\site-packages\\statsmodels\\tsa\\base\\tsa_model.py:471: ValueWarning: No frequency information was provided, so inferred frequency MS will be used.\n",
      "  self._init_dates(dates, freq)\n"
     ]
    },
    {
     "name": "stdout",
     "output_type": "stream",
     "text": [
      "\n",
      "AIC: 1267.6190925392207\n",
      "BIC: 1363.239069537895\n",
      "HQIC: 1305.6856885391521\n",
      "------------------------\n",
      "Testing Order: p = 1, q = 2\n"
     ]
    },
    {
     "name": "stderr",
     "output_type": "stream",
     "text": [
      "c:\\Users\\ayush\\anaconda3\\lib\\site-packages\\statsmodels\\base\\model.py:604: ConvergenceWarning: Maximum Likelihood optimization failed to converge. Check mle_retvals\n",
      "  warnings.warn(\"Maximum Likelihood optimization failed to \"\n",
      "c:\\Users\\ayush\\anaconda3\\lib\\site-packages\\statsmodels\\tsa\\statespace\\varmax.py:161: EstimationWarning: Estimation of VARMA(p,q) models is not generically robust, due especially to identification issues.\n",
      "  warn('Estimation of VARMA(p,q) models is not generically robust,'\n",
      "c:\\Users\\ayush\\anaconda3\\lib\\site-packages\\statsmodels\\tsa\\base\\tsa_model.py:471: ValueWarning: No frequency information was provided, so inferred frequency MS will be used.\n",
      "  self._init_dates(dates, freq)\n"
     ]
    },
    {
     "name": "stdout",
     "output_type": "stream",
     "text": [
      "\n",
      "AIC: 1275.5462952255625\n",
      "BIC: 1407.5929301284937\n",
      "HQIC: 1328.11445160642\n",
      "------------------------\n",
      "Testing Order: p = 1, q = 3\n"
     ]
    },
    {
     "name": "stderr",
     "output_type": "stream",
     "text": [
      "c:\\Users\\ayush\\anaconda3\\lib\\site-packages\\statsmodels\\base\\model.py:604: ConvergenceWarning: Maximum Likelihood optimization failed to converge. Check mle_retvals\n",
      "  warnings.warn(\"Maximum Likelihood optimization failed to \"\n",
      "c:\\Users\\ayush\\anaconda3\\lib\\site-packages\\statsmodels\\tsa\\statespace\\varmax.py:161: EstimationWarning: Estimation of VARMA(p,q) models is not generically robust, due especially to identification issues.\n",
      "  warn('Estimation of VARMA(p,q) models is not generically robust,'\n",
      "c:\\Users\\ayush\\anaconda3\\lib\\site-packages\\statsmodels\\tsa\\base\\tsa_model.py:471: ValueWarning: No frequency information was provided, so inferred frequency MS will be used.\n",
      "  self._init_dates(dates, freq)\n"
     ]
    },
    {
     "name": "stdout",
     "output_type": "stream",
     "text": [
      "\n",
      "AIC: 1297.787110624451\n",
      "BIC: 1466.2604034316391\n",
      "HQIC: 1364.856827386235\n",
      "------------------------\n",
      "Testing Order: p = 1, q = 4\n"
     ]
    },
    {
     "name": "stderr",
     "output_type": "stream",
     "text": [
      "c:\\Users\\ayush\\anaconda3\\lib\\site-packages\\statsmodels\\base\\model.py:604: ConvergenceWarning: Maximum Likelihood optimization failed to converge. Check mle_retvals\n",
      "  warnings.warn(\"Maximum Likelihood optimization failed to \"\n"
     ]
    },
    {
     "name": "stdout",
     "output_type": "stream",
     "text": [
      "\n",
      "AIC: 1304.8062415877273\n",
      "BIC: 1509.7061922991722\n",
      "HQIC: 1386.3775187304375\n",
      "------------------------\n",
      "Testing Order: p = 2, q = 0\n"
     ]
    },
    {
     "name": "stderr",
     "output_type": "stream",
     "text": [
      "c:\\Users\\ayush\\anaconda3\\lib\\site-packages\\statsmodels\\tsa\\base\\tsa_model.py:471: ValueWarning: No frequency information was provided, so inferred frequency MS will be used.\n",
      "  self._init_dates(dates, freq)\n"
     ]
    },
    {
     "name": "stdout",
     "output_type": "stream",
     "text": [
      "\n",
      "AIC: 1285.6528914518462\n",
      "BIC: 1381.2728684505205\n",
      "HQIC: 1323.7194874517777\n",
      "------------------------\n",
      "Testing Order: p = 2, q = 1\n"
     ]
    },
    {
     "name": "stderr",
     "output_type": "stream",
     "text": [
      "c:\\Users\\ayush\\anaconda3\\lib\\site-packages\\statsmodels\\tsa\\statespace\\varmax.py:161: EstimationWarning: Estimation of VARMA(p,q) models is not generically robust, due especially to identification issues.\n",
      "  warn('Estimation of VARMA(p,q) models is not generically robust,'\n",
      "c:\\Users\\ayush\\anaconda3\\lib\\site-packages\\statsmodels\\tsa\\base\\tsa_model.py:471: ValueWarning: No frequency information was provided, so inferred frequency MS will be used.\n",
      "  self._init_dates(dates, freq)\n",
      "c:\\Users\\ayush\\anaconda3\\lib\\site-packages\\statsmodels\\base\\model.py:604: ConvergenceWarning: Maximum Likelihood optimization failed to converge. Check mle_retvals\n",
      "  warnings.warn(\"Maximum Likelihood optimization failed to \"\n",
      "c:\\Users\\ayush\\anaconda3\\lib\\site-packages\\statsmodels\\tsa\\statespace\\varmax.py:161: EstimationWarning: Estimation of VARMA(p,q) models is not generically robust, due especially to identification issues.\n",
      "  warn('Estimation of VARMA(p,q) models is not generically robust,'\n",
      "c:\\Users\\ayush\\anaconda3\\lib\\site-packages\\statsmodels\\tsa\\base\\tsa_model.py:471: ValueWarning: No frequency information was provided, so inferred frequency MS will be used.\n",
      "  self._init_dates(dates, freq)\n"
     ]
    },
    {
     "name": "stdout",
     "output_type": "stream",
     "text": [
      "\n",
      "AIC: 1273.1283801015347\n",
      "BIC: 1405.1750150044659\n",
      "HQIC: 1325.6965364823923\n",
      "------------------------\n",
      "Testing Order: p = 2, q = 2\n"
     ]
    },
    {
     "name": "stderr",
     "output_type": "stream",
     "text": [
      "c:\\Users\\ayush\\anaconda3\\lib\\site-packages\\statsmodels\\base\\model.py:604: ConvergenceWarning: Maximum Likelihood optimization failed to converge. Check mle_retvals\n",
      "  warnings.warn(\"Maximum Likelihood optimization failed to \"\n",
      "c:\\Users\\ayush\\anaconda3\\lib\\site-packages\\statsmodels\\tsa\\statespace\\varmax.py:161: EstimationWarning: Estimation of VARMA(p,q) models is not generically robust, due especially to identification issues.\n",
      "  warn('Estimation of VARMA(p,q) models is not generically robust,'\n",
      "c:\\Users\\ayush\\anaconda3\\lib\\site-packages\\statsmodels\\tsa\\base\\tsa_model.py:471: ValueWarning: No frequency information was provided, so inferred frequency MS will be used.\n",
      "  self._init_dates(dates, freq)\n"
     ]
    },
    {
     "name": "stdout",
     "output_type": "stream",
     "text": [
      "\n",
      "AIC: 1269.0721902106025\n",
      "BIC: 1437.5454830177905\n",
      "HQIC: 1336.1419069723863\n",
      "------------------------\n",
      "Testing Order: p = 2, q = 3\n"
     ]
    },
    {
     "name": "stderr",
     "output_type": "stream",
     "text": [
      "c:\\Users\\ayush\\anaconda3\\lib\\site-packages\\statsmodels\\base\\model.py:604: ConvergenceWarning: Maximum Likelihood optimization failed to converge. Check mle_retvals\n",
      "  warnings.warn(\"Maximum Likelihood optimization failed to \"\n"
     ]
    },
    {
     "name": "stdout",
     "output_type": "stream",
     "text": [
      "\n",
      "AIC: 1296.9304005831286\n",
      "BIC: 1501.8303512945736\n",
      "HQIC: 1378.5016777258388\n",
      "------------------------\n",
      "Testing Order: p = 2, q = 4\n"
     ]
    },
    {
     "name": "stderr",
     "output_type": "stream",
     "text": [
      "c:\\Users\\ayush\\anaconda3\\lib\\site-packages\\statsmodels\\tsa\\statespace\\varmax.py:161: EstimationWarning: Estimation of VARMA(p,q) models is not generically robust, due especially to identification issues.\n",
      "  warn('Estimation of VARMA(p,q) models is not generically robust,'\n",
      "c:\\Users\\ayush\\anaconda3\\lib\\site-packages\\statsmodels\\tsa\\base\\tsa_model.py:471: ValueWarning: No frequency information was provided, so inferred frequency MS will be used.\n",
      "  self._init_dates(dates, freq)\n",
      "c:\\Users\\ayush\\anaconda3\\lib\\site-packages\\statsmodels\\base\\model.py:604: ConvergenceWarning: Maximum Likelihood optimization failed to converge. Check mle_retvals\n",
      "  warnings.warn(\"Maximum Likelihood optimization failed to \"\n"
     ]
    },
    {
     "name": "stdout",
     "output_type": "stream",
     "text": [
      "\n",
      "AIC: 1302.920628204026\n",
      "BIC: 1544.2472368197277\n",
      "HQIC: 1398.9934657276622\n",
      "------------------------\n",
      "Testing Order: p = 3, q = 0\n"
     ]
    },
    {
     "name": "stderr",
     "output_type": "stream",
     "text": [
      "c:\\Users\\ayush\\anaconda3\\lib\\site-packages\\statsmodels\\tsa\\base\\tsa_model.py:471: ValueWarning: No frequency information was provided, so inferred frequency MS will be used.\n",
      "  self._init_dates(dates, freq)\n",
      "c:\\Users\\ayush\\anaconda3\\lib\\site-packages\\statsmodels\\base\\model.py:604: ConvergenceWarning: Maximum Likelihood optimization failed to converge. Check mle_retvals\n",
      "  warnings.warn(\"Maximum Likelihood optimization failed to \"\n",
      "c:\\Users\\ayush\\anaconda3\\lib\\site-packages\\statsmodels\\tsa\\statespace\\varmax.py:161: EstimationWarning: Estimation of VARMA(p,q) models is not generically robust, due especially to identification issues.\n",
      "  warn('Estimation of VARMA(p,q) models is not generically robust,'\n",
      "c:\\Users\\ayush\\anaconda3\\lib\\site-packages\\statsmodels\\tsa\\base\\tsa_model.py:471: ValueWarning: No frequency information was provided, so inferred frequency MS will be used.\n",
      "  self._init_dates(dates, freq)\n"
     ]
    },
    {
     "name": "stdout",
     "output_type": "stream",
     "text": [
      "\n",
      "AIC: 1299.8273195267668\n",
      "BIC: 1431.873954429698\n",
      "HQIC: 1352.3954759076244\n",
      "------------------------\n",
      "Testing Order: p = 3, q = 1\n"
     ]
    },
    {
     "name": "stderr",
     "output_type": "stream",
     "text": [
      "c:\\Users\\ayush\\anaconda3\\lib\\site-packages\\statsmodels\\base\\model.py:604: ConvergenceWarning: Maximum Likelihood optimization failed to converge. Check mle_retvals\n",
      "  warnings.warn(\"Maximum Likelihood optimization failed to \"\n",
      "c:\\Users\\ayush\\anaconda3\\lib\\site-packages\\statsmodels\\tsa\\statespace\\varmax.py:161: EstimationWarning: Estimation of VARMA(p,q) models is not generically robust, due especially to identification issues.\n",
      "  warn('Estimation of VARMA(p,q) models is not generically robust,'\n",
      "c:\\Users\\ayush\\anaconda3\\lib\\site-packages\\statsmodels\\tsa\\base\\tsa_model.py:471: ValueWarning: No frequency information was provided, so inferred frequency MS will be used.\n",
      "  self._init_dates(dates, freq)\n"
     ]
    },
    {
     "name": "stdout",
     "output_type": "stream",
     "text": [
      "\n",
      "AIC: 1296.2775784924522\n",
      "BIC: 1464.7508712996403\n",
      "HQIC: 1363.347295254236\n",
      "------------------------\n",
      "Testing Order: p = 3, q = 2\n"
     ]
    },
    {
     "name": "stderr",
     "output_type": "stream",
     "text": [
      "c:\\Users\\ayush\\anaconda3\\lib\\site-packages\\statsmodels\\base\\model.py:604: ConvergenceWarning: Maximum Likelihood optimization failed to converge. Check mle_retvals\n",
      "  warnings.warn(\"Maximum Likelihood optimization failed to \"\n"
     ]
    },
    {
     "name": "stdout",
     "output_type": "stream",
     "text": [
      "\n",
      "AIC: 1299.9957405369341\n",
      "BIC: 1504.895691248379\n",
      "HQIC: 1381.5670176796443\n",
      "------------------------\n",
      "Testing Order: p = 3, q = 3\n"
     ]
    },
    {
     "name": "stderr",
     "output_type": "stream",
     "text": [
      "c:\\Users\\ayush\\anaconda3\\lib\\site-packages\\statsmodels\\tsa\\statespace\\varmax.py:161: EstimationWarning: Estimation of VARMA(p,q) models is not generically robust, due especially to identification issues.\n",
      "  warn('Estimation of VARMA(p,q) models is not generically robust,'\n",
      "c:\\Users\\ayush\\anaconda3\\lib\\site-packages\\statsmodels\\tsa\\base\\tsa_model.py:471: ValueWarning: No frequency information was provided, so inferred frequency MS will be used.\n",
      "  self._init_dates(dates, freq)\n",
      "c:\\Users\\ayush\\anaconda3\\lib\\site-packages\\statsmodels\\base\\model.py:604: ConvergenceWarning: Maximum Likelihood optimization failed to converge. Check mle_retvals\n",
      "  warnings.warn(\"Maximum Likelihood optimization failed to \"\n"
     ]
    },
    {
     "name": "stdout",
     "output_type": "stream",
     "text": [
      "\n",
      "AIC: 1326.1586838362618\n",
      "BIC: 1567.4852924519637\n",
      "HQIC: 1422.2315213598981\n",
      "------------------------\n",
      "Testing Order: p = 3, q = 4\n"
     ]
    },
    {
     "name": "stderr",
     "output_type": "stream",
     "text": [
      "c:\\Users\\ayush\\anaconda3\\lib\\site-packages\\statsmodels\\tsa\\statespace\\varmax.py:161: EstimationWarning: Estimation of VARMA(p,q) models is not generically robust, due especially to identification issues.\n",
      "  warn('Estimation of VARMA(p,q) models is not generically robust,'\n",
      "c:\\Users\\ayush\\anaconda3\\lib\\site-packages\\statsmodels\\tsa\\base\\tsa_model.py:471: ValueWarning: No frequency information was provided, so inferred frequency MS will be used.\n",
      "  self._init_dates(dates, freq)\n",
      "c:\\Users\\ayush\\anaconda3\\lib\\site-packages\\statsmodels\\base\\model.py:604: ConvergenceWarning: Maximum Likelihood optimization failed to converge. Check mle_retvals\n",
      "  warnings.warn(\"Maximum Likelihood optimization failed to \"\n"
     ]
    },
    {
     "name": "stdout",
     "output_type": "stream",
     "text": [
      "\n",
      "AIC: 1336.9866108052522\n",
      "BIC: 1614.739877325211\n",
      "HQIC: 1447.5610087098148\n",
      "------------------------\n",
      "Testing Order: p = 4, q = 0\n"
     ]
    },
    {
     "name": "stderr",
     "output_type": "stream",
     "text": [
      "c:\\Users\\ayush\\anaconda3\\lib\\site-packages\\statsmodels\\tsa\\base\\tsa_model.py:471: ValueWarning: No frequency information was provided, so inferred frequency MS will be used.\n",
      "  self._init_dates(dates, freq)\n",
      "c:\\Users\\ayush\\anaconda3\\lib\\site-packages\\statsmodels\\tsa\\statespace\\varmax.py:374: UserWarning: Non-stationary starting autoregressive parameters found. Using zeros as starting parameters.\n",
      "  warn('Non-stationary starting autoregressive parameters'\n",
      "c:\\Users\\ayush\\anaconda3\\lib\\site-packages\\statsmodels\\base\\model.py:604: ConvergenceWarning: Maximum Likelihood optimization failed to converge. Check mle_retvals\n",
      "  warnings.warn(\"Maximum Likelihood optimization failed to \"\n",
      "c:\\Users\\ayush\\anaconda3\\lib\\site-packages\\statsmodels\\tsa\\statespace\\varmax.py:161: EstimationWarning: Estimation of VARMA(p,q) models is not generically robust, due especially to identification issues.\n",
      "  warn('Estimation of VARMA(p,q) models is not generically robust,'\n",
      "c:\\Users\\ayush\\anaconda3\\lib\\site-packages\\statsmodels\\tsa\\base\\tsa_model.py:471: ValueWarning: No frequency information was provided, so inferred frequency MS will be used.\n",
      "  self._init_dates(dates, freq)\n"
     ]
    },
    {
     "name": "stdout",
     "output_type": "stream",
     "text": [
      "\n",
      "AIC: 1312.7349072558995\n",
      "BIC: 1481.2082000630876\n",
      "HQIC: 1379.8046240176834\n",
      "------------------------\n",
      "Testing Order: p = 4, q = 1\n"
     ]
    },
    {
     "name": "stderr",
     "output_type": "stream",
     "text": [
      "c:\\Users\\ayush\\anaconda3\\lib\\site-packages\\statsmodels\\base\\model.py:604: ConvergenceWarning: Maximum Likelihood optimization failed to converge. Check mle_retvals\n",
      "  warnings.warn(\"Maximum Likelihood optimization failed to \"\n"
     ]
    },
    {
     "name": "stdout",
     "output_type": "stream",
     "text": [
      "\n",
      "AIC: 1304.3012915358415\n",
      "BIC: 1509.2012422472865\n",
      "HQIC: 1385.8725686785517\n",
      "------------------------\n",
      "Testing Order: p = 4, q = 2\n"
     ]
    },
    {
     "name": "stderr",
     "output_type": "stream",
     "text": [
      "c:\\Users\\ayush\\anaconda3\\lib\\site-packages\\statsmodels\\tsa\\statespace\\varmax.py:161: EstimationWarning: Estimation of VARMA(p,q) models is not generically robust, due especially to identification issues.\n",
      "  warn('Estimation of VARMA(p,q) models is not generically robust,'\n",
      "c:\\Users\\ayush\\anaconda3\\lib\\site-packages\\statsmodels\\tsa\\base\\tsa_model.py:471: ValueWarning: No frequency information was provided, so inferred frequency MS will be used.\n",
      "  self._init_dates(dates, freq)\n",
      "c:\\Users\\ayush\\anaconda3\\lib\\site-packages\\statsmodels\\base\\model.py:604: ConvergenceWarning: Maximum Likelihood optimization failed to converge. Check mle_retvals\n",
      "  warnings.warn(\"Maximum Likelihood optimization failed to \"\n"
     ]
    },
    {
     "name": "stdout",
     "output_type": "stream",
     "text": [
      "\n",
      "AIC: 1330.4791374157357\n",
      "BIC: 1571.8057460314376\n",
      "HQIC: 1426.551974939372\n",
      "------------------------\n",
      "Testing Order: p = 4, q = 3\n"
     ]
    },
    {
     "name": "stderr",
     "output_type": "stream",
     "text": [
      "c:\\Users\\ayush\\anaconda3\\lib\\site-packages\\statsmodels\\tsa\\statespace\\varmax.py:161: EstimationWarning: Estimation of VARMA(p,q) models is not generically robust, due especially to identification issues.\n",
      "  warn('Estimation of VARMA(p,q) models is not generically robust,'\n",
      "c:\\Users\\ayush\\anaconda3\\lib\\site-packages\\statsmodels\\tsa\\base\\tsa_model.py:471: ValueWarning: No frequency information was provided, so inferred frequency MS will be used.\n",
      "  self._init_dates(dates, freq)\n",
      "c:\\Users\\ayush\\anaconda3\\lib\\site-packages\\statsmodels\\base\\model.py:604: ConvergenceWarning: Maximum Likelihood optimization failed to converge. Check mle_retvals\n",
      "  warnings.warn(\"Maximum Likelihood optimization failed to \"\n"
     ]
    },
    {
     "name": "stdout",
     "output_type": "stream",
     "text": [
      "\n",
      "AIC: 1327.7412969627558\n",
      "BIC: 1605.4945634827145\n",
      "HQIC: 1438.3156948673184\n",
      "------------------------\n",
      "Testing Order: p = 4, q = 4\n"
     ]
    },
    {
     "name": "stderr",
     "output_type": "stream",
     "text": [
      "c:\\Users\\ayush\\anaconda3\\lib\\site-packages\\statsmodels\\tsa\\statespace\\varmax.py:161: EstimationWarning: Estimation of VARMA(p,q) models is not generically robust, due especially to identification issues.\n",
      "  warn('Estimation of VARMA(p,q) models is not generically robust,'\n",
      "c:\\Users\\ayush\\anaconda3\\lib\\site-packages\\statsmodels\\tsa\\base\\tsa_model.py:471: ValueWarning: No frequency information was provided, so inferred frequency MS will be used.\n",
      "  self._init_dates(dates, freq)\n",
      "c:\\Users\\ayush\\anaconda3\\lib\\site-packages\\statsmodels\\base\\model.py:604: ConvergenceWarning: Maximum Likelihood optimization failed to converge. Check mle_retvals\n",
      "  warnings.warn(\"Maximum Likelihood optimization failed to \"\n"
     ]
    },
    {
     "name": "stdout",
     "output_type": "stream",
     "text": [
      "\n",
      "AIC: 1380.5645088353858\n",
      "BIC: 1694.7444332596015\n",
      "HQIC: 1505.6404671208747\n",
      "------------------------\n"
     ]
    }
   ],
   "source": [
    "find_params()"
   ]
  },
  {
   "cell_type": "code",
   "execution_count": 148,
   "metadata": {},
   "outputs": [
    {
     "name": "stderr",
     "output_type": "stream",
     "text": [
      "c:\\Users\\ayush\\anaconda3\\lib\\site-packages\\statsmodels\\tsa\\statespace\\varmax.py:161: EstimationWarning: Estimation of VARMA(p,q) models is not generically robust, due especially to identification issues.\n",
      "  warn('Estimation of VARMA(p,q) models is not generically robust,'\n",
      "c:\\Users\\ayush\\anaconda3\\lib\\site-packages\\statsmodels\\tsa\\base\\tsa_model.py:471: ValueWarning: No frequency information was provided, so inferred frequency MS will be used.\n",
      "  self._init_dates(dates, freq)\n",
      "c:\\Users\\ayush\\anaconda3\\lib\\site-packages\\statsmodels\\base\\model.py:604: ConvergenceWarning: Maximum Likelihood optimization failed to converge. Check mle_retvals\n",
      "  warnings.warn(\"Maximum Likelihood optimization failed to \"\n"
     ]
    },
    {
     "data": {
      "text/html": [
       "<table class=\"simpletable\">\n",
       "<caption>Statespace Model Results</caption>\n",
       "<tr>\n",
       "  <th>Dep. Variable:</th>   <td>['aqi', 'SO2', 'NOx', 'PM10']</td> <th>  No. Observations:  </th>    <td>72</td>   \n",
       "</tr>\n",
       "<tr>\n",
       "  <th>Model:</th>                    <td>VARMA(1,2)</td>           <th>  Log Likelihood     </th> <td>-578.063</td>\n",
       "</tr>\n",
       "<tr>\n",
       "  <th></th>                          <td>+ intercept</td>          <th>  AIC                </th> <td>1280.126</td>\n",
       "</tr>\n",
       "<tr>\n",
       "  <th>Date:</th>                  <td>Fri, 03 Mar 2023</td>        <th>  BIC                </th> <td>1421.280</td>\n",
       "</tr>\n",
       "<tr>\n",
       "  <th>Time:</th>                      <td>10:48:29</td>            <th>  HQIC               </th> <td>1336.320</td>\n",
       "</tr>\n",
       "<tr>\n",
       "  <th>Sample:</th>                   <td>01-01-2017</td>           <th>                     </th>     <td> </td>   \n",
       "</tr>\n",
       "<tr>\n",
       "  <th></th>                         <td>- 12-01-2022</td>          <th>                     </th>     <td> </td>   \n",
       "</tr>\n",
       "<tr>\n",
       "  <th>Covariance Type:</th>              <td>opg</td>              <th>                     </th>     <td> </td>   \n",
       "</tr>\n",
       "</table>\n",
       "<table class=\"simpletable\">\n",
       "<tr>\n",
       "  <th>Ljung-Box (L1) (Q):</th>     <td>0.52, 0.23, 0.01, 0.26</td> <th>  Jarque-Bera (JB):  </th>  <td>25.32, 1.51, 2.81, 2.93</td> \n",
       "</tr>\n",
       "<tr>\n",
       "  <th>Prob(Q):</th>                <td>0.47, 0.63, 0.92, 0.61</td> <th>  Prob(JB):          </th>  <td>0.00, 0.47, 0.25, 0.23</td>  \n",
       "</tr>\n",
       "<tr>\n",
       "  <th>Heteroskedasticity (H):</th> <td>2.60, 4.70, 2.20, 0.83</td> <th>  Skew:              </th> <td>-0.94, 0.36, -0.45, -0.21</td>\n",
       "</tr>\n",
       "<tr>\n",
       "  <th>Prob(H) (two-sided):</th>    <td>0.02, 0.00, 0.06, 0.66</td> <th>  Kurtosis:          </th>  <td>5.21, 3.01, 3.35, 3.90</td>  \n",
       "</tr>\n",
       "</table>\n",
       "<table class=\"simpletable\">\n",
       "<caption>Results for equation aqi</caption>\n",
       "<tr>\n",
       "       <td></td>         <th>coef</th>     <th>std err</th>      <th>z</th>      <th>P>|z|</th>  <th>[0.025</th>    <th>0.975]</th>  \n",
       "</tr>\n",
       "<tr>\n",
       "  <th>intercept</th>  <td>   42.7348</td> <td>  174.031</td> <td>    0.246</td> <td> 0.806</td> <td> -298.359</td> <td>  383.829</td>\n",
       "</tr>\n",
       "<tr>\n",
       "  <th>L1.aqi</th>     <td>    0.8244</td> <td>    1.910</td> <td>    0.432</td> <td> 0.666</td> <td>   -2.918</td> <td>    4.567</td>\n",
       "</tr>\n",
       "<tr>\n",
       "  <th>L1.SO2</th>     <td>   -1.1399</td> <td>   12.516</td> <td>   -0.091</td> <td> 0.927</td> <td>  -25.671</td> <td>   23.391</td>\n",
       "</tr>\n",
       "<tr>\n",
       "  <th>L1.NOx</th>     <td>    0.0382</td> <td>    1.950</td> <td>    0.020</td> <td> 0.984</td> <td>   -3.784</td> <td>    3.861</td>\n",
       "</tr>\n",
       "<tr>\n",
       "  <th>L1.PM10</th>    <td>   -0.4385</td> <td>    2.863</td> <td>   -0.153</td> <td> 0.878</td> <td>   -6.050</td> <td>    5.174</td>\n",
       "</tr>\n",
       "<tr>\n",
       "  <th>L1.e(aqi)</th>  <td>   -0.4095</td> <td>    3.208</td> <td>   -0.128</td> <td> 0.898</td> <td>   -6.697</td> <td>    5.878</td>\n",
       "</tr>\n",
       "<tr>\n",
       "  <th>L1.e(SO2)</th>  <td>    0.0057</td> <td>   13.848</td> <td>    0.000</td> <td> 1.000</td> <td>  -27.136</td> <td>   27.147</td>\n",
       "</tr>\n",
       "<tr>\n",
       "  <th>L1.e(NOx)</th>  <td>    1.0023</td> <td>    5.304</td> <td>    0.189</td> <td> 0.850</td> <td>   -9.393</td> <td>   11.398</td>\n",
       "</tr>\n",
       "<tr>\n",
       "  <th>L1.e(PM10)</th> <td>    0.3790</td> <td>    4.024</td> <td>    0.094</td> <td> 0.925</td> <td>   -7.508</td> <td>    8.266</td>\n",
       "</tr>\n",
       "<tr>\n",
       "  <th>L2.e(aqi)</th>  <td>   -0.1744</td> <td>    1.684</td> <td>   -0.104</td> <td> 0.918</td> <td>   -3.475</td> <td>    3.126</td>\n",
       "</tr>\n",
       "<tr>\n",
       "  <th>L2.e(SO2)</th>  <td>   -2.1211</td> <td>   22.090</td> <td>   -0.096</td> <td> 0.924</td> <td>  -45.417</td> <td>   41.175</td>\n",
       "</tr>\n",
       "<tr>\n",
       "  <th>L2.e(NOx)</th>  <td>    0.3272</td> <td>    4.946</td> <td>    0.066</td> <td> 0.947</td> <td>   -9.366</td> <td>   10.021</td>\n",
       "</tr>\n",
       "<tr>\n",
       "  <th>L2.e(PM10)</th> <td>   -0.0499</td> <td>    2.352</td> <td>   -0.021</td> <td> 0.983</td> <td>   -4.659</td> <td>    4.559</td>\n",
       "</tr>\n",
       "</table>\n",
       "<table class=\"simpletable\">\n",
       "<caption>Results for equation SO2</caption>\n",
       "<tr>\n",
       "       <td></td>         <th>coef</th>     <th>std err</th>      <th>z</th>      <th>P>|z|</th>  <th>[0.025</th>    <th>0.975]</th>  \n",
       "</tr>\n",
       "<tr>\n",
       "  <th>intercept</th>  <td>    3.0305</td> <td>   11.811</td> <td>    0.257</td> <td> 0.797</td> <td>  -20.118</td> <td>   26.179</td>\n",
       "</tr>\n",
       "<tr>\n",
       "  <th>L1.aqi</th>     <td>    0.0107</td> <td>    0.182</td> <td>    0.059</td> <td> 0.953</td> <td>   -0.347</td> <td>    0.368</td>\n",
       "</tr>\n",
       "<tr>\n",
       "  <th>L1.SO2</th>     <td>    0.7389</td> <td>    0.670</td> <td>    1.103</td> <td> 0.270</td> <td>   -0.574</td> <td>    2.052</td>\n",
       "</tr>\n",
       "<tr>\n",
       "  <th>L1.NOx</th>     <td>   -0.0011</td> <td>    0.192</td> <td>   -0.006</td> <td> 0.995</td> <td>   -0.378</td> <td>    0.375</td>\n",
       "</tr>\n",
       "<tr>\n",
       "  <th>L1.PM10</th>    <td>   -0.0357</td> <td>    0.233</td> <td>   -0.153</td> <td> 0.879</td> <td>   -0.493</td> <td>    0.422</td>\n",
       "</tr>\n",
       "<tr>\n",
       "  <th>L1.e(aqi)</th>  <td>   -0.0134</td> <td>    0.308</td> <td>   -0.043</td> <td> 0.965</td> <td>   -0.617</td> <td>    0.590</td>\n",
       "</tr>\n",
       "<tr>\n",
       "  <th>L1.e(SO2)</th>  <td>   -0.1085</td> <td>    0.924</td> <td>   -0.117</td> <td> 0.906</td> <td>   -1.919</td> <td>    1.702</td>\n",
       "</tr>\n",
       "<tr>\n",
       "  <th>L1.e(NOx)</th>  <td>   -0.0783</td> <td>    0.301</td> <td>   -0.260</td> <td> 0.795</td> <td>   -0.668</td> <td>    0.511</td>\n",
       "</tr>\n",
       "<tr>\n",
       "  <th>L1.e(PM10)</th> <td>    0.0145</td> <td>    0.433</td> <td>    0.034</td> <td> 0.973</td> <td>   -0.833</td> <td>    0.862</td>\n",
       "</tr>\n",
       "<tr>\n",
       "  <th>L2.e(aqi)</th>  <td>   -0.0169</td> <td>    0.091</td> <td>   -0.185</td> <td> 0.853</td> <td>   -0.195</td> <td>    0.162</td>\n",
       "</tr>\n",
       "<tr>\n",
       "  <th>L2.e(SO2)</th>  <td>   -0.0489</td> <td>    0.794</td> <td>   -0.062</td> <td> 0.951</td> <td>   -1.606</td> <td>    1.508</td>\n",
       "</tr>\n",
       "<tr>\n",
       "  <th>L2.e(NOx)</th>  <td>    0.0937</td> <td>    0.310</td> <td>    0.303</td> <td> 0.762</td> <td>   -0.513</td> <td>    0.701</td>\n",
       "</tr>\n",
       "<tr>\n",
       "  <th>L2.e(PM10)</th> <td>   -0.0084</td> <td>    0.122</td> <td>   -0.069</td> <td> 0.945</td> <td>   -0.248</td> <td>    0.231</td>\n",
       "</tr>\n",
       "</table>\n",
       "<table class=\"simpletable\">\n",
       "<caption>Results for equation NOx</caption>\n",
       "<tr>\n",
       "       <td></td>         <th>coef</th>     <th>std err</th>      <th>z</th>      <th>P>|z|</th>  <th>[0.025</th>    <th>0.975]</th>  \n",
       "</tr>\n",
       "<tr>\n",
       "  <th>intercept</th>  <td>   11.1164</td> <td>   30.267</td> <td>    0.367</td> <td> 0.713</td> <td>  -48.206</td> <td>   70.439</td>\n",
       "</tr>\n",
       "<tr>\n",
       "  <th>L1.aqi</th>     <td>    0.0516</td> <td>    0.405</td> <td>    0.127</td> <td> 0.899</td> <td>   -0.742</td> <td>    0.845</td>\n",
       "</tr>\n",
       "<tr>\n",
       "  <th>L1.SO2</th>     <td>   -0.7437</td> <td>    1.671</td> <td>   -0.445</td> <td> 0.656</td> <td>   -4.018</td> <td>    2.531</td>\n",
       "</tr>\n",
       "<tr>\n",
       "  <th>L1.NOx</th>     <td>    0.9351</td> <td>    0.480</td> <td>    1.946</td> <td> 0.052</td> <td>   -0.006</td> <td>    1.877</td>\n",
       "</tr>\n",
       "<tr>\n",
       "  <th>L1.PM10</th>    <td>   -0.1405</td> <td>    0.391</td> <td>   -0.359</td> <td> 0.719</td> <td>   -0.907</td> <td>    0.626</td>\n",
       "</tr>\n",
       "<tr>\n",
       "  <th>L1.e(aqi)</th>  <td>   -0.0750</td> <td>    0.581</td> <td>   -0.129</td> <td> 0.897</td> <td>   -1.214</td> <td>    1.064</td>\n",
       "</tr>\n",
       "<tr>\n",
       "  <th>L1.e(SO2)</th>  <td>    1.2483</td> <td>    1.964</td> <td>    0.635</td> <td> 0.525</td> <td>   -2.602</td> <td>    5.099</td>\n",
       "</tr>\n",
       "<tr>\n",
       "  <th>L1.e(NOx)</th>  <td>   -0.5098</td> <td>    0.826</td> <td>   -0.617</td> <td> 0.537</td> <td>   -2.129</td> <td>    1.109</td>\n",
       "</tr>\n",
       "<tr>\n",
       "  <th>L1.e(PM10)</th> <td>    0.1038</td> <td>    0.946</td> <td>    0.110</td> <td> 0.913</td> <td>   -1.751</td> <td>    1.959</td>\n",
       "</tr>\n",
       "<tr>\n",
       "  <th>L2.e(aqi)</th>  <td>   -0.0750</td> <td>    0.260</td> <td>   -0.288</td> <td> 0.773</td> <td>   -0.584</td> <td>    0.435</td>\n",
       "</tr>\n",
       "<tr>\n",
       "  <th>L2.e(SO2)</th>  <td>   -0.2704</td> <td>    2.128</td> <td>   -0.127</td> <td> 0.899</td> <td>   -4.441</td> <td>    3.900</td>\n",
       "</tr>\n",
       "<tr>\n",
       "  <th>L2.e(NOx)</th>  <td>    0.1040</td> <td>    0.806</td> <td>    0.129</td> <td> 0.897</td> <td>   -1.476</td> <td>    1.684</td>\n",
       "</tr>\n",
       "<tr>\n",
       "  <th>L2.e(PM10)</th> <td>    0.0400</td> <td>    0.255</td> <td>    0.157</td> <td> 0.875</td> <td>   -0.460</td> <td>    0.540</td>\n",
       "</tr>\n",
       "</table>\n",
       "<table class=\"simpletable\">\n",
       "<caption>Results for equation PM10</caption>\n",
       "<tr>\n",
       "       <td></td>         <th>coef</th>     <th>std err</th>      <th>z</th>      <th>P>|z|</th>  <th>[0.025</th>    <th>0.975]</th>  \n",
       "</tr>\n",
       "<tr>\n",
       "  <th>intercept</th>  <td>   35.0641</td> <td>  141.069</td> <td>    0.249</td> <td> 0.804</td> <td> -241.427</td> <td>  311.555</td>\n",
       "</tr>\n",
       "<tr>\n",
       "  <th>L1.aqi</th>     <td>    0.1098</td> <td>    0.697</td> <td>    0.158</td> <td> 0.875</td> <td>   -1.257</td> <td>    1.477</td>\n",
       "</tr>\n",
       "<tr>\n",
       "  <th>L1.SO2</th>     <td>   -1.8847</td> <td>    9.828</td> <td>   -0.192</td> <td> 0.848</td> <td>  -21.148</td> <td>   17.379</td>\n",
       "</tr>\n",
       "<tr>\n",
       "  <th>L1.NOx</th>     <td>    0.2517</td> <td>    1.769</td> <td>    0.142</td> <td> 0.887</td> <td>   -3.215</td> <td>    3.718</td>\n",
       "</tr>\n",
       "<tr>\n",
       "  <th>L1.PM10</th>    <td>    0.3884</td> <td>    1.759</td> <td>    0.221</td> <td> 0.825</td> <td>   -3.059</td> <td>    3.836</td>\n",
       "</tr>\n",
       "<tr>\n",
       "  <th>L1.e(aqi)</th>  <td>    0.0795</td> <td>    1.546</td> <td>    0.051</td> <td> 0.959</td> <td>   -2.951</td> <td>    3.110</td>\n",
       "</tr>\n",
       "<tr>\n",
       "  <th>L1.e(SO2)</th>  <td>    1.3611</td> <td>    8.808</td> <td>    0.155</td> <td> 0.877</td> <td>  -15.903</td> <td>   18.625</td>\n",
       "</tr>\n",
       "<tr>\n",
       "  <th>L1.e(NOx)</th>  <td>    0.4751</td> <td>    2.986</td> <td>    0.159</td> <td> 0.874</td> <td>   -5.378</td> <td>    6.328</td>\n",
       "</tr>\n",
       "<tr>\n",
       "  <th>L1.e(PM10)</th> <td>   -0.3772</td> <td>    3.152</td> <td>   -0.120</td> <td> 0.905</td> <td>   -6.556</td> <td>    5.801</td>\n",
       "</tr>\n",
       "<tr>\n",
       "  <th>L2.e(aqi)</th>  <td>    0.2495</td> <td>    1.416</td> <td>    0.176</td> <td> 0.860</td> <td>   -2.525</td> <td>    3.024</td>\n",
       "</tr>\n",
       "<tr>\n",
       "  <th>L2.e(SO2)</th>  <td>   -0.0078</td> <td>   14.048</td> <td>   -0.001</td> <td> 1.000</td> <td>  -27.541</td> <td>   27.525</td>\n",
       "</tr>\n",
       "<tr>\n",
       "  <th>L2.e(NOx)</th>  <td>   -0.0407</td> <td>    4.337</td> <td>   -0.009</td> <td> 0.993</td> <td>   -8.541</td> <td>    8.459</td>\n",
       "</tr>\n",
       "<tr>\n",
       "  <th>L2.e(PM10)</th> <td>   -0.4832</td> <td>    1.309</td> <td>   -0.369</td> <td> 0.712</td> <td>   -3.048</td> <td>    2.082</td>\n",
       "</tr>\n",
       "</table>\n",
       "<table class=\"simpletable\">\n",
       "<caption>Error covariance matrix</caption>\n",
       "<tr>\n",
       "          <td></td>             <th>coef</th>     <th>std err</th>      <th>z</th>      <th>P>|z|</th>  <th>[0.025</th>    <th>0.975]</th>  \n",
       "</tr>\n",
       "<tr>\n",
       "  <th>sqrt.var.aqi</th>      <td>    6.5133</td> <td>    3.329</td> <td>    1.957</td> <td> 0.050</td> <td>   -0.011</td> <td>   13.037</td>\n",
       "</tr>\n",
       "<tr>\n",
       "  <th>sqrt.cov.aqi.SO2</th>  <td>    0.0131</td> <td>    0.291</td> <td>    0.045</td> <td> 0.964</td> <td>   -0.557</td> <td>    0.583</td>\n",
       "</tr>\n",
       "<tr>\n",
       "  <th>sqrt.var.SO2</th>      <td>    0.4848</td> <td>    0.194</td> <td>    2.495</td> <td> 0.013</td> <td>    0.104</td> <td>    0.866</td>\n",
       "</tr>\n",
       "<tr>\n",
       "  <th>sqrt.cov.aqi.NOx</th>  <td>    0.2616</td> <td>    0.591</td> <td>    0.442</td> <td> 0.658</td> <td>   -0.898</td> <td>    1.421</td>\n",
       "</tr>\n",
       "<tr>\n",
       "  <th>sqrt.cov.SO2.NOx</th>  <td>    0.4759</td> <td>    1.026</td> <td>    0.464</td> <td> 0.643</td> <td>   -1.535</td> <td>    2.487</td>\n",
       "</tr>\n",
       "<tr>\n",
       "  <th>sqrt.var.NOx</th>      <td>    0.9884</td> <td>    0.541</td> <td>    1.827</td> <td> 0.068</td> <td>   -0.072</td> <td>    2.049</td>\n",
       "</tr>\n",
       "<tr>\n",
       "  <th>sqrt.cov.aqi.PM10</th> <td>    3.1038</td> <td>    2.559</td> <td>    1.213</td> <td> 0.225</td> <td>   -1.911</td> <td>    8.119</td>\n",
       "</tr>\n",
       "<tr>\n",
       "  <th>sqrt.cov.SO2.PM10</th> <td>    0.2353</td> <td>    3.788</td> <td>    0.062</td> <td> 0.950</td> <td>   -7.189</td> <td>    7.660</td>\n",
       "</tr>\n",
       "<tr>\n",
       "  <th>sqrt.cov.NOx.PM10</th> <td>   -0.4614</td> <td>    4.402</td> <td>   -0.105</td> <td> 0.917</td> <td>   -9.089</td> <td>    8.166</td>\n",
       "</tr>\n",
       "<tr>\n",
       "  <th>sqrt.var.PM10</th>     <td>    3.1117</td> <td>    2.094</td> <td>    1.486</td> <td> 0.137</td> <td>   -0.992</td> <td>    7.215</td>\n",
       "</tr>\n",
       "</table><br/><br/>Warnings:<br/>[1] Covariance matrix calculated using the outer product of gradients (complex-step)."
      ],
      "text/plain": [
       "<class 'statsmodels.iolib.summary.Summary'>\n",
       "\"\"\"\n",
       "                                 Statespace Model Results                                \n",
       "=========================================================================================\n",
       "Dep. Variable:     ['aqi', 'SO2', 'NOx', 'PM10']   No. Observations:                   72\n",
       "Model:                                VARMA(1,2)   Log Likelihood                -578.063\n",
       "                                     + intercept   AIC                           1280.126\n",
       "Date:                           Fri, 03 Mar 2023   BIC                           1421.280\n",
       "Time:                                   10:48:29   HQIC                          1336.320\n",
       "Sample:                               01-01-2017                                         \n",
       "                                    - 12-01-2022                                         \n",
       "Covariance Type:                             opg                                         \n",
       "==============================================================================================\n",
       "Ljung-Box (L1) (Q):     0.52, 0.23, 0.01, 0.26   Jarque-Bera (JB):     25.32, 1.51, 2.81, 2.93\n",
       "Prob(Q):                0.47, 0.63, 0.92, 0.61   Prob(JB):              0.00, 0.47, 0.25, 0.23\n",
       "Heteroskedasticity (H): 2.60, 4.70, 2.20, 0.83   Skew:               -0.94, 0.36, -0.45, -0.21\n",
       "Prob(H) (two-sided):    0.02, 0.00, 0.06, 0.66   Kurtosis:              5.21, 3.01, 3.35, 3.90\n",
       "                           Results for equation aqi                           \n",
       "==============================================================================\n",
       "                 coef    std err          z      P>|z|      [0.025      0.975]\n",
       "------------------------------------------------------------------------------\n",
       "intercept     42.7348    174.031      0.246      0.806    -298.359     383.829\n",
       "L1.aqi         0.8244      1.910      0.432      0.666      -2.918       4.567\n",
       "L1.SO2        -1.1399     12.516     -0.091      0.927     -25.671      23.391\n",
       "L1.NOx         0.0382      1.950      0.020      0.984      -3.784       3.861\n",
       "L1.PM10       -0.4385      2.863     -0.153      0.878      -6.050       5.174\n",
       "L1.e(aqi)     -0.4095      3.208     -0.128      0.898      -6.697       5.878\n",
       "L1.e(SO2)      0.0057     13.848      0.000      1.000     -27.136      27.147\n",
       "L1.e(NOx)      1.0023      5.304      0.189      0.850      -9.393      11.398\n",
       "L1.e(PM10)     0.3790      4.024      0.094      0.925      -7.508       8.266\n",
       "L2.e(aqi)     -0.1744      1.684     -0.104      0.918      -3.475       3.126\n",
       "L2.e(SO2)     -2.1211     22.090     -0.096      0.924     -45.417      41.175\n",
       "L2.e(NOx)      0.3272      4.946      0.066      0.947      -9.366      10.021\n",
       "L2.e(PM10)    -0.0499      2.352     -0.021      0.983      -4.659       4.559\n",
       "                           Results for equation SO2                           \n",
       "==============================================================================\n",
       "                 coef    std err          z      P>|z|      [0.025      0.975]\n",
       "------------------------------------------------------------------------------\n",
       "intercept      3.0305     11.811      0.257      0.797     -20.118      26.179\n",
       "L1.aqi         0.0107      0.182      0.059      0.953      -0.347       0.368\n",
       "L1.SO2         0.7389      0.670      1.103      0.270      -0.574       2.052\n",
       "L1.NOx        -0.0011      0.192     -0.006      0.995      -0.378       0.375\n",
       "L1.PM10       -0.0357      0.233     -0.153      0.879      -0.493       0.422\n",
       "L1.e(aqi)     -0.0134      0.308     -0.043      0.965      -0.617       0.590\n",
       "L1.e(SO2)     -0.1085      0.924     -0.117      0.906      -1.919       1.702\n",
       "L1.e(NOx)     -0.0783      0.301     -0.260      0.795      -0.668       0.511\n",
       "L1.e(PM10)     0.0145      0.433      0.034      0.973      -0.833       0.862\n",
       "L2.e(aqi)     -0.0169      0.091     -0.185      0.853      -0.195       0.162\n",
       "L2.e(SO2)     -0.0489      0.794     -0.062      0.951      -1.606       1.508\n",
       "L2.e(NOx)      0.0937      0.310      0.303      0.762      -0.513       0.701\n",
       "L2.e(PM10)    -0.0084      0.122     -0.069      0.945      -0.248       0.231\n",
       "                           Results for equation NOx                           \n",
       "==============================================================================\n",
       "                 coef    std err          z      P>|z|      [0.025      0.975]\n",
       "------------------------------------------------------------------------------\n",
       "intercept     11.1164     30.267      0.367      0.713     -48.206      70.439\n",
       "L1.aqi         0.0516      0.405      0.127      0.899      -0.742       0.845\n",
       "L1.SO2        -0.7437      1.671     -0.445      0.656      -4.018       2.531\n",
       "L1.NOx         0.9351      0.480      1.946      0.052      -0.006       1.877\n",
       "L1.PM10       -0.1405      0.391     -0.359      0.719      -0.907       0.626\n",
       "L1.e(aqi)     -0.0750      0.581     -0.129      0.897      -1.214       1.064\n",
       "L1.e(SO2)      1.2483      1.964      0.635      0.525      -2.602       5.099\n",
       "L1.e(NOx)     -0.5098      0.826     -0.617      0.537      -2.129       1.109\n",
       "L1.e(PM10)     0.1038      0.946      0.110      0.913      -1.751       1.959\n",
       "L2.e(aqi)     -0.0750      0.260     -0.288      0.773      -0.584       0.435\n",
       "L2.e(SO2)     -0.2704      2.128     -0.127      0.899      -4.441       3.900\n",
       "L2.e(NOx)      0.1040      0.806      0.129      0.897      -1.476       1.684\n",
       "L2.e(PM10)     0.0400      0.255      0.157      0.875      -0.460       0.540\n",
       "                          Results for equation PM10                           \n",
       "==============================================================================\n",
       "                 coef    std err          z      P>|z|      [0.025      0.975]\n",
       "------------------------------------------------------------------------------\n",
       "intercept     35.0641    141.069      0.249      0.804    -241.427     311.555\n",
       "L1.aqi         0.1098      0.697      0.158      0.875      -1.257       1.477\n",
       "L1.SO2        -1.8847      9.828     -0.192      0.848     -21.148      17.379\n",
       "L1.NOx         0.2517      1.769      0.142      0.887      -3.215       3.718\n",
       "L1.PM10        0.3884      1.759      0.221      0.825      -3.059       3.836\n",
       "L1.e(aqi)      0.0795      1.546      0.051      0.959      -2.951       3.110\n",
       "L1.e(SO2)      1.3611      8.808      0.155      0.877     -15.903      18.625\n",
       "L1.e(NOx)      0.4751      2.986      0.159      0.874      -5.378       6.328\n",
       "L1.e(PM10)    -0.3772      3.152     -0.120      0.905      -6.556       5.801\n",
       "L2.e(aqi)      0.2495      1.416      0.176      0.860      -2.525       3.024\n",
       "L2.e(SO2)     -0.0078     14.048     -0.001      1.000     -27.541      27.525\n",
       "L2.e(NOx)     -0.0407      4.337     -0.009      0.993      -8.541       8.459\n",
       "L2.e(PM10)    -0.4832      1.309     -0.369      0.712      -3.048       2.082\n",
       "                               Error covariance matrix                               \n",
       "=====================================================================================\n",
       "                        coef    std err          z      P>|z|      [0.025      0.975]\n",
       "-------------------------------------------------------------------------------------\n",
       "sqrt.var.aqi          6.5133      3.329      1.957      0.050      -0.011      13.037\n",
       "sqrt.cov.aqi.SO2      0.0131      0.291      0.045      0.964      -0.557       0.583\n",
       "sqrt.var.SO2          0.4848      0.194      2.495      0.013       0.104       0.866\n",
       "sqrt.cov.aqi.NOx      0.2616      0.591      0.442      0.658      -0.898       1.421\n",
       "sqrt.cov.SO2.NOx      0.4759      1.026      0.464      0.643      -1.535       2.487\n",
       "sqrt.var.NOx          0.9884      0.541      1.827      0.068      -0.072       2.049\n",
       "sqrt.cov.aqi.PM10     3.1038      2.559      1.213      0.225      -1.911       8.119\n",
       "sqrt.cov.SO2.PM10     0.2353      3.788      0.062      0.950      -7.189       7.660\n",
       "sqrt.cov.NOx.PM10    -0.4614      4.402     -0.105      0.917      -9.089       8.166\n",
       "sqrt.var.PM10         3.1117      2.094      1.486      0.137      -0.992       7.215\n",
       "=====================================================================================\n",
       "\n",
       "Warnings:\n",
       "[1] Covariance matrix calculated using the outer product of gradients (complex-step).\n",
       "\"\"\""
      ]
     },
     "execution_count": 148,
     "metadata": {},
     "output_type": "execute_result"
    }
   ],
   "source": [
    "varmax = sm.tsa.VARMAX(df[['aqi','SO2', 'NOx', 'PM10']], order=(1,2)).fit(maxiter=1000)\n",
    "varmax.summary()"
   ]
  },
  {
   "cell_type": "code",
   "execution_count": 149,
   "metadata": {},
   "outputs": [
    {
     "data": {
      "text/plain": [
       "<AxesSubplot:xlabel='date'>"
      ]
     },
     "execution_count": 149,
     "metadata": {},
     "output_type": "execute_result"
    },
    {
     "data": {
      "image/png": "[encoded data removed]",
      "text/plain": [
       "<Figure size 432x288 with 1 Axes>"
      ]
     },
     "metadata": {
      "needs_background": "light"
     },
     "output_type": "display_data"
    }
   ],
   "source": [
    "df['predict_varmax'] = list(varmax.predict(start=1, end=len(df))['aqi'])\n",
    "df[['aqi', 'predict_varmax']].plot()"
   ]
  },
  {
   "cell_type": "code",
   "execution_count": 150,
   "metadata": {},
   "outputs": [
    {
     "data": {
      "text/plain": [
       "<AxesSubplot:>"
      ]
     },
     "execution_count": 150,
     "metadata": {},
     "output_type": "execute_result"
    },
    {
     "data": {
      "image/png": "[encoded data removed]",
      "text/plain": [
       "<Figure size 432x288 with 1 Axes>"
      ]
     },
     "metadata": {
      "needs_background": "light"
     },
     "output_type": "display_data"
    }
   ],
   "source": [
    "varmax.forecast(12)['aqi'].plot()"
   ]
  },
  {
   "cell_type": "code",
   "execution_count": 151,
   "metadata": {},
   "outputs": [
    {
     "data": {
      "text/html": [
       "<div>\n",
       "<style scoped>\n",
       "    .dataframe tbody tr th:only-of-type {\n",
       "        vertical-align: middle;\n",
       "    }\n",
       "\n",
       "    .dataframe tbody tr th {\n",
       "        vertical-align: top;\n",
       "    }\n",
       "\n",
       "    .dataframe thead th {\n",
       "        text-align: right;\n",
       "    }\n",
       "</style>\n",
       "<table border=\"1\" class=\"dataframe\">\n",
       "  <thead>\n",
       "    <tr style=\"text-align: right;\">\n",
       "      <th></th>\n",
       "      <th>lb_stat</th>\n",
       "      <th>lb_pvalue</th>\n",
       "    </tr>\n",
       "  </thead>\n",
       "  <tbody>\n",
       "    <tr>\n",
       "      <th>10</th>\n",
       "      <td>6.292563</td>\n",
       "      <td>0.790114</td>\n",
       "    </tr>\n",
       "  </tbody>\n",
       "</table>\n",
       "</div>"
      ],
      "text/plain": [
       "     lb_stat  lb_pvalue\n",
       "10  6.292563   0.790114"
      ]
     },
     "execution_count": 151,
     "metadata": {},
     "output_type": "execute_result"
    }
   ],
   "source": [
    "sm.stats.acorr_ljungbox(arima.resid, lags=[10], return_df=True)\n"
   ]
  },
  {
   "cell_type": "code",
   "execution_count": 152,
   "metadata": {},
   "outputs": [
    {
     "name": "stdout",
     "output_type": "stream",
     "text": [
      "MAE:  3.5246617953479875\n",
      "RMSE:  4.7967236682102445\n"
     ]
    }
   ],
   "source": [
    "evaluate(df['predict_varmax'], df['aqi'])"
   ]
  },
  {
   "attachments": {},
   "cell_type": "markdown",
   "metadata": {},
   "source": [
    "### MLR - DO not use"
   ]
  },
  {
   "cell_type": "code",
   "execution_count": null,
   "metadata": {},
   "outputs": [],
   "source": [
    "split = int(len(df) * 0.85)\n",
    "# X = df[['SO2', 'NOx', 'PM10']]\n",
    "# y = df['aqi']\n",
    "df_train, df_test = df.iloc[:split], df.iloc[split:]\n",
    "# X_train, X_test = X.iloc[:split], X.iloc[split:]\n",
    "# y_train, y_test = y.iloc[:split], y.iloc[split:]\n"
   ]
  },
  {
   "cell_type": "code",
   "execution_count": 155,
   "metadata": {},
   "outputs": [
    {
     "data": {
      "text/html": [
       "<style>#sk-container-id-3 {color: black;background-color: white;}#sk-container-id-3 pre{padding: 0;}#sk-container-id-3 div.sk-toggleable {background-color: white;}#sk-container-id-3 label.sk-toggleable__label {cursor: pointer;display: block;width: 100%;margin-bottom: 0;padding: 0.3em;box-sizing: border-box;text-align: center;}#sk-container-id-3 label.sk-toggleable__label-arrow:before {content: \"▸\";float: left;margin-right: 0.25em;color: #696969;}#sk-container-id-3 label.sk-toggleable__label-arrow:hover:before {color: black;}#sk-container-id-3 div.sk-estimator:hover label.sk-toggleable__label-arrow:before {color: black;}#sk-container-id-3 div.sk-toggleable__content {max-height: 0;max-width: 0;overflow: hidden;text-align: left;background-color: #f0f8ff;}#sk-container-id-3 div.sk-toggleable__content pre {margin: 0.2em;color: black;border-radius: 0.25em;background-color: #f0f8ff;}#sk-container-id-3 input.sk-toggleable__control:checked~div.sk-toggleable__content {max-height: 200px;max-width: 100%;overflow: auto;}#sk-container-id-3 input.sk-toggleable__control:checked~label.sk-toggleable__label-arrow:before {content: \"▾\";}#sk-container-id-3 div.sk-estimator input.sk-toggleable__control:checked~label.sk-toggleable__label {background-color: #d4ebff;}#sk-container-id-3 div.sk-label input.sk-toggleable__control:checked~label.sk-toggleable__label {background-color: #d4ebff;}#sk-container-id-3 input.sk-hidden--visually {border: 0;clip: rect(1px 1px 1px 1px);clip: rect(1px, 1px, 1px, 1px);height: 1px;margin: -1px;overflow: hidden;padding: 0;position: absolute;width: 1px;}#sk-container-id-3 div.sk-estimator {font-family: monospace;background-color: #f0f8ff;border: 1px dotted black;border-radius: 0.25em;box-sizing: border-box;margin-bottom: 0.5em;}#sk-container-id-3 div.sk-estimator:hover {background-color: #d4ebff;}#sk-container-id-3 div.sk-parallel-item::after {content: \"\";width: 100%;border-bottom: 1px solid gray;flex-grow: 1;}#sk-container-id-3 div.sk-label:hover label.sk-toggleable__label {background-color: #d4ebff;}#sk-container-id-3 div.sk-serial::before {content: \"\";position: absolute;border-left: 1px solid gray;box-sizing: border-box;top: 0;bottom: 0;left: 50%;z-index: 0;}#sk-container-id-3 div.sk-serial {display: flex;flex-direction: column;align-items: center;background-color: white;padding-right: 0.2em;padding-left: 0.2em;position: relative;}#sk-container-id-3 div.sk-item {position: relative;z-index: 1;}#sk-container-id-3 div.sk-parallel {display: flex;align-items: stretch;justify-content: center;background-color: white;position: relative;}#sk-container-id-3 div.sk-item::before, #sk-container-id-3 div.sk-parallel-item::before {content: \"\";position: absolute;border-left: 1px solid gray;box-sizing: border-box;top: 0;bottom: 0;left: 50%;z-index: -1;}#sk-container-id-3 div.sk-parallel-item {display: flex;flex-direction: column;z-index: 1;position: relative;background-color: white;}#sk-container-id-3 div.sk-parallel-item:first-child::after {align-self: flex-end;width: 50%;}#sk-container-id-3 div.sk-parallel-item:last-child::after {align-self: flex-start;width: 50%;}#sk-container-id-3 div.sk-parallel-item:only-child::after {width: 0;}#sk-container-id-3 div.sk-dashed-wrapped {border: 1px dashed gray;margin: 0 0.4em 0.5em 0.4em;box-sizing: border-box;padding-bottom: 0.4em;background-color: white;}#sk-container-id-3 div.sk-label label {font-family: monospace;font-weight: bold;display: inline-block;line-height: 1.2em;}#sk-container-id-3 div.sk-label-container {text-align: center;}#sk-container-id-3 div.sk-container {/* jupyter's `normalize.less` sets `[hidden] { display: none; }` but bootstrap.min.css set `[hidden] { display: none !important; }` so we also need the `!important` here to be able to override the default hidden behavior on the sphinx rendered scikit-learn.org. See: https://github.com/scikit-learn/scikit-learn/issues/21755 */display: inline-block !important;position: relative;}#sk-container-id-3 div.sk-text-repr-fallback {display: none;}</style><div id=\"sk-container-id-3\" class=\"sk-top-container\"><div class=\"sk-text-repr-fallback\"><pre>LinearRegression()</pre><b>In a Jupyter environment, please rerun this cell to show the HTML representation or trust the notebook. <br />On GitHub, the HTML representation is unable to render, please try loading this page with nbviewer.org.</b></div><div class=\"sk-container\" hidden><div class=\"sk-item\"><div class=\"sk-estimator sk-toggleable\"><input class=\"sk-toggleable__control sk-hidden--visually\" id=\"sk-estimator-id-3\" type=\"checkbox\" checked><label for=\"sk-estimator-id-3\" class=\"sk-toggleable__label sk-toggleable__label-arrow\">LinearRegression</label><div class=\"sk-toggleable__content\"><pre>LinearRegression()</pre></div></div></div></div></div>"
      ],
      "text/plain": [
       "LinearRegression()"
      ]
     },
     "execution_count": 155,
     "metadata": {},
     "output_type": "execute_result"
    }
   ],
   "source": [
    "from sklearn import linear_model\n",
    "\n",
    "\n",
    "lr = linear_model.LinearRegression()\n",
    "lr.fit(df_train[['SO2','NOx', 'PM10']], df_train['aqi'])\n"
   ]
  },
  {
   "cell_type": "code",
   "execution_count": 171,
   "metadata": {},
   "outputs": [
    {
     "name": "stderr",
     "output_type": "stream",
     "text": [
      "C:\\Users\\ayush\\AppData\\Local\\Temp/ipykernel_31644/4169335337.py:1: SettingWithCopyWarning: \n",
      "A value is trying to be set on a copy of a slice from a DataFrame.\n",
      "Try using .loc[row_indexer,col_indexer] = value instead\n",
      "\n",
      "See the caveats in the documentation: https://pandas.pydata.org/pandas-docs/stable/user_guide/indexing.html#returning-a-view-versus-a-copy\n",
      "  df_test['predict_mlr'] = lr.predict(df_test[['SO2', 'NOx', 'PM10']])\n"
     ]
    },
    {
     "data": {
      "text/plain": [
       "<AxesSubplot:xlabel='date'>"
      ]
     },
     "execution_count": 171,
     "metadata": {},
     "output_type": "execute_result"
    },
    {
     "data": {
      "image/png": "[encoded data removed]",
      "text/plain": [
       "<Figure size 432x288 with 1 Axes>"
      ]
     },
     "metadata": {
      "needs_background": "light"
     },
     "output_type": "display_data"
    }
   ],
   "source": [
    "df_test['predict_mlr'] = lr.predict(df_test[['SO2', 'NOx', 'PM10']])\n",
    "\n",
    "df_test[['aqi', 'predict_mlr']].plot()"
   ]
  },
  {
   "cell_type": "code",
   "execution_count": 172,
   "metadata": {},
   "outputs": [
    {
     "name": "stdout",
     "output_type": "stream",
     "text": [
      "MAE:  3.4276123321752507\n",
      "RMSE:  3.9057551403600907\n"
     ]
    }
   ],
   "source": [
    "evaluate(df_test['predict_mlr'], df_test['aqi'])"
   ]
  },
  {
   "attachments": {},
   "cell_type": "markdown",
   "metadata": {},
   "source": [
    "### Holt Winter Model"
   ]
  },
  {
   "cell_type": "code",
   "execution_count": 507,
   "metadata": {},
   "outputs": [
    {
     "name": "stderr",
     "output_type": "stream",
     "text": [
      "c:\\Users\\ayush\\anaconda3\\lib\\site-packages\\statsmodels\\tsa\\base\\tsa_model.py:471: ValueWarning: No frequency information was provided, so inferred frequency MS will be used.\n",
      "  self._init_dates(dates, freq)\n"
     ]
    },
    {
     "data": {
      "text/plain": [
       "{'smoothing_level': 0.43148642186641106,\n",
       " 'smoothing_trend': nan,\n",
       " 'smoothing_seasonal': 0.1,\n",
       " 'damping_trend': nan,\n",
       " 'initial_level': 61.08540783457223,\n",
       " 'initial_trend': nan,\n",
       " 'initial_seasons': array([ 1.6224173 ,  1.17553908,  2.9715401 , -0.50545586, -4.9924536 ,\n",
       "        -2.8863986 , -1.45917466, -1.50628557, -1.69878264,  0.94976517,\n",
       "         1.44275655,  4.01478201]),\n",
       " 'use_boxcox': False,\n",
       " 'lamda': None,\n",
       " 'remove_bias': False}"
      ]
     },
     "execution_count": 507,
     "metadata": {},
     "output_type": "execute_result"
    }
   ],
   "source": [
    "holt_winter = sm.tsa.ExponentialSmoothing(df['aqi'], seasonal='add' ,seasonal_periods=12)\n",
    "x = holt_winter.fit(smoothing_seasonal=0.1, use_brute=True)\n",
    "x.params"
   ]
  },
  {
   "cell_type": "code",
   "execution_count": 508,
   "metadata": {},
   "outputs": [
    {
     "data": {
      "text/plain": [
       "<AxesSubplot:xlabel='date'>"
      ]
     },
     "execution_count": 508,
     "metadata": {},
     "output_type": "execute_result"
    },
    {
     "data": {
      "image/png": "[encoded data removed]",
      "text/plain": [
       "<Figure size 432x288 with 1 Axes>"
      ]
     },
     "metadata": {
      "needs_background": "light"
     },
     "output_type": "display_data"
    }
   ],
   "source": [
    "df['predict_holt'] = list(x.predict(1, len(df)))\n",
    "df[['aqi', 'predict_holt']].plot()"
   ]
  },
  {
   "cell_type": "code",
   "execution_count": 509,
   "metadata": {},
   "outputs": [
    {
     "data": {
      "text/plain": [
       "<AxesSubplot:>"
      ]
     },
     "execution_count": 509,
     "metadata": {},
     "output_type": "execute_result"
    },
    {
     "data": {
      "image/png": "[encoded data removed]",
      "text/plain": [
       "<Figure size 432x288 with 1 Axes>"
      ]
     },
     "metadata": {
      "needs_background": "light"
     },
     "output_type": "display_data"
    }
   ],
   "source": [
    "x.forecast(12).plot()\n"
   ]
  },
  {
   "cell_type": "code",
   "execution_count": 510,
   "metadata": {},
   "outputs": [
    {
     "data": {
      "text/html": [
       "<div>\n",
       "<style scoped>\n",
       "    .dataframe tbody tr th:only-of-type {\n",
       "        vertical-align: middle;\n",
       "    }\n",
       "\n",
       "    .dataframe tbody tr th {\n",
       "        vertical-align: top;\n",
       "    }\n",
       "\n",
       "    .dataframe thead th {\n",
       "        text-align: right;\n",
       "    }\n",
       "</style>\n",
       "<table border=\"1\" class=\"dataframe\">\n",
       "  <thead>\n",
       "    <tr style=\"text-align: right;\">\n",
       "      <th></th>\n",
       "      <th>lb_stat</th>\n",
       "      <th>lb_pvalue</th>\n",
       "    </tr>\n",
       "  </thead>\n",
       "  <tbody>\n",
       "    <tr>\n",
       "      <th>10</th>\n",
       "      <td>20.849347</td>\n",
       "      <td>0.022169</td>\n",
       "    </tr>\n",
       "  </tbody>\n",
       "</table>\n",
       "</div>"
      ],
      "text/plain": [
       "      lb_stat  lb_pvalue\n",
       "10  20.849347   0.022169"
      ]
     },
     "execution_count": 510,
     "metadata": {},
     "output_type": "execute_result"
    }
   ],
   "source": [
    "sm.stats.acorr_ljungbox(x.resid, lags=[10], return_df=True)"
   ]
  },
  {
   "cell_type": "code",
   "execution_count": 511,
   "metadata": {},
   "outputs": [
    {
     "name": "stdout",
     "output_type": "stream",
     "text": [
      "MAE:  3.3604045542574745\n",
      "RMSE:  4.4831566960310365\n"
     ]
    }
   ],
   "source": [
    "evaluate(df['predict_holt'], df['aqi'])"
   ]
  },
  {
   "attachments": {},
   "cell_type": "markdown",
   "metadata": {},
   "source": [
    "### Individual ARIMA"
   ]
  },
  {
   "attachments": {},
   "cell_type": "markdown",
   "metadata": {},
   "source": [
    "#### ARIMA on SO2"
   ]
  },
  {
   "cell_type": "code",
   "execution_count": 512,
   "metadata": {},
   "outputs": [
    {
     "name": "stdout",
     "output_type": "stream",
     "text": [
      "Performing stepwise search to minimize aic\n",
      " ARIMA(1,1,1)(1,0,1)[12] intercept   : AIC=122.844, Time=0.25 sec\n",
      " ARIMA(0,1,0)(0,0,0)[12] intercept   : AIC=126.902, Time=0.02 sec\n",
      " ARIMA(1,1,0)(1,0,0)[12] intercept   : AIC=127.197, Time=0.06 sec\n",
      " ARIMA(0,1,1)(0,0,1)[12] intercept   : AIC=124.487, Time=0.11 sec\n",
      " ARIMA(0,1,0)(0,0,0)[12]             : AIC=125.168, Time=0.02 sec\n",
      " ARIMA(1,1,1)(0,0,1)[12] intercept   : AIC=120.848, Time=0.19 sec\n",
      " ARIMA(1,1,1)(0,0,0)[12] intercept   : AIC=118.864, Time=0.06 sec\n",
      " ARIMA(1,1,1)(1,0,0)[12] intercept   : AIC=120.847, Time=0.18 sec\n",
      " ARIMA(0,1,1)(0,0,0)[12] intercept   : AIC=122.488, Time=0.03 sec\n",
      " ARIMA(1,1,0)(0,0,0)[12] intercept   : AIC=125.305, Time=0.03 sec\n",
      " ARIMA(2,1,1)(0,0,0)[12] intercept   : AIC=120.612, Time=0.07 sec\n",
      " ARIMA(1,1,2)(0,0,0)[12] intercept   : AIC=120.696, Time=0.07 sec\n",
      " ARIMA(0,1,2)(0,0,0)[12] intercept   : AIC=119.567, Time=0.05 sec\n",
      " ARIMA(2,1,0)(0,0,0)[12] intercept   : AIC=124.899, Time=0.03 sec\n",
      " ARIMA(2,1,2)(0,0,0)[12] intercept   : AIC=122.174, Time=0.12 sec\n",
      " ARIMA(1,1,1)(0,0,0)[12]             : AIC=118.908, Time=0.04 sec\n",
      "\n",
      "Best model:  ARIMA(1,1,1)(0,0,0)[12] intercept\n",
      "Total fit time: 1.360 seconds\n"
     ]
    }
   ],
   "source": [
    "params = pm.auto_arima(\n",
    "    y=df['SO2'],\n",
    "    start_p=1, start_q=1, m=12,\n",
    "    test='adf',\n",
    "    trace=True, error_action='ignore',\n",
    "    supress_warnings=True\n",
    ")\n"
   ]
  },
  {
   "cell_type": "code",
   "execution_count": 513,
   "metadata": {},
   "outputs": [
    {
     "name": "stderr",
     "output_type": "stream",
     "text": [
      "c:\\Users\\ayush\\anaconda3\\lib\\site-packages\\statsmodels\\tsa\\base\\tsa_model.py:471: ValueWarning: No frequency information was provided, so inferred frequency MS will be used.\n",
      "  self._init_dates(dates, freq)\n",
      "c:\\Users\\ayush\\anaconda3\\lib\\site-packages\\statsmodels\\tsa\\base\\tsa_model.py:471: ValueWarning: No frequency information was provided, so inferred frequency MS will be used.\n",
      "  self._init_dates(dates, freq)\n",
      "c:\\Users\\ayush\\anaconda3\\lib\\site-packages\\statsmodels\\tsa\\base\\tsa_model.py:471: ValueWarning: No frequency information was provided, so inferred frequency MS will be used.\n",
      "  self._init_dates(dates, freq)\n",
      "c:\\Users\\ayush\\anaconda3\\lib\\site-packages\\statsmodels\\tsa\\statespace\\sarimax.py:978: UserWarning: Non-invertible starting MA parameters found. Using zeros as starting parameters.\n",
      "  warn('Non-invertible starting MA parameters found.'\n"
     ]
    },
    {
     "data": {
      "text/html": [
       "<table class=\"simpletable\">\n",
       "<caption>SARIMAX Results</caption>\n",
       "<tr>\n",
       "  <th>Dep. Variable:</th>          <td>SO2</td>       <th>  No. Observations:  </th>   <td>72</td>   \n",
       "</tr>\n",
       "<tr>\n",
       "  <th>Model:</th>            <td>ARIMA(1, 1, 1)</td>  <th>  Log Likelihood     </th> <td>-56.454</td>\n",
       "</tr>\n",
       "<tr>\n",
       "  <th>Date:</th>            <td>Sat, 04 Mar 2023</td> <th>  AIC                </th> <td>118.908</td>\n",
       "</tr>\n",
       "<tr>\n",
       "  <th>Time:</th>                <td>20:56:56</td>     <th>  BIC                </th> <td>125.696</td>\n",
       "</tr>\n",
       "<tr>\n",
       "  <th>Sample:</th>             <td>01-01-2017</td>    <th>  HQIC               </th> <td>121.607</td>\n",
       "</tr>\n",
       "<tr>\n",
       "  <th></th>                   <td>- 12-01-2022</td>   <th>                     </th>    <td> </td>   \n",
       "</tr>\n",
       "<tr>\n",
       "  <th>Covariance Type:</th>        <td>opg</td>       <th>                     </th>    <td> </td>   \n",
       "</tr>\n",
       "</table>\n",
       "<table class=\"simpletable\">\n",
       "<tr>\n",
       "     <td></td>       <th>coef</th>     <th>std err</th>      <th>z</th>      <th>P>|z|</th>  <th>[0.025</th>    <th>0.975]</th>  \n",
       "</tr>\n",
       "<tr>\n",
       "  <th>ar.L1</th>  <td>    0.4251</td> <td>    0.164</td> <td>    2.592</td> <td> 0.010</td> <td>    0.104</td> <td>    0.747</td>\n",
       "</tr>\n",
       "<tr>\n",
       "  <th>ma.L1</th>  <td>   -0.7838</td> <td>    0.116</td> <td>   -6.754</td> <td> 0.000</td> <td>   -1.011</td> <td>   -0.556</td>\n",
       "</tr>\n",
       "<tr>\n",
       "  <th>sigma2</th> <td>    0.2858</td> <td>    0.045</td> <td>    6.397</td> <td> 0.000</td> <td>    0.198</td> <td>    0.373</td>\n",
       "</tr>\n",
       "</table>\n",
       "<table class=\"simpletable\">\n",
       "<tr>\n",
       "  <th>Ljung-Box (L1) (Q):</th>     <td>0.00</td> <th>  Jarque-Bera (JB):  </th> <td>0.78</td>\n",
       "</tr>\n",
       "<tr>\n",
       "  <th>Prob(Q):</th>                <td>0.94</td> <th>  Prob(JB):          </th> <td>0.68</td>\n",
       "</tr>\n",
       "<tr>\n",
       "  <th>Heteroskedasticity (H):</th> <td>8.08</td> <th>  Skew:              </th> <td>0.24</td>\n",
       "</tr>\n",
       "<tr>\n",
       "  <th>Prob(H) (two-sided):</th>    <td>0.00</td> <th>  Kurtosis:          </th> <td>3.18</td>\n",
       "</tr>\n",
       "</table><br/><br/>Warnings:<br/>[1] Covariance matrix calculated using the outer product of gradients (complex-step)."
      ],
      "text/plain": [
       "<class 'statsmodels.iolib.summary.Summary'>\n",
       "\"\"\"\n",
       "                               SARIMAX Results                                \n",
       "==============================================================================\n",
       "Dep. Variable:                    SO2   No. Observations:                   72\n",
       "Model:                 ARIMA(1, 1, 1)   Log Likelihood                 -56.454\n",
       "Date:                Sat, 04 Mar 2023   AIC                            118.908\n",
       "Time:                        20:56:56   BIC                            125.696\n",
       "Sample:                    01-01-2017   HQIC                           121.607\n",
       "                         - 12-01-2022                                         \n",
       "Covariance Type:                  opg                                         \n",
       "==============================================================================\n",
       "                 coef    std err          z      P>|z|      [0.025      0.975]\n",
       "------------------------------------------------------------------------------\n",
       "ar.L1          0.4251      0.164      2.592      0.010       0.104       0.747\n",
       "ma.L1         -0.7838      0.116     -6.754      0.000      -1.011      -0.556\n",
       "sigma2         0.2858      0.045      6.397      0.000       0.198       0.373\n",
       "===================================================================================\n",
       "Ljung-Box (L1) (Q):                   0.00   Jarque-Bera (JB):                 0.78\n",
       "Prob(Q):                              0.94   Prob(JB):                         0.68\n",
       "Heteroskedasticity (H):               8.08   Skew:                             0.24\n",
       "Prob(H) (two-sided):                  0.00   Kurtosis:                         3.18\n",
       "===================================================================================\n",
       "\n",
       "Warnings:\n",
       "[1] Covariance matrix calculated using the outer product of gradients (complex-step).\n",
       "\"\"\""
      ]
     },
     "execution_count": 513,
     "metadata": {},
     "output_type": "execute_result"
    }
   ],
   "source": [
    "so2_model = sm.tsa.arima.ARIMA(df['SO2'], order=(1, 1, 1))\n",
    "so2_model = so2_model.fit()\n",
    "so2_model.summary()"
   ]
  },
  {
   "cell_type": "code",
   "execution_count": 514,
   "metadata": {},
   "outputs": [
    {
     "data": {
      "text/plain": [
       "<AxesSubplot:xlabel='date'>"
      ]
     },
     "execution_count": 514,
     "metadata": {},
     "output_type": "execute_result"
    },
    {
     "data": {
      "image/png": "[encoded data removed]",
      "text/plain": [
       "<Figure size 432x288 with 1 Axes>"
      ]
     },
     "metadata": {
      "needs_background": "light"
     },
     "output_type": "display_data"
    }
   ],
   "source": [
    "df['predict_so2'] = list(so2_model.predict(1, len(df)))\n",
    "df[['SO2', 'predict_so2']].plot()"
   ]
  },
  {
   "cell_type": "code",
   "execution_count": 515,
   "metadata": {},
   "outputs": [
    {
     "data": {
      "text/html": [
       "<div>\n",
       "<style scoped>\n",
       "    .dataframe tbody tr th:only-of-type {\n",
       "        vertical-align: middle;\n",
       "    }\n",
       "\n",
       "    .dataframe tbody tr th {\n",
       "        vertical-align: top;\n",
       "    }\n",
       "\n",
       "    .dataframe thead th {\n",
       "        text-align: right;\n",
       "    }\n",
       "</style>\n",
       "<table border=\"1\" class=\"dataframe\">\n",
       "  <thead>\n",
       "    <tr style=\"text-align: right;\">\n",
       "      <th></th>\n",
       "      <th>lb_stat</th>\n",
       "      <th>lb_pvalue</th>\n",
       "    </tr>\n",
       "  </thead>\n",
       "  <tbody>\n",
       "    <tr>\n",
       "      <th>10</th>\n",
       "      <td>2.129006</td>\n",
       "      <td>0.995252</td>\n",
       "    </tr>\n",
       "  </tbody>\n",
       "</table>\n",
       "</div>"
      ],
      "text/plain": [
       "     lb_stat  lb_pvalue\n",
       "10  2.129006   0.995252"
      ]
     },
     "execution_count": 515,
     "metadata": {},
     "output_type": "execute_result"
    }
   ],
   "source": [
    "sm.stats.acorr_ljungbox(so2_model.resid, lags=[10], return_df=True)"
   ]
  },
  {
   "attachments": {},
   "cell_type": "markdown",
   "metadata": {},
   "source": [
    "#### ARIMA on NOx"
   ]
  },
  {
   "cell_type": "code",
   "execution_count": 516,
   "metadata": {},
   "outputs": [
    {
     "name": "stdout",
     "output_type": "stream",
     "text": [
      "Performing stepwise search to minimize aic\n",
      " ARIMA(1,1,1)(1,0,1)[12] intercept   : AIC=252.346, Time=0.22 sec\n",
      " ARIMA(0,1,0)(0,0,0)[12] intercept   : AIC=262.054, Time=0.01 sec\n",
      " ARIMA(1,1,0)(1,0,0)[12] intercept   : AIC=261.812, Time=0.04 sec\n",
      " ARIMA(0,1,1)(0,0,1)[12] intercept   : AIC=254.147, Time=0.05 sec\n",
      " ARIMA(0,1,0)(0,0,0)[12]             : AIC=260.097, Time=0.01 sec\n",
      " ARIMA(1,1,1)(0,0,1)[12] intercept   : AIC=250.485, Time=0.15 sec\n",
      " ARIMA(1,1,1)(0,0,0)[12] intercept   : AIC=250.456, Time=0.05 sec\n",
      " ARIMA(1,1,1)(1,0,0)[12] intercept   : AIC=250.365, Time=0.10 sec\n",
      " ARIMA(1,1,1)(2,0,0)[12] intercept   : AIC=252.345, Time=0.32 sec\n",
      " ARIMA(1,1,1)(2,0,1)[12] intercept   : AIC=254.345, Time=0.41 sec\n",
      " ARIMA(0,1,1)(1,0,0)[12] intercept   : AIC=253.689, Time=0.06 sec\n",
      " ARIMA(2,1,1)(1,0,0)[12] intercept   : AIC=250.687, Time=0.16 sec\n",
      " ARIMA(1,1,2)(1,0,0)[12] intercept   : AIC=251.286, Time=0.16 sec\n",
      " ARIMA(0,1,0)(1,0,0)[12] intercept   : AIC=263.196, Time=0.03 sec\n",
      " ARIMA(0,1,2)(1,0,0)[12] intercept   : AIC=249.304, Time=0.06 sec\n",
      " ARIMA(0,1,2)(0,0,0)[12] intercept   : AIC=249.712, Time=0.03 sec\n",
      " ARIMA(0,1,2)(2,0,0)[12] intercept   : AIC=251.267, Time=0.40 sec\n",
      " ARIMA(0,1,2)(1,0,1)[12] intercept   : AIC=251.263, Time=0.16 sec\n",
      " ARIMA(0,1,2)(0,0,1)[12] intercept   : AIC=249.463, Time=0.06 sec\n",
      " ARIMA(0,1,2)(2,0,1)[12] intercept   : AIC=253.262, Time=0.59 sec\n",
      " ARIMA(0,1,3)(1,0,0)[12] intercept   : AIC=251.270, Time=0.12 sec\n",
      " ARIMA(1,1,3)(1,0,0)[12] intercept   : AIC=253.165, Time=0.20 sec\n",
      " ARIMA(0,1,2)(1,0,0)[12]             : AIC=248.706, Time=0.04 sec\n",
      " ARIMA(0,1,2)(0,0,0)[12]             : AIC=249.403, Time=0.02 sec\n",
      " ARIMA(0,1,2)(2,0,0)[12]             : AIC=250.606, Time=0.10 sec\n",
      " ARIMA(0,1,2)(1,0,1)[12]             : AIC=250.575, Time=0.09 sec\n",
      " ARIMA(0,1,2)(0,0,1)[12]             : AIC=248.947, Time=0.06 sec\n",
      " ARIMA(0,1,2)(2,0,1)[12]             : AIC=252.564, Time=0.27 sec\n",
      " ARIMA(0,1,1)(1,0,0)[12]             : AIC=252.605, Time=0.04 sec\n",
      " ARIMA(1,1,2)(1,0,0)[12]             : AIC=250.698, Time=0.08 sec\n",
      " ARIMA(0,1,3)(1,0,0)[12]             : AIC=250.691, Time=0.07 sec\n",
      " ARIMA(1,1,1)(1,0,0)[12]             : AIC=249.771, Time=0.08 sec\n",
      " ARIMA(1,1,3)(1,0,0)[12]             : AIC=252.588, Time=0.12 sec\n",
      "\n",
      "Best model:  ARIMA(0,1,2)(1,0,0)[12]          \n",
      "Total fit time: 4.374 seconds\n"
     ]
    }
   ],
   "source": [
    "params = pm.auto_arima(\n",
    "    y=df['NOx'],\n",
    "    start_p=1, start_q=1, m=12,\n",
    "    test='adf',\n",
    "    trace=True, error_action='ignore',\n",
    "    supress_warnings=True\n",
    ")\n"
   ]
  },
  {
   "cell_type": "code",
   "execution_count": 517,
   "metadata": {},
   "outputs": [
    {
     "name": "stderr",
     "output_type": "stream",
     "text": [
      "c:\\Users\\ayush\\anaconda3\\lib\\site-packages\\statsmodels\\tsa\\base\\tsa_model.py:471: ValueWarning: No frequency information was provided, so inferred frequency MS will be used.\n",
      "  self._init_dates(dates, freq)\n",
      "c:\\Users\\ayush\\anaconda3\\lib\\site-packages\\statsmodels\\tsa\\base\\tsa_model.py:471: ValueWarning: No frequency information was provided, so inferred frequency MS will be used.\n",
      "  self._init_dates(dates, freq)\n",
      "c:\\Users\\ayush\\anaconda3\\lib\\site-packages\\statsmodels\\tsa\\base\\tsa_model.py:471: ValueWarning: No frequency information was provided, so inferred frequency MS will be used.\n",
      "  self._init_dates(dates, freq)\n"
     ]
    },
    {
     "data": {
      "text/html": [
       "<table class=\"simpletable\">\n",
       "<caption>SARIMAX Results</caption>\n",
       "<tr>\n",
       "  <th>Dep. Variable:</th>                <td>NOx</td>              <th>  No. Observations:  </th>    <td>72</td>   \n",
       "</tr>\n",
       "<tr>\n",
       "  <th>Model:</th>           <td>ARIMA(0, 1, 2)x(1, 0, [], 12)</td> <th>  Log Likelihood     </th> <td>-120.353</td>\n",
       "</tr>\n",
       "<tr>\n",
       "  <th>Date:</th>                  <td>Sat, 04 Mar 2023</td>        <th>  AIC                </th>  <td>248.706</td>\n",
       "</tr>\n",
       "<tr>\n",
       "  <th>Time:</th>                      <td>20:57:01</td>            <th>  BIC                </th>  <td>257.757</td>\n",
       "</tr>\n",
       "<tr>\n",
       "  <th>Sample:</th>                   <td>01-01-2017</td>           <th>  HQIC               </th>  <td>252.305</td>\n",
       "</tr>\n",
       "<tr>\n",
       "  <th></th>                         <td>- 12-01-2022</td>          <th>                     </th>     <td> </td>   \n",
       "</tr>\n",
       "<tr>\n",
       "  <th>Covariance Type:</th>              <td>opg</td>              <th>                     </th>     <td> </td>   \n",
       "</tr>\n",
       "</table>\n",
       "<table class=\"simpletable\">\n",
       "<tr>\n",
       "      <td></td>        <th>coef</th>     <th>std err</th>      <th>z</th>      <th>P>|z|</th>  <th>[0.025</th>    <th>0.975]</th>  \n",
       "</tr>\n",
       "<tr>\n",
       "  <th>ma.L1</th>    <td>   -0.4555</td> <td>    0.126</td> <td>   -3.604</td> <td> 0.000</td> <td>   -0.703</td> <td>   -0.208</td>\n",
       "</tr>\n",
       "<tr>\n",
       "  <th>ma.L2</th>    <td>   -0.2703</td> <td>    0.112</td> <td>   -2.402</td> <td> 0.016</td> <td>   -0.491</td> <td>   -0.050</td>\n",
       "</tr>\n",
       "<tr>\n",
       "  <th>ar.S.L12</th> <td>    0.2136</td> <td>    0.127</td> <td>    1.686</td> <td> 0.092</td> <td>   -0.035</td> <td>    0.462</td>\n",
       "</tr>\n",
       "<tr>\n",
       "  <th>sigma2</th>   <td>    1.7087</td> <td>    0.270</td> <td>    6.326</td> <td> 0.000</td> <td>    1.179</td> <td>    2.238</td>\n",
       "</tr>\n",
       "</table>\n",
       "<table class=\"simpletable\">\n",
       "<tr>\n",
       "  <th>Ljung-Box (L1) (Q):</th>     <td>0.03</td> <th>  Jarque-Bera (JB):  </th> <td>5.50</td> \n",
       "</tr>\n",
       "<tr>\n",
       "  <th>Prob(Q):</th>                <td>0.86</td> <th>  Prob(JB):          </th> <td>0.06</td> \n",
       "</tr>\n",
       "<tr>\n",
       "  <th>Heteroskedasticity (H):</th> <td>5.58</td> <th>  Skew:              </th> <td>-0.57</td>\n",
       "</tr>\n",
       "<tr>\n",
       "  <th>Prob(H) (two-sided):</th>    <td>0.00</td> <th>  Kurtosis:          </th> <td>3.76</td> \n",
       "</tr>\n",
       "</table><br/><br/>Warnings:<br/>[1] Covariance matrix calculated using the outer product of gradients (complex-step)."
      ],
      "text/plain": [
       "<class 'statsmodels.iolib.summary.Summary'>\n",
       "\"\"\"\n",
       "                                     SARIMAX Results                                     \n",
       "=========================================================================================\n",
       "Dep. Variable:                               NOx   No. Observations:                   72\n",
       "Model:             ARIMA(0, 1, 2)x(1, 0, [], 12)   Log Likelihood                -120.353\n",
       "Date:                           Sat, 04 Mar 2023   AIC                            248.706\n",
       "Time:                                   20:57:01   BIC                            257.757\n",
       "Sample:                               01-01-2017   HQIC                           252.305\n",
       "                                    - 12-01-2022                                         \n",
       "Covariance Type:                             opg                                         \n",
       "==============================================================================\n",
       "                 coef    std err          z      P>|z|      [0.025      0.975]\n",
       "------------------------------------------------------------------------------\n",
       "ma.L1         -0.4555      0.126     -3.604      0.000      -0.703      -0.208\n",
       "ma.L2         -0.2703      0.112     -2.402      0.016      -0.491      -0.050\n",
       "ar.S.L12       0.2136      0.127      1.686      0.092      -0.035       0.462\n",
       "sigma2         1.7087      0.270      6.326      0.000       1.179       2.238\n",
       "===================================================================================\n",
       "Ljung-Box (L1) (Q):                   0.03   Jarque-Bera (JB):                 5.50\n",
       "Prob(Q):                              0.86   Prob(JB):                         0.06\n",
       "Heteroskedasticity (H):               5.58   Skew:                            -0.57\n",
       "Prob(H) (two-sided):                  0.00   Kurtosis:                         3.76\n",
       "===================================================================================\n",
       "\n",
       "Warnings:\n",
       "[1] Covariance matrix calculated using the outer product of gradients (complex-step).\n",
       "\"\"\""
      ]
     },
     "execution_count": 517,
     "metadata": {},
     "output_type": "execute_result"
    }
   ],
   "source": [
    "nox_model = sm.tsa.arima.ARIMA(df['NOx'], order=(0, 1, 2), seasonal_order=(1,0,0,12))\n",
    "nox_model = nox_model.fit()\n",
    "nox_model.summary()"
   ]
  },
  {
   "cell_type": "code",
   "execution_count": 518,
   "metadata": {},
   "outputs": [
    {
     "data": {
      "text/plain": [
       "<AxesSubplot:xlabel='date'>"
      ]
     },
     "execution_count": 518,
     "metadata": {},
     "output_type": "execute_result"
    },
    {
     "data": {
      "image/png": "[encoded data removed]",
      "text/plain": [
       "<Figure size 432x288 with 1 Axes>"
      ]
     },
     "metadata": {
      "needs_background": "light"
     },
     "output_type": "display_data"
    }
   ],
   "source": [
    "df['predict_nox'] = list(nox_model.predict(1, len(df)))\n",
    "df[['NOx', 'predict_nox']].plot()"
   ]
  },
  {
   "cell_type": "code",
   "execution_count": 519,
   "metadata": {},
   "outputs": [
    {
     "data": {
      "text/html": [
       "<div>\n",
       "<style scoped>\n",
       "    .dataframe tbody tr th:only-of-type {\n",
       "        vertical-align: middle;\n",
       "    }\n",
       "\n",
       "    .dataframe tbody tr th {\n",
       "        vertical-align: top;\n",
       "    }\n",
       "\n",
       "    .dataframe thead th {\n",
       "        text-align: right;\n",
       "    }\n",
       "</style>\n",
       "<table border=\"1\" class=\"dataframe\">\n",
       "  <thead>\n",
       "    <tr style=\"text-align: right;\">\n",
       "      <th></th>\n",
       "      <th>lb_stat</th>\n",
       "      <th>lb_pvalue</th>\n",
       "    </tr>\n",
       "  </thead>\n",
       "  <tbody>\n",
       "    <tr>\n",
       "      <th>10</th>\n",
       "      <td>0.74947</td>\n",
       "      <td>0.999955</td>\n",
       "    </tr>\n",
       "  </tbody>\n",
       "</table>\n",
       "</div>"
      ],
      "text/plain": [
       "    lb_stat  lb_pvalue\n",
       "10  0.74947   0.999955"
      ]
     },
     "execution_count": 519,
     "metadata": {},
     "output_type": "execute_result"
    }
   ],
   "source": [
    "sm.stats.acorr_ljungbox(nox_model.resid, lags=[10], return_df=True)\n"
   ]
  },
  {
   "attachments": {},
   "cell_type": "markdown",
   "metadata": {},
   "source": [
    "#### ARIMA on PM10"
   ]
  },
  {
   "cell_type": "code",
   "execution_count": 520,
   "metadata": {},
   "outputs": [
    {
     "name": "stdout",
     "output_type": "stream",
     "text": [
      "Performing stepwise search to minimize aic\n",
      " ARIMA(1,1,1)(1,0,1)[12] intercept   : AIC=inf, Time=0.28 sec\n",
      " ARIMA(0,1,0)(0,0,0)[12] intercept   : AIC=461.685, Time=0.01 sec\n",
      " ARIMA(1,1,0)(1,0,0)[12] intercept   : AIC=458.274, Time=0.05 sec\n",
      " ARIMA(0,1,1)(0,0,1)[12] intercept   : AIC=451.183, Time=0.08 sec\n",
      " ARIMA(0,1,0)(0,0,0)[12]             : AIC=459.685, Time=0.01 sec\n",
      " ARIMA(0,1,1)(0,0,0)[12] intercept   : AIC=450.103, Time=0.03 sec\n",
      " ARIMA(0,1,1)(1,0,0)[12] intercept   : AIC=451.079, Time=0.06 sec\n",
      " ARIMA(0,1,1)(1,0,1)[12] intercept   : AIC=452.910, Time=0.13 sec\n",
      " ARIMA(1,1,1)(0,0,0)[12] intercept   : AIC=inf, Time=0.08 sec\n",
      " ARIMA(0,1,2)(0,0,0)[12] intercept   : AIC=inf, Time=0.08 sec\n",
      " ARIMA(1,1,0)(0,0,0)[12] intercept   : AIC=456.286, Time=0.02 sec\n",
      " ARIMA(1,1,2)(0,0,0)[12] intercept   : AIC=447.869, Time=0.04 sec\n",
      " ARIMA(1,1,2)(1,0,0)[12] intercept   : AIC=448.962, Time=0.09 sec\n",
      " ARIMA(1,1,2)(0,0,1)[12] intercept   : AIC=448.971, Time=0.09 sec\n",
      " ARIMA(1,1,2)(1,0,1)[12] intercept   : AIC=450.960, Time=0.24 sec\n",
      " ARIMA(2,1,2)(0,0,0)[12] intercept   : AIC=inf, Time=0.14 sec\n",
      " ARIMA(1,1,3)(0,0,0)[12] intercept   : AIC=inf, Time=0.14 sec\n",
      " ARIMA(0,1,3)(0,0,0)[12] intercept   : AIC=inf, Time=0.09 sec\n",
      " ARIMA(2,1,1)(0,0,0)[12] intercept   : AIC=inf, Time=0.11 sec\n",
      " ARIMA(2,1,3)(0,0,0)[12] intercept   : AIC=inf, Time=0.17 sec\n",
      " ARIMA(1,1,2)(0,0,0)[12]             : AIC=446.750, Time=0.03 sec\n",
      " ARIMA(1,1,2)(1,0,0)[12]             : AIC=447.786, Time=0.07 sec\n",
      " ARIMA(1,1,2)(0,0,1)[12]             : AIC=447.831, Time=0.08 sec\n",
      " ARIMA(1,1,2)(1,0,1)[12]             : AIC=449.590, Time=0.17 sec\n",
      " ARIMA(0,1,2)(0,0,0)[12]             : AIC=444.015, Time=0.02 sec\n",
      " ARIMA(0,1,2)(1,0,0)[12]             : AIC=445.658, Time=0.04 sec\n",
      " ARIMA(0,1,2)(0,0,1)[12]             : AIC=445.658, Time=0.05 sec\n",
      " ARIMA(0,1,2)(1,0,1)[12]             : AIC=447.657, Time=0.09 sec\n",
      " ARIMA(0,1,1)(0,0,0)[12]             : AIC=448.250, Time=0.02 sec\n",
      " ARIMA(0,1,3)(0,0,0)[12]             : AIC=444.895, Time=0.03 sec\n",
      " ARIMA(1,1,1)(0,0,0)[12]             : AIC=442.713, Time=0.03 sec\n",
      " ARIMA(1,1,1)(1,0,0)[12]             : AIC=444.558, Time=0.06 sec\n",
      " ARIMA(1,1,1)(0,0,1)[12]             : AIC=444.562, Time=0.07 sec\n",
      " ARIMA(1,1,1)(1,0,1)[12]             : AIC=446.554, Time=0.13 sec\n",
      " ARIMA(1,1,0)(0,0,0)[12]             : AIC=454.290, Time=0.02 sec\n",
      " ARIMA(2,1,1)(0,0,0)[12]             : AIC=444.665, Time=0.04 sec\n",
      " ARIMA(2,1,0)(0,0,0)[12]             : AIC=452.888, Time=0.02 sec\n",
      " ARIMA(2,1,2)(0,0,0)[12]             : AIC=445.143, Time=0.05 sec\n",
      "\n",
      "Best model:  ARIMA(1,1,1)(0,0,0)[12]          \n",
      "Total fit time: 3.003 seconds\n"
     ]
    }
   ],
   "source": [
    "params = pm.auto_arima(\n",
    "    y=df['PM10'],\n",
    "    start_p=1, start_q=1, m=12,\n",
    "    test='adf',\n",
    "    trace=True, error_action='ignore',\n",
    "    supress_warnings=True\n",
    ")\n"
   ]
  },
  {
   "cell_type": "code",
   "execution_count": 521,
   "metadata": {},
   "outputs": [
    {
     "name": "stderr",
     "output_type": "stream",
     "text": [
      "c:\\Users\\ayush\\anaconda3\\lib\\site-packages\\statsmodels\\tsa\\base\\tsa_model.py:471: ValueWarning: No frequency information was provided, so inferred frequency MS will be used.\n",
      "  self._init_dates(dates, freq)\n",
      "c:\\Users\\ayush\\anaconda3\\lib\\site-packages\\statsmodels\\tsa\\base\\tsa_model.py:471: ValueWarning: No frequency information was provided, so inferred frequency MS will be used.\n",
      "  self._init_dates(dates, freq)\n",
      "c:\\Users\\ayush\\anaconda3\\lib\\site-packages\\statsmodels\\tsa\\base\\tsa_model.py:471: ValueWarning: No frequency information was provided, so inferred frequency MS will be used.\n",
      "  self._init_dates(dates, freq)\n"
     ]
    },
    {
     "data": {
      "text/html": [
       "<table class=\"simpletable\">\n",
       "<caption>SARIMAX Results</caption>\n",
       "<tr>\n",
       "  <th>Dep. Variable:</th>         <td>PM10</td>       <th>  No. Observations:  </th>    <td>72</td>   \n",
       "</tr>\n",
       "<tr>\n",
       "  <th>Model:</th>            <td>ARIMA(1, 1, 1)</td>  <th>  Log Likelihood     </th> <td>-218.357</td>\n",
       "</tr>\n",
       "<tr>\n",
       "  <th>Date:</th>            <td>Sat, 04 Mar 2023</td> <th>  AIC                </th>  <td>442.713</td>\n",
       "</tr>\n",
       "<tr>\n",
       "  <th>Time:</th>                <td>20:57:04</td>     <th>  BIC                </th>  <td>449.501</td>\n",
       "</tr>\n",
       "<tr>\n",
       "  <th>Sample:</th>             <td>01-01-2017</td>    <th>  HQIC               </th>  <td>445.413</td>\n",
       "</tr>\n",
       "<tr>\n",
       "  <th></th>                   <td>- 12-01-2022</td>   <th>                     </th>     <td> </td>   \n",
       "</tr>\n",
       "<tr>\n",
       "  <th>Covariance Type:</th>        <td>opg</td>       <th>                     </th>     <td> </td>   \n",
       "</tr>\n",
       "</table>\n",
       "<table class=\"simpletable\">\n",
       "<tr>\n",
       "     <td></td>       <th>coef</th>     <th>std err</th>      <th>z</th>      <th>P>|z|</th>  <th>[0.025</th>    <th>0.975]</th>  \n",
       "</tr>\n",
       "<tr>\n",
       "  <th>ar.L1</th>  <td>    0.3921</td> <td>    0.100</td> <td>    3.928</td> <td> 0.000</td> <td>    0.196</td> <td>    0.588</td>\n",
       "</tr>\n",
       "<tr>\n",
       "  <th>ma.L1</th>  <td>   -0.9445</td> <td>    0.073</td> <td>  -12.853</td> <td> 0.000</td> <td>   -1.088</td> <td>   -0.800</td>\n",
       "</tr>\n",
       "<tr>\n",
       "  <th>sigma2</th> <td>   26.9052</td> <td>    3.208</td> <td>    8.387</td> <td> 0.000</td> <td>   20.618</td> <td>   33.193</td>\n",
       "</tr>\n",
       "</table>\n",
       "<table class=\"simpletable\">\n",
       "<tr>\n",
       "  <th>Ljung-Box (L1) (Q):</th>     <td>0.07</td> <th>  Jarque-Bera (JB):  </th> <td>20.82</td>\n",
       "</tr>\n",
       "<tr>\n",
       "  <th>Prob(Q):</th>                <td>0.80</td> <th>  Prob(JB):          </th> <td>0.00</td> \n",
       "</tr>\n",
       "<tr>\n",
       "  <th>Heteroskedasticity (H):</th> <td>0.98</td> <th>  Skew:              </th> <td>-1.04</td>\n",
       "</tr>\n",
       "<tr>\n",
       "  <th>Prob(H) (two-sided):</th>    <td>0.96</td> <th>  Kurtosis:          </th> <td>4.64</td> \n",
       "</tr>\n",
       "</table><br/><br/>Warnings:<br/>[1] Covariance matrix calculated using the outer product of gradients (complex-step)."
      ],
      "text/plain": [
       "<class 'statsmodels.iolib.summary.Summary'>\n",
       "\"\"\"\n",
       "                               SARIMAX Results                                \n",
       "==============================================================================\n",
       "Dep. Variable:                   PM10   No. Observations:                   72\n",
       "Model:                 ARIMA(1, 1, 1)   Log Likelihood                -218.357\n",
       "Date:                Sat, 04 Mar 2023   AIC                            442.713\n",
       "Time:                        20:57:04   BIC                            449.501\n",
       "Sample:                    01-01-2017   HQIC                           445.413\n",
       "                         - 12-01-2022                                         \n",
       "Covariance Type:                  opg                                         \n",
       "==============================================================================\n",
       "                 coef    std err          z      P>|z|      [0.025      0.975]\n",
       "------------------------------------------------------------------------------\n",
       "ar.L1          0.3921      0.100      3.928      0.000       0.196       0.588\n",
       "ma.L1         -0.9445      0.073    -12.853      0.000      -1.088      -0.800\n",
       "sigma2        26.9052      3.208      8.387      0.000      20.618      33.193\n",
       "===================================================================================\n",
       "Ljung-Box (L1) (Q):                   0.07   Jarque-Bera (JB):                20.82\n",
       "Prob(Q):                              0.80   Prob(JB):                         0.00\n",
       "Heteroskedasticity (H):               0.98   Skew:                            -1.04\n",
       "Prob(H) (two-sided):                  0.96   Kurtosis:                         4.64\n",
       "===================================================================================\n",
       "\n",
       "Warnings:\n",
       "[1] Covariance matrix calculated using the outer product of gradients (complex-step).\n",
       "\"\"\""
      ]
     },
     "execution_count": 521,
     "metadata": {},
     "output_type": "execute_result"
    }
   ],
   "source": [
    "pm10_model = sm.tsa.arima.ARIMA(df['PM10'], order=(1, 1, 1), seasonal_order=(0,0,0,12))\n",
    "pm10_model = pm10_model.fit()\n",
    "pm10_model.summary()"
   ]
  },
  {
   "cell_type": "code",
   "execution_count": 522,
   "metadata": {},
   "outputs": [
    {
     "data": {
      "text/plain": [
       "<AxesSubplot:xlabel='date'>"
      ]
     },
     "execution_count": 522,
     "metadata": {},
     "output_type": "execute_result"
    },
    {
     "data": {
      "image/png": "[encoded data removed]",
      "text/plain": [
       "<Figure size 432x288 with 1 Axes>"
      ]
     },
     "metadata": {
      "needs_background": "light"
     },
     "output_type": "display_data"
    }
   ],
   "source": [
    "df['predict_pm10'] = list(pm10_model.predict(1, len(df)))\n",
    "df[['PM10', 'predict_pm10']].plot()\n"
   ]
  },
  {
   "cell_type": "code",
   "execution_count": 523,
   "metadata": {},
   "outputs": [
    {
     "data": {
      "text/html": [
       "<div>\n",
       "<style scoped>\n",
       "    .dataframe tbody tr th:only-of-type {\n",
       "        vertical-align: middle;\n",
       "    }\n",
       "\n",
       "    .dataframe tbody tr th {\n",
       "        vertical-align: top;\n",
       "    }\n",
       "\n",
       "    .dataframe thead th {\n",
       "        text-align: right;\n",
       "    }\n",
       "</style>\n",
       "<table border=\"1\" class=\"dataframe\">\n",
       "  <thead>\n",
       "    <tr style=\"text-align: right;\">\n",
       "      <th></th>\n",
       "      <th>lb_stat</th>\n",
       "      <th>lb_pvalue</th>\n",
       "    </tr>\n",
       "  </thead>\n",
       "  <tbody>\n",
       "    <tr>\n",
       "      <th>10</th>\n",
       "      <td>0.74947</td>\n",
       "      <td>0.999955</td>\n",
       "    </tr>\n",
       "  </tbody>\n",
       "</table>\n",
       "</div>"
      ],
      "text/plain": [
       "    lb_stat  lb_pvalue\n",
       "10  0.74947   0.999955"
      ]
     },
     "execution_count": 523,
     "metadata": {},
     "output_type": "execute_result"
    }
   ],
   "source": [
    "sm.stats.acorr_ljungbox(nox_model.resid, lags=[10], return_df=True)\n"
   ]
  },
  {
   "cell_type": "code",
   "execution_count": 524,
   "metadata": {},
   "outputs": [],
   "source": [
    "def aqi(so2, nox, pm10):\n",
    "    so2_aqi = (200-101)/(800-301) * (so2 - 301) + 101\n",
    "    nox_aqi = (200-101)/(400-201) * (nox - 201) + 101\n",
    "    pm10_aqi = (200-101)/(500-351) * (pm10 - 351) + 101\n",
    "\n",
    "    return max(so2_aqi, pm10_aqi, nox_aqi)"
   ]
  },
  {
   "cell_type": "code",
   "execution_count": 525,
   "metadata": {},
   "outputs": [],
   "source": [
    "temp = df.apply(lambda row: aqi(row['predict_so2'], row['predict_nox'], row['predict_pm10']), axis=1)"
   ]
  },
  {
   "cell_type": "code",
   "execution_count": null,
   "metadata": {},
   "outputs": [],
   "source": []
  }
 ],
 "metadata": {
  "kernelspec": {
   "display_name": "base",
   "language": "python",
   "name": "python3"
  },
  "language_info": {
   "codemirror_mode": {
    "name": "ipython",
    "version": 3
   },
   "file_extension": ".py",
   "mimetype": "text/x-python",
   "name": "python",
   "nbconvert_exporter": "python",
   "pygments_lexer": "ipython3",
   "version": "3.9.7"
  },
  "orig_nbformat": 4,
  "vscode": {
   "interpreter": {
    "hash": "0467c16d4e73dba61dcc106221b4b7c95372fa61fc6cc648ee99bca30bbaf279"
   }
  }
 },
 "nbformat": 4,
 "nbformat_minor": 2
}
