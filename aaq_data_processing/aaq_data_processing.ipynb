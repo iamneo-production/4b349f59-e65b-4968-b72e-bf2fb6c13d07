{
  "nbformat": 4,
  "nbformat_minor": 0,
  "metadata": {
    "colab": {
      "provenance": []
    },
    "kernelspec": {
      "name": "python3",
      "display_name": "Python 3"
    },
    "language_info": {
      "name": "python"
    }
  },
  "cells": [
    {
      "cell_type": "code",
      "execution_count": 1,
      "metadata": {
        "colab": {
          "base_uri": "https://localhost:8080/"
        },
        "id": "JODmU6NC68m0",
        "outputId": "80cbc8c4-3136-4f00-91de-4dcc4a9de4e9"
      },
      "outputs": [
        {
          "output_type": "stream",
          "name": "stdout",
          "text": [
            "'AAQ Data 2016.xls'  'AAQ Data Jan - Dec 2018.xls'   MonthlyAAQData2022.xls\n",
            "'AAQ Data 2017.xls'   MonthlyAAQData2020.xls\t     sample_data\n",
            " AAQData2019.xls      MonthlyAAQData2021.xls\n"
          ]
        }
      ],
      "source": [
        "import os\n",
        "import pandas as pd\n",
        "from functools import reduce\n",
        "import numpy as np\n",
        "from datetime import date\n",
        "os.chdir(\"/content\")\n",
        "!ls"
      ]
    },
    {
      "cell_type": "code",
      "source": [],
      "metadata": {
        "id": "FNueZcisRteh"
      },
      "execution_count": 1,
      "outputs": []
    },
    {
      "cell_type": "code",
      "source": [
        "def datafr(s,y):\n",
        "  global df_allcomps\n",
        "  df1=pd.read_excel(s,\"SO2\")\n",
        "  df2=pd.read_excel(s,\"NOx\")\n",
        "  df3=pd.read_excel(s,\"PM10\")\n",
        "  df4=pd.read_excel(s,\"PM2.5\")\n",
        "  df5=pd.read_excel(s,\"NH3\")\n",
        "  df_all1=[df1,df2,df3,df4,df5]\n",
        "  df_all=[]\n",
        "  for df6 in df_all1:\n",
        "    i=0\n",
        "    df6.dropna(inplace=True)\n",
        "\n",
        "    df6.drop(df6.columns[0],axis=1,inplace=True)\n",
        "    df6=df6.replace('-',np.nan)\n",
        "    df6=df6.replace('- ',np.nan)\n",
        "    df6.columns.values[1:]=[date(y,1,1),date(y,2,1),date(y,3,1),date(y,4,1),date(y,5,1),date(y,6,1),date(y,7,1),date(y,8,1),date(y,9,1),date(y,10,1),date(y,11,1),date(y,12,1)]\n",
        "\n",
        "    m = df6.mean(axis=1)  \n",
        "    for i, col in enumerate(df6):\n",
        "        df6.iloc[1:, i] = df6.iloc[1:, i].fillna(m)\n",
        "    df6=df6.T\n",
        "\n",
        "    df6.columns=df6.iloc[0]\n",
        "    df6=df6.drop(df6.index[0])\n",
        "    df6=df6.T.stack().reset_index()\n",
        "    df6.columns.values[0:3] =[\"Sampling Location\",\"Date\", i ]\n",
        "    df_all.append(df6)\n",
        "    i+=1\n",
        "  df_final = reduce(lambda  left,right: pd.merge(left,right,on=['Sampling Location','Date'],how=\"outer\"),df_all)\n",
        "  df_final.columns.values[2:7]=[\"SO2\",\"NOx\",\"PM10\",\"PM2.5\",\"NH3\"]\n",
        "  for i in df_final.columns[2:7]:\n",
        "    display(i)\n",
        "  display(df_final)\n",
        "    \n",
        "    \n",
        "  df_allcomps[s]=df_final"
      ],
      "metadata": {
        "id": "hVyeYl7pPecv"
      },
      "execution_count": 2,
      "outputs": []
    },
    {
      "cell_type": "code",
      "source": [
        "df_allcomps={}\n",
        "options1=[(\"AAQ Data 2016.xls\",2016),(\"AAQ Data 2017.xls\",2017),(\"AAQ Data Jan - Dec 2018.xls\",2018),(\"AAQData2019.xls\",2019),(\"MonthlyAAQData2020.xls\",2020),(\"MonthlyAAQData2021.xls\",2021),(\"MonthlyAAQData2021.xls\",2022)]\n",
        "for i in options1:\n",
        "  datafr(i[0],i[1])\n",
        "\n"
      ],
      "metadata": {
        "id": "Diw5FtXQ7rwM",
        "colab": {
          "base_uri": "https://localhost:8080/",
          "height": 198
        },
        "outputId": "3d685a65-5632-45bf-d3c9-1e76d66e796a"
      },
      "execution_count": null,
      "outputs": [
        {
          "output_type": "stream",
          "name": "stderr",
          "text": [
            "<ipython-input-2-7eed064dd847>:19: FutureWarning: Dropping of nuisance columns in DataFrame reductions (with 'numeric_only=None') is deprecated; in a future version this will raise TypeError.  Select only valid columns before calling the reduction.\n",
            "  m = df6.mean(axis=1)\n",
            "<ipython-input-2-7eed064dd847>:30: FutureWarning: Passing 'suffixes' which cause duplicate columns {'12_x'} in the result is deprecated and will raise a MergeError in a future version.\n",
            "  df_final = reduce(lambda  left,right: pd.merge(left,right,on=['Sampling Location','Date'],how=\"outer\"),df_all)\n"
          ]
        },
        {
          "output_type": "display_data",
          "data": {
            "text/plain": [
              "'SO2'"
            ],
            "application/vnd.google.colaboratory.intrinsic+json": {
              "type": "string"
            }
          },
          "metadata": {}
        },
        {
          "output_type": "display_data",
          "data": {
            "text/plain": [
              "'NOx'"
            ],
            "application/vnd.google.colaboratory.intrinsic+json": {
              "type": "string"
            }
          },
          "metadata": {}
        },
        {
          "output_type": "display_data",
          "data": {
            "text/plain": [
              "'PM10'"
            ],
            "application/vnd.google.colaboratory.intrinsic+json": {
              "type": "string"
            }
          },
          "metadata": {}
        },
        {
          "output_type": "display_data",
          "data": {
            "text/plain": [
              "'PM2.5'"
            ],
            "application/vnd.google.colaboratory.intrinsic+json": {
              "type": "string"
            }
          },
          "metadata": {}
        },
        {
          "output_type": "display_data",
          "data": {
            "text/plain": [
              "'NH3'"
            ],
            "application/vnd.google.colaboratory.intrinsic+json": {
              "type": "string"
            }
          },
          "metadata": {}
        }
      ]
    },
    {
      "cell_type": "code",
      "source": [
        "df=[]\n",
        "for i in df_allcomps:\n",
        "  print(i)\n",
        "  df.append(df_allcomps[i])\n",
        "df_final=pd.concat(df)\n",
        "df_final[df_final[\"Sampling Location\"]==\" Mandamarri, Adilabad\"]\n",
        "\n"
      ],
      "metadata": {
        "id": "FQcC7ikeP2_a"
      },
      "execution_count": null,
      "outputs": []
    },
    {
      "cell_type": "code",
      "source": [
        "options = ['Adilabad', 'Nizamabad', 'Warangal', 'Karimnagar','Khammam']\n",
        "df=[]\n",
        "for i in options:\n",
        "  x=df_final[df_final[\"Sampling Location\"].str.contains('')]\n",
        "  df.append(x)\n",
        "  display(x)\n",
        "df\n"
      ],
      "metadata": {
        "id": "61_yUOY7xA1Z"
      },
      "execution_count": null,
      "outputs": []
    },
    {
      "cell_type": "code",
      "source": [
        "df_final1=pd.concat(df)\n"
      ],
      "metadata": {
        "id": "JAD1cQPIsqjQ"
      },
      "execution_count": null,
      "outputs": []
    },
    {
      "cell_type": "code",
      "source": [
        "df_final1"
      ],
      "metadata": {
        "id": "wkP0wjc2sEFg"
      },
      "execution_count": null,
      "outputs": []
    },
    {
      "cell_type": "code",
      "source": [],
      "metadata": {
        "id": "BYTHJRdx6j8J"
      },
      "execution_count": null,
      "outputs": []
    },
    {
      "cell_type": "code",
      "source": [],
      "metadata": {
        "id": "XOmtjYenD2LO"
      },
      "execution_count": null,
      "outputs": []
    },
    {
      "cell_type": "code",
      "source": [],
      "metadata": {
        "id": "Z7VacLbZDDVf"
      },
      "execution_count": null,
      "outputs": []
    },
    {
      "cell_type": "code",
      "source": [],
      "metadata": {
        "id": "yUSgDRlVCp5M"
      },
      "execution_count": null,
      "outputs": []
    },
    {
      "cell_type": "code",
      "source": [
        "\n",
        "\n",
        "\n"
      ],
      "metadata": {
        "id": "tvr_gDFb-k_8"
      },
      "execution_count": null,
      "outputs": []
    }
  ]
}